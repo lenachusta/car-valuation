{
 "cells": [
  {
   "cell_type": "markdown",
   "metadata": {},
   "source": [
    "# Определение стоимости автомобилей"
   ]
  },
  {
   "cell_type": "markdown",
   "metadata": {},
   "source": [
    "Сервис по продаже автомобилей с пробегом «Не бит, не крашен» разрабатывает приложение для привлечения новых клиентов. В нём можно быстро узнать рыночную стоимость своего автомобиля. В вашем распоряжении исторические данные: технические характеристики, комплектации и цены автомобилей. Вам нужно построить модель для определения стоимости. \n",
    "\n",
    "Заказчику важны:\n",
    "\n",
    "- качество предсказания;\n",
    "- скорость предсказания;\n",
    "- время обучения."
   ]
  },
  {
   "cell_type": "markdown",
   "metadata": {},
   "source": [
    "## Подготовка данных"
   ]
  },
  {
   "cell_type": "markdown",
   "metadata": {},
   "source": [
    "### Загрузка и изучение данных"
   ]
  },
  {
   "cell_type": "markdown",
   "metadata": {},
   "source": [
    "Импорт библиотек `pandas`, `numpy`, `lightgbm` и `matplotlib`, а также необходимых функций из библиотеки `sklearn`:"
   ]
  },
  {
   "cell_type": "code",
   "execution_count": 1,
   "metadata": {},
   "outputs": [],
   "source": [
    "import pandas as pd\n",
    "import numpy as np\n",
    "import lightgbm as lgb\n",
    "import matplotlib.pyplot as plt\n",
    "from sklearn.tree import DecisionTreeRegressor\n",
    "from sklearn.linear_model import LinearRegression\n",
    "from catboost import CatBoostRegressor\n",
    "from sklearn.preprocessing import StandardScaler\n",
    "from sklearn.preprocessing import OrdinalEncoder\n",
    "from sklearn.model_selection import train_test_split\n",
    "from sklearn.metrics import mean_squared_error\n",
    "from sklearn.model_selection import cross_val_score\n",
    "from sklearn.model_selection import GridSearchCV"
   ]
  },
  {
   "cell_type": "markdown",
   "metadata": {},
   "source": [
    "Отключим вывод предупреждений."
   ]
  },
  {
   "cell_type": "code",
   "execution_count": 2,
   "metadata": {},
   "outputs": [],
   "source": [
    "import warnings\n",
    "warnings.filterwarnings('ignore')"
   ]
  },
  {
   "cell_type": "markdown",
   "metadata": {},
   "source": [
    "Чтение csv-файла и вывод первых 10 строк датасета:"
   ]
  },
  {
   "cell_type": "code",
   "execution_count": 3,
   "metadata": {},
   "outputs": [
    {
     "data": {
      "text/html": [
       "<div>\n",
       "<style scoped>\n",
       "    .dataframe tbody tr th:only-of-type {\n",
       "        vertical-align: middle;\n",
       "    }\n",
       "\n",
       "    .dataframe tbody tr th {\n",
       "        vertical-align: top;\n",
       "    }\n",
       "\n",
       "    .dataframe thead th {\n",
       "        text-align: right;\n",
       "    }\n",
       "</style>\n",
       "<table border=\"1\" class=\"dataframe\">\n",
       "  <thead>\n",
       "    <tr style=\"text-align: right;\">\n",
       "      <th></th>\n",
       "      <th>DateCrawled</th>\n",
       "      <th>Price</th>\n",
       "      <th>VehicleType</th>\n",
       "      <th>RegistrationYear</th>\n",
       "      <th>Gearbox</th>\n",
       "      <th>Power</th>\n",
       "      <th>Model</th>\n",
       "      <th>Kilometer</th>\n",
       "      <th>RegistrationMonth</th>\n",
       "      <th>FuelType</th>\n",
       "      <th>Brand</th>\n",
       "      <th>Repaired</th>\n",
       "      <th>DateCreated</th>\n",
       "      <th>NumberOfPictures</th>\n",
       "      <th>PostalCode</th>\n",
       "      <th>LastSeen</th>\n",
       "    </tr>\n",
       "  </thead>\n",
       "  <tbody>\n",
       "    <tr>\n",
       "      <th>0</th>\n",
       "      <td>2016-03-24 11:52:17</td>\n",
       "      <td>480</td>\n",
       "      <td>NaN</td>\n",
       "      <td>1993</td>\n",
       "      <td>manual</td>\n",
       "      <td>0</td>\n",
       "      <td>golf</td>\n",
       "      <td>150000</td>\n",
       "      <td>0</td>\n",
       "      <td>petrol</td>\n",
       "      <td>volkswagen</td>\n",
       "      <td>NaN</td>\n",
       "      <td>2016-03-24 00:00:00</td>\n",
       "      <td>0</td>\n",
       "      <td>70435</td>\n",
       "      <td>2016-04-07 03:16:57</td>\n",
       "    </tr>\n",
       "    <tr>\n",
       "      <th>1</th>\n",
       "      <td>2016-03-24 10:58:45</td>\n",
       "      <td>18300</td>\n",
       "      <td>coupe</td>\n",
       "      <td>2011</td>\n",
       "      <td>manual</td>\n",
       "      <td>190</td>\n",
       "      <td>NaN</td>\n",
       "      <td>125000</td>\n",
       "      <td>5</td>\n",
       "      <td>gasoline</td>\n",
       "      <td>audi</td>\n",
       "      <td>yes</td>\n",
       "      <td>2016-03-24 00:00:00</td>\n",
       "      <td>0</td>\n",
       "      <td>66954</td>\n",
       "      <td>2016-04-07 01:46:50</td>\n",
       "    </tr>\n",
       "    <tr>\n",
       "      <th>2</th>\n",
       "      <td>2016-03-14 12:52:21</td>\n",
       "      <td>9800</td>\n",
       "      <td>suv</td>\n",
       "      <td>2004</td>\n",
       "      <td>auto</td>\n",
       "      <td>163</td>\n",
       "      <td>grand</td>\n",
       "      <td>125000</td>\n",
       "      <td>8</td>\n",
       "      <td>gasoline</td>\n",
       "      <td>jeep</td>\n",
       "      <td>NaN</td>\n",
       "      <td>2016-03-14 00:00:00</td>\n",
       "      <td>0</td>\n",
       "      <td>90480</td>\n",
       "      <td>2016-04-05 12:47:46</td>\n",
       "    </tr>\n",
       "    <tr>\n",
       "      <th>3</th>\n",
       "      <td>2016-03-17 16:54:04</td>\n",
       "      <td>1500</td>\n",
       "      <td>small</td>\n",
       "      <td>2001</td>\n",
       "      <td>manual</td>\n",
       "      <td>75</td>\n",
       "      <td>golf</td>\n",
       "      <td>150000</td>\n",
       "      <td>6</td>\n",
       "      <td>petrol</td>\n",
       "      <td>volkswagen</td>\n",
       "      <td>no</td>\n",
       "      <td>2016-03-17 00:00:00</td>\n",
       "      <td>0</td>\n",
       "      <td>91074</td>\n",
       "      <td>2016-03-17 17:40:17</td>\n",
       "    </tr>\n",
       "    <tr>\n",
       "      <th>4</th>\n",
       "      <td>2016-03-31 17:25:20</td>\n",
       "      <td>3600</td>\n",
       "      <td>small</td>\n",
       "      <td>2008</td>\n",
       "      <td>manual</td>\n",
       "      <td>69</td>\n",
       "      <td>fabia</td>\n",
       "      <td>90000</td>\n",
       "      <td>7</td>\n",
       "      <td>gasoline</td>\n",
       "      <td>skoda</td>\n",
       "      <td>no</td>\n",
       "      <td>2016-03-31 00:00:00</td>\n",
       "      <td>0</td>\n",
       "      <td>60437</td>\n",
       "      <td>2016-04-06 10:17:21</td>\n",
       "    </tr>\n",
       "    <tr>\n",
       "      <th>5</th>\n",
       "      <td>2016-04-04 17:36:23</td>\n",
       "      <td>650</td>\n",
       "      <td>sedan</td>\n",
       "      <td>1995</td>\n",
       "      <td>manual</td>\n",
       "      <td>102</td>\n",
       "      <td>3er</td>\n",
       "      <td>150000</td>\n",
       "      <td>10</td>\n",
       "      <td>petrol</td>\n",
       "      <td>bmw</td>\n",
       "      <td>yes</td>\n",
       "      <td>2016-04-04 00:00:00</td>\n",
       "      <td>0</td>\n",
       "      <td>33775</td>\n",
       "      <td>2016-04-06 19:17:07</td>\n",
       "    </tr>\n",
       "    <tr>\n",
       "      <th>6</th>\n",
       "      <td>2016-04-01 20:48:51</td>\n",
       "      <td>2200</td>\n",
       "      <td>convertible</td>\n",
       "      <td>2004</td>\n",
       "      <td>manual</td>\n",
       "      <td>109</td>\n",
       "      <td>2_reihe</td>\n",
       "      <td>150000</td>\n",
       "      <td>8</td>\n",
       "      <td>petrol</td>\n",
       "      <td>peugeot</td>\n",
       "      <td>no</td>\n",
       "      <td>2016-04-01 00:00:00</td>\n",
       "      <td>0</td>\n",
       "      <td>67112</td>\n",
       "      <td>2016-04-05 18:18:39</td>\n",
       "    </tr>\n",
       "    <tr>\n",
       "      <th>7</th>\n",
       "      <td>2016-03-21 18:54:38</td>\n",
       "      <td>0</td>\n",
       "      <td>sedan</td>\n",
       "      <td>1980</td>\n",
       "      <td>manual</td>\n",
       "      <td>50</td>\n",
       "      <td>other</td>\n",
       "      <td>40000</td>\n",
       "      <td>7</td>\n",
       "      <td>petrol</td>\n",
       "      <td>volkswagen</td>\n",
       "      <td>no</td>\n",
       "      <td>2016-03-21 00:00:00</td>\n",
       "      <td>0</td>\n",
       "      <td>19348</td>\n",
       "      <td>2016-03-25 16:47:58</td>\n",
       "    </tr>\n",
       "    <tr>\n",
       "      <th>8</th>\n",
       "      <td>2016-04-04 23:42:13</td>\n",
       "      <td>14500</td>\n",
       "      <td>bus</td>\n",
       "      <td>2014</td>\n",
       "      <td>manual</td>\n",
       "      <td>125</td>\n",
       "      <td>c_max</td>\n",
       "      <td>30000</td>\n",
       "      <td>8</td>\n",
       "      <td>petrol</td>\n",
       "      <td>ford</td>\n",
       "      <td>NaN</td>\n",
       "      <td>2016-04-04 00:00:00</td>\n",
       "      <td>0</td>\n",
       "      <td>94505</td>\n",
       "      <td>2016-04-04 23:42:13</td>\n",
       "    </tr>\n",
       "    <tr>\n",
       "      <th>9</th>\n",
       "      <td>2016-03-17 10:53:50</td>\n",
       "      <td>999</td>\n",
       "      <td>small</td>\n",
       "      <td>1998</td>\n",
       "      <td>manual</td>\n",
       "      <td>101</td>\n",
       "      <td>golf</td>\n",
       "      <td>150000</td>\n",
       "      <td>0</td>\n",
       "      <td>NaN</td>\n",
       "      <td>volkswagen</td>\n",
       "      <td>NaN</td>\n",
       "      <td>2016-03-17 00:00:00</td>\n",
       "      <td>0</td>\n",
       "      <td>27472</td>\n",
       "      <td>2016-03-31 17:17:06</td>\n",
       "    </tr>\n",
       "  </tbody>\n",
       "</table>\n",
       "</div>"
      ],
      "text/plain": [
       "           DateCrawled  Price  VehicleType  RegistrationYear Gearbox  Power  \\\n",
       "0  2016-03-24 11:52:17    480          NaN              1993  manual      0   \n",
       "1  2016-03-24 10:58:45  18300        coupe              2011  manual    190   \n",
       "2  2016-03-14 12:52:21   9800          suv              2004    auto    163   \n",
       "3  2016-03-17 16:54:04   1500        small              2001  manual     75   \n",
       "4  2016-03-31 17:25:20   3600        small              2008  manual     69   \n",
       "5  2016-04-04 17:36:23    650        sedan              1995  manual    102   \n",
       "6  2016-04-01 20:48:51   2200  convertible              2004  manual    109   \n",
       "7  2016-03-21 18:54:38      0        sedan              1980  manual     50   \n",
       "8  2016-04-04 23:42:13  14500          bus              2014  manual    125   \n",
       "9  2016-03-17 10:53:50    999        small              1998  manual    101   \n",
       "\n",
       "     Model  Kilometer  RegistrationMonth  FuelType       Brand Repaired  \\\n",
       "0     golf     150000                  0    petrol  volkswagen      NaN   \n",
       "1      NaN     125000                  5  gasoline        audi      yes   \n",
       "2    grand     125000                  8  gasoline        jeep      NaN   \n",
       "3     golf     150000                  6    petrol  volkswagen       no   \n",
       "4    fabia      90000                  7  gasoline       skoda       no   \n",
       "5      3er     150000                 10    petrol         bmw      yes   \n",
       "6  2_reihe     150000                  8    petrol     peugeot       no   \n",
       "7    other      40000                  7    petrol  volkswagen       no   \n",
       "8    c_max      30000                  8    petrol        ford      NaN   \n",
       "9     golf     150000                  0       NaN  volkswagen      NaN   \n",
       "\n",
       "           DateCreated  NumberOfPictures  PostalCode             LastSeen  \n",
       "0  2016-03-24 00:00:00                 0       70435  2016-04-07 03:16:57  \n",
       "1  2016-03-24 00:00:00                 0       66954  2016-04-07 01:46:50  \n",
       "2  2016-03-14 00:00:00                 0       90480  2016-04-05 12:47:46  \n",
       "3  2016-03-17 00:00:00                 0       91074  2016-03-17 17:40:17  \n",
       "4  2016-03-31 00:00:00                 0       60437  2016-04-06 10:17:21  \n",
       "5  2016-04-04 00:00:00                 0       33775  2016-04-06 19:17:07  \n",
       "6  2016-04-01 00:00:00                 0       67112  2016-04-05 18:18:39  \n",
       "7  2016-03-21 00:00:00                 0       19348  2016-03-25 16:47:58  \n",
       "8  2016-04-04 00:00:00                 0       94505  2016-04-04 23:42:13  \n",
       "9  2016-03-17 00:00:00                 0       27472  2016-03-31 17:17:06  "
      ]
     },
     "execution_count": 3,
     "metadata": {},
     "output_type": "execute_result"
    }
   ],
   "source": [
    "df = pd.read_csv('/datasets/autos.csv')\n",
    "df.head(10)"
   ]
  },
  {
   "cell_type": "markdown",
   "metadata": {},
   "source": [
    "Вывод информации о первой таблице методами `info()` и `describe()`."
   ]
  },
  {
   "cell_type": "code",
   "execution_count": 4,
   "metadata": {},
   "outputs": [
    {
     "name": "stdout",
     "output_type": "stream",
     "text": [
      "<class 'pandas.core.frame.DataFrame'>\n",
      "RangeIndex: 354369 entries, 0 to 354368\n",
      "Data columns (total 16 columns):\n",
      " #   Column             Non-Null Count   Dtype \n",
      "---  ------             --------------   ----- \n",
      " 0   DateCrawled        354369 non-null  object\n",
      " 1   Price              354369 non-null  int64 \n",
      " 2   VehicleType        316879 non-null  object\n",
      " 3   RegistrationYear   354369 non-null  int64 \n",
      " 4   Gearbox            334536 non-null  object\n",
      " 5   Power              354369 non-null  int64 \n",
      " 6   Model              334664 non-null  object\n",
      " 7   Kilometer          354369 non-null  int64 \n",
      " 8   RegistrationMonth  354369 non-null  int64 \n",
      " 9   FuelType           321474 non-null  object\n",
      " 10  Brand              354369 non-null  object\n",
      " 11  Repaired           283215 non-null  object\n",
      " 12  DateCreated        354369 non-null  object\n",
      " 13  NumberOfPictures   354369 non-null  int64 \n",
      " 14  PostalCode         354369 non-null  int64 \n",
      " 15  LastSeen           354369 non-null  object\n",
      "dtypes: int64(7), object(9)\n",
      "memory usage: 43.3+ MB\n"
     ]
    }
   ],
   "source": [
    "df.info()"
   ]
  },
  {
   "cell_type": "code",
   "execution_count": 5,
   "metadata": {},
   "outputs": [
    {
     "data": {
      "text/html": [
       "<div>\n",
       "<style scoped>\n",
       "    .dataframe tbody tr th:only-of-type {\n",
       "        vertical-align: middle;\n",
       "    }\n",
       "\n",
       "    .dataframe tbody tr th {\n",
       "        vertical-align: top;\n",
       "    }\n",
       "\n",
       "    .dataframe thead th {\n",
       "        text-align: right;\n",
       "    }\n",
       "</style>\n",
       "<table border=\"1\" class=\"dataframe\">\n",
       "  <thead>\n",
       "    <tr style=\"text-align: right;\">\n",
       "      <th></th>\n",
       "      <th>DateCrawled</th>\n",
       "      <th>Price</th>\n",
       "      <th>VehicleType</th>\n",
       "      <th>RegistrationYear</th>\n",
       "      <th>Gearbox</th>\n",
       "      <th>Power</th>\n",
       "      <th>Model</th>\n",
       "      <th>Kilometer</th>\n",
       "      <th>RegistrationMonth</th>\n",
       "      <th>FuelType</th>\n",
       "      <th>Brand</th>\n",
       "      <th>Repaired</th>\n",
       "      <th>DateCreated</th>\n",
       "      <th>NumberOfPictures</th>\n",
       "      <th>PostalCode</th>\n",
       "      <th>LastSeen</th>\n",
       "    </tr>\n",
       "  </thead>\n",
       "  <tbody>\n",
       "    <tr>\n",
       "      <th>count</th>\n",
       "      <td>354369</td>\n",
       "      <td>354369.000000</td>\n",
       "      <td>316879</td>\n",
       "      <td>354369.000000</td>\n",
       "      <td>334536</td>\n",
       "      <td>354369.000000</td>\n",
       "      <td>334664</td>\n",
       "      <td>354369.000000</td>\n",
       "      <td>354369.000000</td>\n",
       "      <td>321474</td>\n",
       "      <td>354369</td>\n",
       "      <td>283215</td>\n",
       "      <td>354369</td>\n",
       "      <td>354369.0</td>\n",
       "      <td>354369.000000</td>\n",
       "      <td>354369</td>\n",
       "    </tr>\n",
       "    <tr>\n",
       "      <th>unique</th>\n",
       "      <td>271174</td>\n",
       "      <td>NaN</td>\n",
       "      <td>8</td>\n",
       "      <td>NaN</td>\n",
       "      <td>2</td>\n",
       "      <td>NaN</td>\n",
       "      <td>250</td>\n",
       "      <td>NaN</td>\n",
       "      <td>NaN</td>\n",
       "      <td>7</td>\n",
       "      <td>40</td>\n",
       "      <td>2</td>\n",
       "      <td>109</td>\n",
       "      <td>NaN</td>\n",
       "      <td>NaN</td>\n",
       "      <td>179150</td>\n",
       "    </tr>\n",
       "    <tr>\n",
       "      <th>top</th>\n",
       "      <td>2016-03-24 14:49:47</td>\n",
       "      <td>NaN</td>\n",
       "      <td>sedan</td>\n",
       "      <td>NaN</td>\n",
       "      <td>manual</td>\n",
       "      <td>NaN</td>\n",
       "      <td>golf</td>\n",
       "      <td>NaN</td>\n",
       "      <td>NaN</td>\n",
       "      <td>petrol</td>\n",
       "      <td>volkswagen</td>\n",
       "      <td>no</td>\n",
       "      <td>2016-04-03 00:00:00</td>\n",
       "      <td>NaN</td>\n",
       "      <td>NaN</td>\n",
       "      <td>2016-04-06 13:45:54</td>\n",
       "    </tr>\n",
       "    <tr>\n",
       "      <th>freq</th>\n",
       "      <td>7</td>\n",
       "      <td>NaN</td>\n",
       "      <td>91457</td>\n",
       "      <td>NaN</td>\n",
       "      <td>268251</td>\n",
       "      <td>NaN</td>\n",
       "      <td>29232</td>\n",
       "      <td>NaN</td>\n",
       "      <td>NaN</td>\n",
       "      <td>216352</td>\n",
       "      <td>77013</td>\n",
       "      <td>247161</td>\n",
       "      <td>13719</td>\n",
       "      <td>NaN</td>\n",
       "      <td>NaN</td>\n",
       "      <td>17</td>\n",
       "    </tr>\n",
       "    <tr>\n",
       "      <th>mean</th>\n",
       "      <td>NaN</td>\n",
       "      <td>4416.656776</td>\n",
       "      <td>NaN</td>\n",
       "      <td>2004.234448</td>\n",
       "      <td>NaN</td>\n",
       "      <td>110.094337</td>\n",
       "      <td>NaN</td>\n",
       "      <td>128211.172535</td>\n",
       "      <td>5.714645</td>\n",
       "      <td>NaN</td>\n",
       "      <td>NaN</td>\n",
       "      <td>NaN</td>\n",
       "      <td>NaN</td>\n",
       "      <td>0.0</td>\n",
       "      <td>50508.689087</td>\n",
       "      <td>NaN</td>\n",
       "    </tr>\n",
       "    <tr>\n",
       "      <th>std</th>\n",
       "      <td>NaN</td>\n",
       "      <td>4514.158514</td>\n",
       "      <td>NaN</td>\n",
       "      <td>90.227958</td>\n",
       "      <td>NaN</td>\n",
       "      <td>189.850405</td>\n",
       "      <td>NaN</td>\n",
       "      <td>37905.341530</td>\n",
       "      <td>3.726421</td>\n",
       "      <td>NaN</td>\n",
       "      <td>NaN</td>\n",
       "      <td>NaN</td>\n",
       "      <td>NaN</td>\n",
       "      <td>0.0</td>\n",
       "      <td>25783.096248</td>\n",
       "      <td>NaN</td>\n",
       "    </tr>\n",
       "    <tr>\n",
       "      <th>min</th>\n",
       "      <td>NaN</td>\n",
       "      <td>0.000000</td>\n",
       "      <td>NaN</td>\n",
       "      <td>1000.000000</td>\n",
       "      <td>NaN</td>\n",
       "      <td>0.000000</td>\n",
       "      <td>NaN</td>\n",
       "      <td>5000.000000</td>\n",
       "      <td>0.000000</td>\n",
       "      <td>NaN</td>\n",
       "      <td>NaN</td>\n",
       "      <td>NaN</td>\n",
       "      <td>NaN</td>\n",
       "      <td>0.0</td>\n",
       "      <td>1067.000000</td>\n",
       "      <td>NaN</td>\n",
       "    </tr>\n",
       "    <tr>\n",
       "      <th>25%</th>\n",
       "      <td>NaN</td>\n",
       "      <td>1050.000000</td>\n",
       "      <td>NaN</td>\n",
       "      <td>1999.000000</td>\n",
       "      <td>NaN</td>\n",
       "      <td>69.000000</td>\n",
       "      <td>NaN</td>\n",
       "      <td>125000.000000</td>\n",
       "      <td>3.000000</td>\n",
       "      <td>NaN</td>\n",
       "      <td>NaN</td>\n",
       "      <td>NaN</td>\n",
       "      <td>NaN</td>\n",
       "      <td>0.0</td>\n",
       "      <td>30165.000000</td>\n",
       "      <td>NaN</td>\n",
       "    </tr>\n",
       "    <tr>\n",
       "      <th>50%</th>\n",
       "      <td>NaN</td>\n",
       "      <td>2700.000000</td>\n",
       "      <td>NaN</td>\n",
       "      <td>2003.000000</td>\n",
       "      <td>NaN</td>\n",
       "      <td>105.000000</td>\n",
       "      <td>NaN</td>\n",
       "      <td>150000.000000</td>\n",
       "      <td>6.000000</td>\n",
       "      <td>NaN</td>\n",
       "      <td>NaN</td>\n",
       "      <td>NaN</td>\n",
       "      <td>NaN</td>\n",
       "      <td>0.0</td>\n",
       "      <td>49413.000000</td>\n",
       "      <td>NaN</td>\n",
       "    </tr>\n",
       "    <tr>\n",
       "      <th>75%</th>\n",
       "      <td>NaN</td>\n",
       "      <td>6400.000000</td>\n",
       "      <td>NaN</td>\n",
       "      <td>2008.000000</td>\n",
       "      <td>NaN</td>\n",
       "      <td>143.000000</td>\n",
       "      <td>NaN</td>\n",
       "      <td>150000.000000</td>\n",
       "      <td>9.000000</td>\n",
       "      <td>NaN</td>\n",
       "      <td>NaN</td>\n",
       "      <td>NaN</td>\n",
       "      <td>NaN</td>\n",
       "      <td>0.0</td>\n",
       "      <td>71083.000000</td>\n",
       "      <td>NaN</td>\n",
       "    </tr>\n",
       "    <tr>\n",
       "      <th>max</th>\n",
       "      <td>NaN</td>\n",
       "      <td>20000.000000</td>\n",
       "      <td>NaN</td>\n",
       "      <td>9999.000000</td>\n",
       "      <td>NaN</td>\n",
       "      <td>20000.000000</td>\n",
       "      <td>NaN</td>\n",
       "      <td>150000.000000</td>\n",
       "      <td>12.000000</td>\n",
       "      <td>NaN</td>\n",
       "      <td>NaN</td>\n",
       "      <td>NaN</td>\n",
       "      <td>NaN</td>\n",
       "      <td>0.0</td>\n",
       "      <td>99998.000000</td>\n",
       "      <td>NaN</td>\n",
       "    </tr>\n",
       "  </tbody>\n",
       "</table>\n",
       "</div>"
      ],
      "text/plain": [
       "                DateCrawled          Price VehicleType  RegistrationYear  \\\n",
       "count                354369  354369.000000      316879     354369.000000   \n",
       "unique               271174            NaN           8               NaN   \n",
       "top     2016-03-24 14:49:47            NaN       sedan               NaN   \n",
       "freq                      7            NaN       91457               NaN   \n",
       "mean                    NaN    4416.656776         NaN       2004.234448   \n",
       "std                     NaN    4514.158514         NaN         90.227958   \n",
       "min                     NaN       0.000000         NaN       1000.000000   \n",
       "25%                     NaN    1050.000000         NaN       1999.000000   \n",
       "50%                     NaN    2700.000000         NaN       2003.000000   \n",
       "75%                     NaN    6400.000000         NaN       2008.000000   \n",
       "max                     NaN   20000.000000         NaN       9999.000000   \n",
       "\n",
       "       Gearbox          Power   Model      Kilometer  RegistrationMonth  \\\n",
       "count   334536  354369.000000  334664  354369.000000      354369.000000   \n",
       "unique       2            NaN     250            NaN                NaN   \n",
       "top     manual            NaN    golf            NaN                NaN   \n",
       "freq    268251            NaN   29232            NaN                NaN   \n",
       "mean       NaN     110.094337     NaN  128211.172535           5.714645   \n",
       "std        NaN     189.850405     NaN   37905.341530           3.726421   \n",
       "min        NaN       0.000000     NaN    5000.000000           0.000000   \n",
       "25%        NaN      69.000000     NaN  125000.000000           3.000000   \n",
       "50%        NaN     105.000000     NaN  150000.000000           6.000000   \n",
       "75%        NaN     143.000000     NaN  150000.000000           9.000000   \n",
       "max        NaN   20000.000000     NaN  150000.000000          12.000000   \n",
       "\n",
       "       FuelType       Brand Repaired          DateCreated  NumberOfPictures  \\\n",
       "count    321474      354369   283215               354369          354369.0   \n",
       "unique        7          40        2                  109               NaN   \n",
       "top      petrol  volkswagen       no  2016-04-03 00:00:00               NaN   \n",
       "freq     216352       77013   247161                13719               NaN   \n",
       "mean        NaN         NaN      NaN                  NaN               0.0   \n",
       "std         NaN         NaN      NaN                  NaN               0.0   \n",
       "min         NaN         NaN      NaN                  NaN               0.0   \n",
       "25%         NaN         NaN      NaN                  NaN               0.0   \n",
       "50%         NaN         NaN      NaN                  NaN               0.0   \n",
       "75%         NaN         NaN      NaN                  NaN               0.0   \n",
       "max         NaN         NaN      NaN                  NaN               0.0   \n",
       "\n",
       "           PostalCode             LastSeen  \n",
       "count   354369.000000               354369  \n",
       "unique            NaN               179150  \n",
       "top               NaN  2016-04-06 13:45:54  \n",
       "freq              NaN                   17  \n",
       "mean     50508.689087                  NaN  \n",
       "std      25783.096248                  NaN  \n",
       "min       1067.000000                  NaN  \n",
       "25%      30165.000000                  NaN  \n",
       "50%      49413.000000                  NaN  \n",
       "75%      71083.000000                  NaN  \n",
       "max      99998.000000                  NaN  "
      ]
     },
     "execution_count": 5,
     "metadata": {},
     "output_type": "execute_result"
    }
   ],
   "source": [
    "df.describe(include='all')"
   ]
  },
  {
   "cell_type": "markdown",
   "metadata": {},
   "source": [
    "Построим гистограмму для каждого столбца."
   ]
  },
  {
   "cell_type": "code",
   "execution_count": 6,
   "metadata": {},
   "outputs": [
    {
     "data": {
      "image/png": "[encoded data removed]",
      "text/plain": [
       "<Figure size 720x720 with 9 Axes>"
      ]
     },
     "metadata": {
      "needs_background": "light"
     },
     "output_type": "display_data"
    }
   ],
   "source": [
    "df.hist(figsize=(10, 10))\n",
    "plt.show()"
   ]
  },
  {
   "cell_type": "markdown",
   "metadata": {},
   "source": [
    "В некоторых столбцах есть пропуски, которые для обучения можели необходимо устранить. Также не все признаки информативны, эти признаки необходимо удалить. В столбцах есть аномальные значения, например в `RegistrationYear`— год регистрации автомобиля, минимальное значение 1000, максимальное - 9999. Выбросы также необходимо устранить."
   ]
  },
  {
   "cell_type": "markdown",
   "metadata": {},
   "source": [
    "### Предобработка данных"
   ]
  },
  {
   "cell_type": "markdown",
   "metadata": {},
   "source": [
    "Проверим данные на наличие дубликатов."
   ]
  },
  {
   "cell_type": "code",
   "execution_count": 7,
   "metadata": {
    "scrolled": true
   },
   "outputs": [
    {
     "data": {
      "text/plain": [
       "4"
      ]
     },
     "execution_count": 7,
     "metadata": {},
     "output_type": "execute_result"
    }
   ],
   "source": [
    "df.duplicated().sum()"
   ]
  },
  {
   "cell_type": "markdown",
   "metadata": {},
   "source": [
    "Удалим повторяющиеся строки."
   ]
  },
  {
   "cell_type": "code",
   "execution_count": 8,
   "metadata": {},
   "outputs": [],
   "source": [
    "df = df.drop_duplicates()"
   ]
  },
  {
   "cell_type": "markdown",
   "metadata": {},
   "source": [
    "Рассмотрим столбцы, в которых есть пропуски."
   ]
  },
  {
   "cell_type": "code",
   "execution_count": 9,
   "metadata": {},
   "outputs": [
    {
     "data": {
      "text/plain": [
       "DateCrawled              0\n",
       "Price                    0\n",
       "VehicleType          37490\n",
       "RegistrationYear         0\n",
       "Gearbox              19833\n",
       "Power                    0\n",
       "Model                19705\n",
       "Kilometer                0\n",
       "RegistrationMonth        0\n",
       "FuelType             32895\n",
       "Brand                    0\n",
       "Repaired             71154\n",
       "DateCreated              0\n",
       "NumberOfPictures         0\n",
       "PostalCode               0\n",
       "LastSeen                 0\n",
       "dtype: int64"
      ]
     },
     "execution_count": 9,
     "metadata": {},
     "output_type": "execute_result"
    }
   ],
   "source": [
    "df.isnull().sum()"
   ]
  },
  {
   "cell_type": "markdown",
   "metadata": {},
   "source": [
    "Пропуски в столбцах `VehicleType` - тип автомобильного кузова и `Model` - модель автомобиля заменим на значение `other`."
   ]
  },
  {
   "cell_type": "code",
   "execution_count": 10,
   "metadata": {},
   "outputs": [],
   "source": [
    "df['VehicleType'] = df['VehicleType'].fillna('other')"
   ]
  },
  {
   "cell_type": "code",
   "execution_count": 11,
   "metadata": {},
   "outputs": [],
   "source": [
    "df['Model'] = df['Model'].fillna('other')"
   ]
  },
  {
   "cell_type": "markdown",
   "metadata": {},
   "source": [
    "В столбцах `Gearbox` - тип коробки передач и `Repaired` - была машина в ремонте или нет пропуски заменим на неопределенный тип - `undefined`."
   ]
  },
  {
   "cell_type": "code",
   "execution_count": 12,
   "metadata": {},
   "outputs": [],
   "source": [
    "df['Gearbox'] = df['Gearbox'].fillna('undefined')"
   ]
  },
  {
   "cell_type": "code",
   "execution_count": 13,
   "metadata": {},
   "outputs": [],
   "source": [
    "df['Repaired'] = df['Repaired'].fillna('undefined')"
   ]
  },
  {
   "cell_type": "markdown",
   "metadata": {},
   "source": [
    "Проверим, все ли пропуски устранены."
   ]
  },
  {
   "cell_type": "code",
   "execution_count": 14,
   "metadata": {},
   "outputs": [
    {
     "data": {
      "text/plain": [
       "DateCrawled              0\n",
       "Price                    0\n",
       "VehicleType              0\n",
       "RegistrationYear         0\n",
       "Gearbox                  0\n",
       "Power                    0\n",
       "Model                    0\n",
       "Kilometer                0\n",
       "RegistrationMonth        0\n",
       "FuelType             32895\n",
       "Brand                    0\n",
       "Repaired                 0\n",
       "DateCreated              0\n",
       "NumberOfPictures         0\n",
       "PostalCode               0\n",
       "LastSeen                 0\n",
       "dtype: int64"
      ]
     },
     "execution_count": 14,
     "metadata": {},
     "output_type": "execute_result"
    }
   ],
   "source": [
    "df.isnull().sum()"
   ]
  },
  {
   "cell_type": "markdown",
   "metadata": {},
   "source": [
    "Пропусков в столбцах нет. Столбец `FuelType` на стоимость сильно не влияет, его далее удалим.\n",
    "\n",
    "Также необходимо устранить выбросы. Стобцы с количественными значениями - `Price`, `RegistrationYear`, `Power` и `Kilometer`. Построим для каждого столбца диаграмму размаха."
   ]
  },
  {
   "cell_type": "code",
   "execution_count": 15,
   "metadata": {},
   "outputs": [
    {
     "data": {
      "image/png": "[encoded data removed]",
      "text/plain": [
       "<Figure size 864x432 with 4 Axes>"
      ]
     },
     "metadata": {
      "needs_background": "light"
     },
     "output_type": "display_data"
    }
   ],
   "source": [
    "fig, axs = plt.subplots(nrows=1, ncols=4, figsize=(12, 6))\n",
    "axs[0].boxplot(df['Price'])\n",
    "axs[0].set_title('Price')\n",
    "axs[1].boxplot(df['RegistrationYear'])\n",
    "axs[1].set_title('RegistrationYear')\n",
    "axs[2].boxplot(df['Power'])\n",
    "axs[2].set_title('Power')\n",
    "axs[3].boxplot(df['Kilometer'])\n",
    "axs[3].set_title('Kilometer')\n",
    "plt.suptitle('Диаграмма размаха')\n",
    "plt.show()"
   ]
  },
  {
   "cell_type": "markdown",
   "metadata": {},
   "source": [
    "Удалим те строки, в которых значение столбца `RegistrationYear` меньше 1950 и больше 2019."
   ]
  },
  {
   "cell_type": "code",
   "execution_count": 16,
   "metadata": {},
   "outputs": [],
   "source": [
    "df = df[(df['RegistrationYear'] >= 1950) & (df['RegistrationYear'] <= 2019)]"
   ]
  },
  {
   "cell_type": "markdown",
   "metadata": {},
   "source": [
    "Если год регистрации больше года размещения, заменим его на год размещения."
   ]
  },
  {
   "cell_type": "code",
   "execution_count": 17,
   "metadata": {},
   "outputs": [],
   "source": [
    "df.loc[df['RegistrationYear'] > pd.to_datetime(df['DateCreated']).dt.year, 'RegistrationYear'] = pd.to_datetime(df['DateCreated']).dt.year"
   ]
  },
  {
   "cell_type": "markdown",
   "metadata": {},
   "source": [
    "Удалим столбцы, которые не влияют на стоимость авто - `DateCrawled`, `RegistrationMonth`, `FuelType`, `DateCreated`, `NumberOfPictures`, `PostalCode` и `LastSeen`."
   ]
  },
  {
   "cell_type": "code",
   "execution_count": 18,
   "metadata": {},
   "outputs": [],
   "source": [
    "df = df.drop(['DateCrawled', 'RegistrationMonth', 'FuelType', 'DateCreated', 'NumberOfPictures', 'PostalCode', 'LastSeen'], axis=1)"
   ]
  },
  {
   "cell_type": "markdown",
   "metadata": {},
   "source": [
    "Удалим те строки, в которых значение столбца `Price` меньше 100."
   ]
  },
  {
   "cell_type": "code",
   "execution_count": 19,
   "metadata": {},
   "outputs": [],
   "source": [
    "df = df[df['Price'] >= 100]"
   ]
  },
  {
   "cell_type": "markdown",
   "metadata": {},
   "source": [
    "В столбце `Power` значения больше 5000 разделим на 100, а значения больше 1000 - на 10."
   ]
  },
  {
   "cell_type": "code",
   "execution_count": 20,
   "metadata": {
    "scrolled": false
   },
   "outputs": [],
   "source": [
    "df.loc[df['Power'] >= 5000, ['Power']] /= 100\n",
    "df.loc[df['Power'] >= 1000, ['Power']] /= 10"
   ]
  },
  {
   "cell_type": "markdown",
   "metadata": {},
   "source": [
    "Нули в столбце `Power` заменим на для удобства заменим на `NaN`."
   ]
  },
  {
   "cell_type": "code",
   "execution_count": 21,
   "metadata": {},
   "outputs": [],
   "source": [
    "df.loc[df['Power'] == 0, 'Power'] = np.nan"
   ]
  },
  {
   "cell_type": "markdown",
   "metadata": {},
   "source": [
    "Найдем медиану для пропущенных знначений по марке, модели и году регистрации и приравняем пропуски к ней."
   ]
  },
  {
   "cell_type": "code",
   "execution_count": 22,
   "metadata": {
    "scrolled": true
   },
   "outputs": [],
   "source": [
    "df['Power'] = df.groupby(['Brand', 'Model', 'RegistrationYear'])['Power'].apply(lambda x: x.fillna(x.median()))"
   ]
  },
  {
   "cell_type": "markdown",
   "metadata": {},
   "source": [
    "Удалим пропуски, для которых расчитать медиану не удалось."
   ]
  },
  {
   "cell_type": "code",
   "execution_count": 23,
   "metadata": {},
   "outputs": [],
   "source": [
    "df = df.dropna()"
   ]
  },
  {
   "cell_type": "markdown",
   "metadata": {},
   "source": [
    "Далее в столбце `Power` округлим значения до целого, тип столбца изменим на `int`."
   ]
  },
  {
   "cell_type": "code",
   "execution_count": 24,
   "metadata": {
    "scrolled": true
   },
   "outputs": [],
   "source": [
    "df['Power'] = round(df['Power'])\n",
    "df['Power'] = df['Power'].astype('int64')"
   ]
  },
  {
   "cell_type": "markdown",
   "metadata": {},
   "source": [
    "Строки, где значение `Power` больше 300 удалим и меньше 40."
   ]
  },
  {
   "cell_type": "code",
   "execution_count": 25,
   "metadata": {},
   "outputs": [],
   "source": [
    "df = df[(df['Power'] <= 300) & (df['Power'] >= 40)]"
   ]
  },
  {
   "cell_type": "markdown",
   "metadata": {},
   "source": [
    "Столбец `Kilometer` оставим как есть."
   ]
  },
  {
   "cell_type": "markdown",
   "metadata": {},
   "source": [
    "Расчет процента удаленных данных:"
   ]
  },
  {
   "cell_type": "code",
   "execution_count": 26,
   "metadata": {
    "scrolled": true
   },
   "outputs": [
    {
     "name": "stdout",
     "output_type": "stream",
     "text": [
      "5.26%\n"
     ]
    }
   ],
   "source": [
    "print(f'{(1 - df.shape[0]/354369):.2%}')"
   ]
  },
  {
   "cell_type": "markdown",
   "metadata": {},
   "source": [
    "После изменения исходной таблица сбросим индексы."
   ]
  },
  {
   "cell_type": "code",
   "execution_count": 27,
   "metadata": {},
   "outputs": [],
   "source": [
    "df = df.reset_index(drop=True)"
   ]
  },
  {
   "cell_type": "markdown",
   "metadata": {},
   "source": [
    "### Прямое и порядковое кодирование признаков"
   ]
  },
  {
   "cell_type": "markdown",
   "metadata": {},
   "source": [
    "Прямое кодирование признаков подходит для линейных моделей, а порядковое для моделей деревьев. Используем оба метода."
   ]
  },
  {
   "cell_type": "markdown",
   "metadata": {},
   "source": [
    "В датасете есть столбцы с категориальными признаками - `VehicleType`, `Gearbox`, `Model`, `Brand` и `Repaired`. Для обучения модели эти признаки необходимо кодировать. Для преобразования категориальных признаков в числовые будем использовать OHE (One-Hot Encoding), прямое кодирование."
   ]
  },
  {
   "cell_type": "code",
   "execution_count": 28,
   "metadata": {},
   "outputs": [],
   "source": [
    "df_ohe = pd.get_dummies(df, drop_first=True)\n",
    "df_ohe = df_ohe.drop(['Price'], axis=1)"
   ]
  },
  {
   "cell_type": "markdown",
   "metadata": {},
   "source": [
    "Для моделей, основанных на деревьях решений, используем Ordinal Encoding - порядковое кодирование. Этот метод позволяет закодировать цифрами выраженные в тексте категории."
   ]
  },
  {
   "cell_type": "code",
   "execution_count": 29,
   "metadata": {},
   "outputs": [],
   "source": [
    "# список катешгориальных признаков\n",
    "cat_features = ['VehicleType', 'Gearbox', 'Model', 'Brand', 'Repaired']"
   ]
  },
  {
   "cell_type": "code",
   "execution_count": 30,
   "metadata": {},
   "outputs": [],
   "source": [
    "encoder = OrdinalEncoder()\n",
    "df_ordinal = df.copy(deep=True)\n",
    "df_ordinal[cat_features] = pd.DataFrame(encoder.fit_transform(df_ordinal[cat_features]), columns=cat_features)\n",
    "df_ordinal = df_ordinal.drop(['Price'], axis=1)"
   ]
  },
  {
   "cell_type": "markdown",
   "metadata": {},
   "source": [
    "### Разбиение данных на выборки"
   ]
  },
  {
   "cell_type": "markdown",
   "metadata": {},
   "source": [
    "Разделим датасет на `features` - признаки и `target` - целевой признак."
   ]
  },
  {
   "cell_type": "code",
   "execution_count": 31,
   "metadata": {},
   "outputs": [],
   "source": [
    "features = df.drop(['Price'], axis=1)\n",
    "target = df['Price']"
   ]
  },
  {
   "cell_type": "markdown",
   "metadata": {},
   "source": [
    "Далее `features` и `target` разделим на обучающую и тестовую выборки в соотношении 75:25."
   ]
  },
  {
   "cell_type": "code",
   "execution_count": 32,
   "metadata": {},
   "outputs": [],
   "source": [
    "features_train, features_test, target_train, target_test = \\\n",
    "train_test_split(features, target, test_size=0.25, random_state=12345)"
   ]
  },
  {
   "cell_type": "markdown",
   "metadata": {},
   "source": [
    "Проверим размер получившихся выборок."
   ]
  },
  {
   "cell_type": "code",
   "execution_count": 33,
   "metadata": {},
   "outputs": [
    {
     "name": "stdout",
     "output_type": "stream",
     "text": [
      "Размер features_train: (251806, 8) и target_train: (251806,)\n",
      "Размер features_test: (83936, 8) и target_test: (83936,)\n"
     ]
    }
   ],
   "source": [
    "print(f'Размер features_train: {features_train.shape} и target_train: {target_train.shape}')\n",
    "print(f'Размер features_test: {features_test.shape} и target_test: {target_test.shape}')"
   ]
  },
  {
   "cell_type": "markdown",
   "metadata": {},
   "source": [
    "Таким образом, исходный датасет разделен верно."
   ]
  },
  {
   "cell_type": "markdown",
   "metadata": {},
   "source": [
    "Также необходимо создать выборки с кодированными признаками."
   ]
  },
  {
   "cell_type": "code",
   "execution_count": 34,
   "metadata": {},
   "outputs": [],
   "source": [
    "features_train_ohe = df_ohe.loc[features_train.index]\n",
    "features_test_ohe = df_ohe.loc[features_test.index]"
   ]
  },
  {
   "cell_type": "code",
   "execution_count": 35,
   "metadata": {},
   "outputs": [],
   "source": [
    "features_train_ordinal = df_ordinal.loc[features_train.index]\n",
    "features_test_ordinal = df_ordinal.loc[features_test.index]"
   ]
  },
  {
   "cell_type": "markdown",
   "metadata": {},
   "source": [
    "### Масштабирование признаков"
   ]
  },
  {
   "cell_type": "markdown",
   "metadata": {},
   "source": [
    "Так как в данных присутствуют колличественные признаки с разными разбросами значений, например, такие столбцы как `Power` и `Kilometer`, масштабируем признаки. Стандартизируем признаки с помощью `StandardScaler`."
   ]
  },
  {
   "cell_type": "code",
   "execution_count": 36,
   "metadata": {},
   "outputs": [],
   "source": [
    "# список количественных признаков\n",
    "numeric = ['RegistrationYear', 'Power', 'Kilometer']"
   ]
  },
  {
   "cell_type": "code",
   "execution_count": 37,
   "metadata": {},
   "outputs": [],
   "source": [
    "pd.options.mode.chained_assignment = None\n",
    "\n",
    "scaler = StandardScaler()\n",
    "scaler.fit(features_train_ohe[numeric])\n",
    "\n",
    "features_train_ohe[numeric] = scaler.transform(features_train_ohe[numeric])\n",
    "features_test_ohe[numeric] = scaler.transform(features_test_ohe[numeric])"
   ]
  },
  {
   "cell_type": "markdown",
   "metadata": {},
   "source": [
    "## Обучение моделей"
   ]
  },
  {
   "cell_type": "markdown",
   "metadata": {},
   "source": [
    "Рассмотрим четыре модели - две модели бустинга: `LightGBM` и `CatBoostRegressor`, а также модели `LinearRegression` - линейной регрессии и `DecisionTreeRegressor` - модель решающего дерева."
   ]
  },
  {
   "cell_type": "markdown",
   "metadata": {},
   "source": [
    "Для моделей бустинга создадим список категориальных признаков и изменим их тип на `category`."
   ]
  },
  {
   "cell_type": "code",
   "execution_count": 38,
   "metadata": {},
   "outputs": [],
   "source": [
    "features_train[cat_features] = features_train[cat_features].astype('category')\n",
    "features_test[cat_features] = features_test[cat_features].astype('category')"
   ]
  },
  {
   "cell_type": "markdown",
   "metadata": {},
   "source": [
    "Для обучения и проверки моделей используем кросс-валидацию."
   ]
  },
  {
   "cell_type": "markdown",
   "metadata": {},
   "source": [
    "### LightGBM"
   ]
  },
  {
   "cell_type": "markdown",
   "metadata": {},
   "source": [
    "Подберем лучшие гиперпараметры `max_depth` и `n_estimators` для модели `LGBMRegressor` с помощью `GridSearchCV`, также используем кросс-валидацию с параметром `cv=5`."
   ]
  },
  {
   "cell_type": "code",
   "execution_count": 39,
   "metadata": {},
   "outputs": [
    {
     "name": "stdout",
     "output_type": "stream",
     "text": [
      "Средняя оценка RMSE лучшей модели: 1623.30\n",
      "Глубина дерева: 15\n",
      "Количество деревьев: 140\n",
      "CPU times: user 8min 48s, sys: 4.75 s, total: 8min 53s\n",
      "Wall time: 9min\n"
     ]
    }
   ],
   "source": [
    "%%time\n",
    "\n",
    "lgb_model = lgb.LGBMRegressor(random_state=12345)\n",
    "\n",
    "lgb_parametrs = {'max_depth': range(10, 16, 5), 'n_estimators': range(100, 141, 10)}\n",
    "\n",
    "lgb_grid = GridSearchCV(lgb_model, lgb_parametrs, scoring='neg_root_mean_squared_error', cv=5)\n",
    "lgb_grid.fit(features_train, target_train)\n",
    "\n",
    "print(f'Средняя оценка RMSE лучшей модели: {abs(lgb_grid.best_score_):.2f}')\n",
    "print(\"Глубина дерева:\", lgb_grid.best_params_['max_depth'])\n",
    "print(\"Количество деревьев:\", lgb_grid.best_params_['n_estimators'])"
   ]
  },
  {
   "cell_type": "markdown",
   "metadata": {},
   "source": [
    "Проверим время, за которое обучается модель с полученными гиперпараметрами."
   ]
  },
  {
   "cell_type": "code",
   "execution_count": 40,
   "metadata": {},
   "outputs": [
    {
     "name": "stdout",
     "output_type": "stream",
     "text": [
      "CPU times: user 1min 21s, sys: 1.05 s, total: 1min 22s\n",
      "Wall time: 1min 23s\n"
     ]
    },
    {
     "data": {
      "text/plain": [
       "LGBMRegressor(max_depth=15, n_estimators=140, random_state=12345)"
      ]
     },
     "execution_count": 40,
     "metadata": {},
     "output_type": "execute_result"
    }
   ],
   "source": [
    "%%time\n",
    "\n",
    "lgb_grid.best_estimator_.fit(features_train, target_train)"
   ]
  },
  {
   "cell_type": "markdown",
   "metadata": {},
   "source": [
    "Также получим время, за которое модель предсказывает результаты на тестовой выборке."
   ]
  },
  {
   "cell_type": "code",
   "execution_count": 41,
   "metadata": {},
   "outputs": [
    {
     "name": "stdout",
     "output_type": "stream",
     "text": [
      "CPU times: user 1.01 s, sys: 0 ns, total: 1.01 s\n",
      "Wall time: 1.01 s\n"
     ]
    },
    {
     "data": {
      "text/plain": [
       "array([ 530.11536093, 1176.05380583,  569.52087199, ...,  922.6777478 ,\n",
       "       4988.40164469, 1570.74781569])"
      ]
     },
     "execution_count": 41,
     "metadata": {},
     "output_type": "execute_result"
    }
   ],
   "source": [
    "%%time\n",
    "\n",
    "lgb_grid.best_estimator_.predict(features_test)"
   ]
  },
  {
   "cell_type": "markdown",
   "metadata": {},
   "source": [
    "### CatBoostRegressor"
   ]
  },
  {
   "cell_type": "markdown",
   "metadata": {},
   "source": [
    "Подберем лучшие гиперпараметры `depth` и `iterations` для модели `CatBoostRegressor` с помощью `GridSearchCV`, также используем кросс-валидацию с параметром `cv=5`."
   ]
  },
  {
   "cell_type": "code",
   "execution_count": 42,
   "metadata": {
    "scrolled": false
   },
   "outputs": [
    {
     "name": "stdout",
     "output_type": "stream",
     "text": [
      "Средняя оценка RMSE лучшей модели: 1612.44\n",
      "Глубина: 10\n",
      "Количество итераций: 150\n",
      "CPU times: user 16min, sys: 6.47 s, total: 16min 7s\n",
      "Wall time: 17min\n"
     ]
    }
   ],
   "source": [
    "%%time\n",
    "\n",
    "cbr_model = CatBoostRegressor(cat_features=cat_features, verbose=0)\n",
    "\n",
    "cbr_parameters = {'depth': range(6, 11, 2), 'iterations': range(100, 151, 10)}\n",
    "\n",
    "cbr_grid = GridSearchCV(cbr_model, cbr_parameters, scoring='neg_root_mean_squared_error', cv = 5)\n",
    "cbr_grid.fit(features_train, target_train)\n",
    "\n",
    "print(f'Средняя оценка RMSE лучшей модели: {abs(cbr_grid.best_score_):.2f}')\n",
    "print(\"Глубина:\", cbr_grid.best_params_['depth'])\n",
    "print(\"Количество итераций:\", cbr_grid.best_params_['iterations'])"
   ]
  },
  {
   "cell_type": "markdown",
   "metadata": {},
   "source": [
    "Проверим время, за которое обучается модель с полученными гиперпараметрами."
   ]
  },
  {
   "cell_type": "code",
   "execution_count": 43,
   "metadata": {},
   "outputs": [
    {
     "name": "stdout",
     "output_type": "stream",
     "text": [
      "CPU times: user 19.6 s, sys: 206 ms, total: 19.8 s\n",
      "Wall time: 20.3 s\n"
     ]
    },
    {
     "data": {
      "text/plain": [
       "<catboost.core.CatBoostRegressor at 0x7f94face3b20>"
      ]
     },
     "execution_count": 43,
     "metadata": {},
     "output_type": "execute_result"
    }
   ],
   "source": [
    "%%time\n",
    "\n",
    "cbr_grid.best_estimator_.fit(features_train, target_train)"
   ]
  },
  {
   "cell_type": "markdown",
   "metadata": {},
   "source": [
    "Также получим время, за которое модель предсказывает результаты на тестовой выборке."
   ]
  },
  {
   "cell_type": "code",
   "execution_count": 44,
   "metadata": {},
   "outputs": [
    {
     "name": "stdout",
     "output_type": "stream",
     "text": [
      "CPU times: user 85.7 ms, sys: 3.9 ms, total: 89.6 ms\n",
      "Wall time: 87.2 ms\n"
     ]
    },
    {
     "data": {
      "text/plain": [
       "array([ 559.39375884, 1111.41961104,  513.6600957 , ..., 1077.56650199,\n",
       "       4842.20730981, 1712.16932069])"
      ]
     },
     "execution_count": 44,
     "metadata": {},
     "output_type": "execute_result"
    }
   ],
   "source": [
    "%%time\n",
    "\n",
    "cbr_grid.best_estimator_.predict(features_test)"
   ]
  },
  {
   "cell_type": "markdown",
   "metadata": {},
   "source": [
    "### DecisionTreeRegressor"
   ]
  },
  {
   "cell_type": "markdown",
   "metadata": {},
   "source": [
    "Подберем лучшие гиперпараметры `max_depth` для модели `DecisionTreeRegressor` с помощью `GridSearchCV`, также используем кросс-валидацию с параметром `cv=5`."
   ]
  },
  {
   "cell_type": "code",
   "execution_count": 45,
   "metadata": {
    "scrolled": false
   },
   "outputs": [
    {
     "name": "stdout",
     "output_type": "stream",
     "text": [
      "Средняя оценка RMSE лучшей модели: 1878.11\n",
      "Глубина дерева: 15\n",
      "CPU times: user 26.9 s, sys: 70.9 ms, total: 26.9 s\n",
      "Wall time: 27 s\n"
     ]
    }
   ],
   "source": [
    "%%time\n",
    "\n",
    "dtr_model = DecisionTreeRegressor(random_state=12345)\n",
    "dtr_parametrs = {'max_depth': range(10, 21)}\n",
    "\n",
    "dtr_grid = GridSearchCV(dtr_model, dtr_parametrs, scoring='neg_root_mean_squared_error', cv=5)\n",
    "dtr_grid.fit(features_train_ordinal, target_train)\n",
    "\n",
    "print(f'Средняя оценка RMSE лучшей модели: {abs(dtr_grid.best_score_):.2f}')\n",
    "print(\"Глубина дерева:\", dtr_grid.best_params_['max_depth'])"
   ]
  },
  {
   "cell_type": "markdown",
   "metadata": {},
   "source": [
    "Проверим время, за которое обучается модель с полученными гиперпараметрами."
   ]
  },
  {
   "cell_type": "code",
   "execution_count": 46,
   "metadata": {},
   "outputs": [
    {
     "name": "stdout",
     "output_type": "stream",
     "text": [
      "CPU times: user 585 ms, sys: 170 µs, total: 586 ms\n",
      "Wall time: 591 ms\n"
     ]
    },
    {
     "data": {
      "text/plain": [
       "DecisionTreeRegressor(max_depth=15, random_state=12345)"
      ]
     },
     "execution_count": 46,
     "metadata": {},
     "output_type": "execute_result"
    }
   ],
   "source": [
    "%%time\n",
    "\n",
    "dtr_grid.best_estimator_.fit(features_train_ordinal, target_train)"
   ]
  },
  {
   "cell_type": "markdown",
   "metadata": {},
   "source": [
    "Также получим время, за которое модель предсказывает результаты на тестовой выборке."
   ]
  },
  {
   "cell_type": "code",
   "execution_count": 47,
   "metadata": {},
   "outputs": [
    {
     "name": "stdout",
     "output_type": "stream",
     "text": [
      "CPU times: user 18.9 ms, sys: 0 ns, total: 18.9 ms\n",
      "Wall time: 17.3 ms\n"
     ]
    },
    {
     "data": {
      "text/plain": [
       "array([ 836.15605096, 1324.1322314 ,  682.46355974, ..., 1230.42760181,\n",
       "       4573.02083333, 1899.5477707 ])"
      ]
     },
     "execution_count": 47,
     "metadata": {},
     "output_type": "execute_result"
    }
   ],
   "source": [
    "%%time\n",
    "\n",
    "dtr_grid.best_estimator_.predict(features_test_ordinal)"
   ]
  },
  {
   "cell_type": "markdown",
   "metadata": {},
   "source": [
    "### LinearRegression"
   ]
  },
  {
   "cell_type": "markdown",
   "metadata": {},
   "source": [
    "Рассмотрим модель `LinearRegression` - линейная регрессия. Для получения оценки модели используем кросс-валидацию с параметром `cv=5`."
   ]
  },
  {
   "cell_type": "code",
   "execution_count": 48,
   "metadata": {},
   "outputs": [],
   "source": [
    "lr_model = LinearRegression()"
   ]
  },
  {
   "cell_type": "markdown",
   "metadata": {},
   "source": [
    "Получим время обучения модели и оценку модели."
   ]
  },
  {
   "cell_type": "code",
   "execution_count": 49,
   "metadata": {},
   "outputs": [
    {
     "name": "stdout",
     "output_type": "stream",
     "text": [
      "CPU times: user 16.7 s, sys: 9.35 s, total: 26 s\n",
      "Wall time: 26.1 s\n"
     ]
    },
    {
     "data": {
      "text/plain": [
       "LinearRegression()"
      ]
     },
     "execution_count": 49,
     "metadata": {},
     "output_type": "execute_result"
    }
   ],
   "source": [
    "%%time\n",
    "\n",
    "lr_model.fit(features_train_ohe, target_train)"
   ]
  },
  {
   "cell_type": "code",
   "execution_count": 50,
   "metadata": {},
   "outputs": [
    {
     "name": "stdout",
     "output_type": "stream",
     "text": [
      "Средняя оценка RMSE модели: 2632.41\n"
     ]
    }
   ],
   "source": [
    "lr_scores = cross_val_score(lr_model, features_train_ohe, target_train, cv=5, scoring='neg_root_mean_squared_error')\n",
    "lr_score_final = abs(lr_scores).mean()\n",
    "\n",
    "print(f'Средняя оценка RMSE модели: {lr_score_final:.2f}')"
   ]
  },
  {
   "cell_type": "markdown",
   "metadata": {},
   "source": [
    "Время предсказания модели."
   ]
  },
  {
   "cell_type": "code",
   "execution_count": 51,
   "metadata": {},
   "outputs": [
    {
     "name": "stdout",
     "output_type": "stream",
     "text": [
      "CPU times: user 115 ms, sys: 76.4 ms, total: 192 ms\n",
      "Wall time: 290 ms\n"
     ]
    },
    {
     "data": {
      "text/plain": [
       "array([ -240.48109171,   945.7336599 , -1119.38196216, ...,\n",
       "         588.55044105,  6008.62289821,  3557.33523228])"
      ]
     },
     "execution_count": 51,
     "metadata": {},
     "output_type": "execute_result"
    }
   ],
   "source": [
    "%%time\n",
    "\n",
    "lr_model.predict(features_test_ohe)"
   ]
  },
  {
   "cell_type": "markdown",
   "metadata": {},
   "source": [
    "## Анализ моделей"
   ]
  },
  {
   "cell_type": "markdown",
   "metadata": {},
   "source": [
    "Построим сводную таблицу по результатам обучения всех моделей."
   ]
  },
  {
   "cell_type": "code",
   "execution_count": 54,
   "metadata": {},
   "outputs": [
    {
     "data": {
      "text/html": [
       "<div>\n",
       "<style scoped>\n",
       "    .dataframe tbody tr th:only-of-type {\n",
       "        vertical-align: middle;\n",
       "    }\n",
       "\n",
       "    .dataframe tbody tr th {\n",
       "        vertical-align: top;\n",
       "    }\n",
       "\n",
       "    .dataframe thead th {\n",
       "        text-align: right;\n",
       "    }\n",
       "</style>\n",
       "<table border=\"1\" class=\"dataframe\">\n",
       "  <thead>\n",
       "    <tr style=\"text-align: right;\">\n",
       "      <th></th>\n",
       "      <th>RMSE</th>\n",
       "      <th>fit time, s</th>\n",
       "      <th>predict time, ms</th>\n",
       "    </tr>\n",
       "  </thead>\n",
       "  <tbody>\n",
       "    <tr>\n",
       "      <th>LGBMRegressor</th>\n",
       "      <td>1623.30</td>\n",
       "      <td>83.0</td>\n",
       "      <td>60.0</td>\n",
       "    </tr>\n",
       "    <tr>\n",
       "      <th>CatBoostRegressor</th>\n",
       "      <td>1612.44</td>\n",
       "      <td>20.3</td>\n",
       "      <td>87.2</td>\n",
       "    </tr>\n",
       "    <tr>\n",
       "      <th>DecisionTreeRegressor</th>\n",
       "      <td>1878.11</td>\n",
       "      <td>9.9</td>\n",
       "      <td>17.3</td>\n",
       "    </tr>\n",
       "    <tr>\n",
       "      <th>LinearRegression</th>\n",
       "      <td>2632.41</td>\n",
       "      <td>26.1</td>\n",
       "      <td>290.0</td>\n",
       "    </tr>\n",
       "  </tbody>\n",
       "</table>\n",
       "</div>"
      ],
      "text/plain": [
       "                          RMSE  fit time, s  predict time, ms\n",
       "LGBMRegressor          1623.30         83.0              60.0\n",
       "CatBoostRegressor      1612.44         20.3              87.2\n",
       "DecisionTreeRegressor  1878.11          9.9              17.3\n",
       "LinearRegression       2632.41         26.1             290.0"
      ]
     },
     "execution_count": 54,
     "metadata": {},
     "output_type": "execute_result"
    }
   ],
   "source": [
    "columns = ['RMSE', 'fit time, s', 'predict time, ms']\n",
    "index = ['LGBMRegressor', 'CatBoostRegressor', 'DecisionTreeRegressor', 'LinearRegression']\n",
    "data = np.array([[1623.30, 83, 60], [1612.44, 20.3, 87.2], [1878.11, 9.9, 17.3], [2632.41, 26.1, 290]])\n",
    "results = pd.DataFrame(data, columns=columns, index=index)\n",
    "results"
   ]
  },
  {
   "cell_type": "markdown",
   "metadata": {},
   "source": [
    "Наименьшее значение `RMSE` у модели `CatBoostRegressor`, также у модели хорошие показатели времени обучения и предсказания. Наименьшее время обучения и прдсказания у модели `DecisionTreeRegressor` - решающего дерева, но `RMSE` больше, относительно моделей `LGBMRegressor` и `CatBoostRegressor`. \n",
    "\n",
    "В итоге лучшая модель - `CatBoostRegressor` с гиперпараметрами `depth=10`, `iterations=150`. Проверим качество предсказания метрикой `RMSE` на тестовой выборке."
   ]
  },
  {
   "cell_type": "code",
   "execution_count": 53,
   "metadata": {},
   "outputs": [
    {
     "name": "stdout",
     "output_type": "stream",
     "text": [
      "RMSE лучшей модели на тестовой выборке: 1603.54\n"
     ]
    }
   ],
   "source": [
    "predictions = cbr_grid.best_estimator_.predict(features_test)\n",
    "print(f'RMSE лучшей модели на тестовой выборке: {mean_squared_error(target_test, predictions) ** (1/2):.2f}')"
   ]
  },
  {
   "cell_type": "markdown",
   "metadata": {},
   "source": [
    "Выбранная модель по качеству соответсвует условию: \"Значение метрики RMSE должно быть меньше 2500\"."
   ]
  },
  {
   "cell_type": "markdown",
   "metadata": {},
   "source": [
    "## Общий вывод"
   ]
  },
  {
   "cell_type": "markdown",
   "metadata": {},
   "source": [
    "В результате исследования были выполнены следующие шаги: подготовка данных, обучение и анализ моделей.\n",
    "\n",
    "На этапе подготовки данных были изучены данные. Также данные были предобработаны, т. к. в некотрых столбцах были пропуски и аномальные значения. Пропуски были в категориальных признаках и были заменены на значение 'other'. Аномальные значения были удалены или замены на сгруппированное по признакам медианное значение. Некоторые столбцы из датасета были удалены, т. к. они не влияют на стоимость автомобиля. Для обучения моделей решающего дерева и линейной регрессии категориальные признаки были кодированы техникой OHE. Далее данные были разделены на признаки и целевой признак, затем были созданы обучающая и тестовая выборки.\n",
    "\n",
    "На этапе обучения и анализа моделей были рассмотрены четыре модели, две из которых модели градиентного бустинга. Для каждой модели, кроме линейной регрессии, для поиска лучших гиперпараметров использовался GridSearchCV, также при обучении и проверки моделей использовалась кросс-валидация. Параметры оценки и выбора лучшей модели следующие: качество предсказания, время обучения модели, время предсказания модели. Для всех моделей по всем парметрам была построена сводная таблица. Наилучшие значения у модели CatBoostRegressor с гиперпараметрами depth=10, iterations=150. У нее наименьшее время обучения и предсказания, а также высокое качество, в сравнении с остальными моделями. RMSE модели на тестовой выборке равно 1603.54."
   ]
  }
 ],
 "metadata": {
  "ExecuteTimeLog": [
   {
    "duration": 1607,
    "start_time": "2022-11-02T07:34:20.601Z"
   },
   {
    "duration": 1272,
    "start_time": "2022-11-02T07:34:56.182Z"
   },
   {
    "duration": 128,
    "start_time": "2022-11-02T07:41:18.117Z"
   },
   {
    "duration": 131,
    "start_time": "2022-11-02T07:42:50.808Z"
   },
   {
    "duration": 941,
    "start_time": "2022-11-02T07:43:34.746Z"
   },
   {
    "duration": 754,
    "start_time": "2022-11-02T08:05:03.945Z"
   },
   {
    "duration": 1153,
    "start_time": "2022-11-02T08:05:13.583Z"
   },
   {
    "duration": 856,
    "start_time": "2022-11-02T08:05:22.735Z"
   },
   {
    "duration": 10,
    "start_time": "2022-11-02T08:11:23.092Z"
   },
   {
    "duration": 7,
    "start_time": "2022-11-02T08:18:52.942Z"
   },
   {
    "duration": 9,
    "start_time": "2022-11-02T08:19:02.938Z"
   },
   {
    "duration": 117,
    "start_time": "2022-11-02T08:19:08.278Z"
   },
   {
    "duration": 6,
    "start_time": "2022-11-02T08:19:20.253Z"
   },
   {
    "duration": 6,
    "start_time": "2022-11-02T09:01:42.771Z"
   },
   {
    "duration": 581,
    "start_time": "2022-11-02T09:01:55.397Z"
   },
   {
    "duration": 298,
    "start_time": "2022-11-02T09:04:46.499Z"
   },
   {
    "duration": 533,
    "start_time": "2022-11-02T09:05:26.428Z"
   },
   {
    "duration": 23,
    "start_time": "2022-11-02T09:22:23.089Z"
   },
   {
    "duration": 77,
    "start_time": "2022-11-02T09:22:29.543Z"
   },
   {
    "duration": 79,
    "start_time": "2022-11-02T10:32:52.167Z"
   },
   {
    "duration": 66,
    "start_time": "2022-11-02T10:32:57.239Z"
   },
   {
    "duration": 5,
    "start_time": "2022-11-02T10:34:55.282Z"
   },
   {
    "duration": 21,
    "start_time": "2022-11-02T10:35:05.509Z"
   },
   {
    "duration": 20,
    "start_time": "2022-11-02T10:38:08.877Z"
   },
   {
    "duration": 71,
    "start_time": "2022-11-02T10:38:18.615Z"
   },
   {
    "duration": 18,
    "start_time": "2022-11-02T10:38:21.630Z"
   },
   {
    "duration": 67,
    "start_time": "2022-11-02T10:38:25.471Z"
   },
   {
    "duration": 1306,
    "start_time": "2022-11-02T10:46:51.354Z"
   },
   {
    "duration": 895,
    "start_time": "2022-11-02T10:46:52.662Z"
   },
   {
    "duration": 164,
    "start_time": "2022-11-02T10:46:53.559Z"
   },
   {
    "duration": 1772,
    "start_time": "2022-11-02T10:46:53.724Z"
   },
   {
    "duration": 895,
    "start_time": "2022-11-02T10:46:55.497Z"
   },
   {
    "duration": 31,
    "start_time": "2022-11-02T10:46:56.394Z"
   },
   {
    "duration": 77,
    "start_time": "2022-11-02T10:46:56.427Z"
   },
   {
    "duration": 25,
    "start_time": "2022-11-02T10:46:56.506Z"
   },
   {
    "duration": 106,
    "start_time": "2022-11-02T10:50:18.140Z"
   },
   {
    "duration": 30,
    "start_time": "2022-11-02T10:50:25.696Z"
   },
   {
    "duration": 1359,
    "start_time": "2022-11-02T10:50:44.855Z"
   },
   {
    "duration": 1227,
    "start_time": "2022-11-02T10:50:46.216Z"
   },
   {
    "duration": 215,
    "start_time": "2022-11-02T10:50:47.445Z"
   },
   {
    "duration": 1323,
    "start_time": "2022-11-02T10:50:47.662Z"
   },
   {
    "duration": 907,
    "start_time": "2022-11-02T10:50:48.987Z"
   },
   {
    "duration": 27,
    "start_time": "2022-11-02T10:50:49.895Z"
   },
   {
    "duration": 77,
    "start_time": "2022-11-02T10:50:49.923Z"
   },
   {
    "duration": 36,
    "start_time": "2022-11-02T10:50:50.002Z"
   },
   {
    "duration": 31,
    "start_time": "2022-11-02T10:50:50.040Z"
   },
   {
    "duration": 19,
    "start_time": "2022-11-02T10:52:03.074Z"
   },
   {
    "duration": 1243,
    "start_time": "2022-11-02T10:52:30.975Z"
   },
   {
    "duration": 819,
    "start_time": "2022-11-02T10:52:32.221Z"
   },
   {
    "duration": 123,
    "start_time": "2022-11-02T10:52:33.042Z"
   },
   {
    "duration": 869,
    "start_time": "2022-11-02T10:52:33.167Z"
   },
   {
    "duration": 826,
    "start_time": "2022-11-02T10:52:34.038Z"
   },
   {
    "duration": 24,
    "start_time": "2022-11-02T10:52:34.866Z"
   },
   {
    "duration": 79,
    "start_time": "2022-11-02T10:52:34.892Z"
   },
   {
    "duration": 37,
    "start_time": "2022-11-02T10:52:34.973Z"
   },
   {
    "duration": 31,
    "start_time": "2022-11-02T10:52:35.011Z"
   },
   {
    "duration": 31,
    "start_time": "2022-11-02T10:53:00.720Z"
   },
   {
    "duration": 16,
    "start_time": "2022-11-02T10:53:24.113Z"
   },
   {
    "duration": 1304,
    "start_time": "2022-11-02T10:53:32.802Z"
   },
   {
    "duration": 848,
    "start_time": "2022-11-02T10:53:34.109Z"
   },
   {
    "duration": 126,
    "start_time": "2022-11-02T10:53:34.959Z"
   },
   {
    "duration": 937,
    "start_time": "2022-11-02T10:53:35.087Z"
   },
   {
    "duration": 847,
    "start_time": "2022-11-02T10:53:36.026Z"
   },
   {
    "duration": 26,
    "start_time": "2022-11-02T10:53:36.874Z"
   },
   {
    "duration": 79,
    "start_time": "2022-11-02T10:53:36.901Z"
   },
   {
    "duration": 27,
    "start_time": "2022-11-02T10:53:36.982Z"
   },
   {
    "duration": 18,
    "start_time": "2022-11-02T10:53:37.020Z"
   },
   {
    "duration": 80,
    "start_time": "2022-11-02T10:54:01.136Z"
   },
   {
    "duration": 33,
    "start_time": "2022-11-02T10:54:12.972Z"
   },
   {
    "duration": 29,
    "start_time": "2022-11-02T10:56:25.275Z"
   },
   {
    "duration": 17,
    "start_time": "2022-11-02T10:57:02.488Z"
   },
   {
    "duration": 16,
    "start_time": "2022-11-02T10:57:17.720Z"
   },
   {
    "duration": 32,
    "start_time": "2022-11-02T10:57:25.152Z"
   },
   {
    "duration": 64,
    "start_time": "2022-11-02T10:57:29.261Z"
   },
   {
    "duration": 31,
    "start_time": "2022-11-02T10:57:57.988Z"
   },
   {
    "duration": 18,
    "start_time": "2022-11-02T10:58:24.254Z"
   },
   {
    "duration": 64,
    "start_time": "2022-11-02T10:58:26.754Z"
   },
   {
    "duration": 17,
    "start_time": "2022-11-02T10:59:08.577Z"
   },
   {
    "duration": 17,
    "start_time": "2022-11-02T10:59:10.607Z"
   },
   {
    "duration": 89,
    "start_time": "2022-11-02T10:59:14.365Z"
   },
   {
    "duration": 20,
    "start_time": "2022-11-02T11:00:22.630Z"
   },
   {
    "duration": 1594,
    "start_time": "2022-11-02T11:01:27.924Z"
   },
   {
    "duration": 860,
    "start_time": "2022-11-02T11:01:29.520Z"
   },
   {
    "duration": 126,
    "start_time": "2022-11-02T11:01:30.382Z"
   },
   {
    "duration": 1353,
    "start_time": "2022-11-02T11:01:30.510Z"
   },
   {
    "duration": 1328,
    "start_time": "2022-11-02T11:01:31.865Z"
   },
   {
    "duration": 27,
    "start_time": "2022-11-02T11:01:33.195Z"
   },
   {
    "duration": 84,
    "start_time": "2022-11-02T11:01:33.225Z"
   },
   {
    "duration": 28,
    "start_time": "2022-11-02T11:01:33.311Z"
   },
   {
    "duration": 47,
    "start_time": "2022-11-02T11:01:33.340Z"
   },
   {
    "duration": 33,
    "start_time": "2022-11-02T11:01:33.389Z"
   },
   {
    "duration": 30,
    "start_time": "2022-11-02T11:01:33.424Z"
   },
   {
    "duration": 66,
    "start_time": "2022-11-02T11:01:38.671Z"
   },
   {
    "duration": 31,
    "start_time": "2022-11-02T11:02:54.680Z"
   },
   {
    "duration": 35,
    "start_time": "2022-11-02T11:03:59.992Z"
   },
   {
    "duration": 6,
    "start_time": "2022-11-02T11:23:06.091Z"
   },
   {
    "duration": 18,
    "start_time": "2022-11-02T11:57:15.264Z"
   },
   {
    "duration": 93,
    "start_time": "2022-11-02T12:03:04.752Z"
   },
   {
    "duration": 85,
    "start_time": "2022-11-02T12:04:36.404Z"
   },
   {
    "duration": 107,
    "start_time": "2022-11-02T12:04:44.676Z"
   },
   {
    "duration": 1306,
    "start_time": "2022-11-02T12:04:51.400Z"
   },
   {
    "duration": 951,
    "start_time": "2022-11-02T12:04:52.708Z"
   },
   {
    "duration": 277,
    "start_time": "2022-11-02T12:04:53.661Z"
   },
   {
    "duration": 1725,
    "start_time": "2022-11-02T12:04:53.940Z"
   },
   {
    "duration": 825,
    "start_time": "2022-11-02T12:04:55.667Z"
   },
   {
    "duration": 27,
    "start_time": "2022-11-02T12:04:56.494Z"
   },
   {
    "duration": 78,
    "start_time": "2022-11-02T12:04:56.523Z"
   },
   {
    "duration": 23,
    "start_time": "2022-11-02T12:04:56.603Z"
   },
   {
    "duration": 17,
    "start_time": "2022-11-02T12:04:56.628Z"
   },
   {
    "duration": 24,
    "start_time": "2022-11-02T12:04:56.648Z"
   },
   {
    "duration": 34,
    "start_time": "2022-11-02T12:04:56.674Z"
   },
   {
    "duration": 118,
    "start_time": "2022-11-02T12:04:56.710Z"
   },
   {
    "duration": 10,
    "start_time": "2022-11-02T12:05:08.878Z"
   },
   {
    "duration": 6,
    "start_time": "2022-11-02T12:06:09.796Z"
   },
   {
    "duration": 109,
    "start_time": "2022-11-02T12:06:19.640Z"
   },
   {
    "duration": 7,
    "start_time": "2022-11-02T12:06:25.173Z"
   },
   {
    "duration": 40,
    "start_time": "2022-11-02T12:12:10.096Z"
   },
   {
    "duration": 19,
    "start_time": "2022-11-02T12:12:11.717Z"
   },
   {
    "duration": 67,
    "start_time": "2022-11-02T12:12:15.949Z"
   },
   {
    "duration": 68,
    "start_time": "2022-11-02T12:12:41.995Z"
   },
   {
    "duration": 1274,
    "start_time": "2022-11-02T12:12:50.634Z"
   },
   {
    "duration": 791,
    "start_time": "2022-11-02T12:12:51.910Z"
   },
   {
    "duration": 141,
    "start_time": "2022-11-02T12:12:52.703Z"
   },
   {
    "duration": 905,
    "start_time": "2022-11-02T12:12:52.846Z"
   },
   {
    "duration": 844,
    "start_time": "2022-11-02T12:12:53.752Z"
   },
   {
    "duration": 33,
    "start_time": "2022-11-02T12:12:54.598Z"
   },
   {
    "duration": 107,
    "start_time": "2022-11-02T12:12:54.633Z"
   },
   {
    "duration": 79,
    "start_time": "2022-11-02T12:12:54.743Z"
   },
   {
    "duration": 17,
    "start_time": "2022-11-02T12:12:54.824Z"
   },
   {
    "duration": 37,
    "start_time": "2022-11-02T12:12:54.843Z"
   },
   {
    "duration": 36,
    "start_time": "2022-11-02T12:12:54.882Z"
   },
   {
    "duration": 31,
    "start_time": "2022-11-02T12:12:54.920Z"
   },
   {
    "duration": 72,
    "start_time": "2022-11-02T12:12:54.953Z"
   },
   {
    "duration": 104,
    "start_time": "2022-11-02T12:48:19.397Z"
   },
   {
    "duration": 1264,
    "start_time": "2022-11-02T12:48:56.916Z"
   },
   {
    "duration": 520,
    "start_time": "2022-11-02T13:09:16.200Z"
   },
   {
    "duration": 432,
    "start_time": "2022-11-02T13:09:26.386Z"
   },
   {
    "duration": 356,
    "start_time": "2022-11-02T13:10:56.387Z"
   },
   {
    "duration": 382,
    "start_time": "2022-11-02T13:12:14.106Z"
   },
   {
    "duration": 406,
    "start_time": "2022-11-02T13:18:49.450Z"
   },
   {
    "duration": 538,
    "start_time": "2022-11-02T13:19:40.600Z"
   },
   {
    "duration": 452,
    "start_time": "2022-11-02T13:20:02.331Z"
   },
   {
    "duration": 20,
    "start_time": "2022-11-02T13:58:42.621Z"
   },
   {
    "duration": 23,
    "start_time": "2022-11-02T14:01:09.749Z"
   },
   {
    "duration": 20,
    "start_time": "2022-11-02T14:02:11.427Z"
   },
   {
    "duration": 1549,
    "start_time": "2022-11-03T08:52:11.424Z"
   },
   {
    "duration": 1195,
    "start_time": "2022-11-03T08:52:12.975Z"
   },
   {
    "duration": 134,
    "start_time": "2022-11-03T08:52:14.172Z"
   },
   {
    "duration": 980,
    "start_time": "2022-11-03T08:52:14.309Z"
   },
   {
    "duration": 925,
    "start_time": "2022-11-03T08:52:15.291Z"
   },
   {
    "duration": 36,
    "start_time": "2022-11-03T08:52:16.218Z"
   },
   {
    "duration": 84,
    "start_time": "2022-11-03T08:52:16.256Z"
   },
   {
    "duration": 21,
    "start_time": "2022-11-03T08:52:16.341Z"
   },
   {
    "duration": 17,
    "start_time": "2022-11-03T08:52:16.364Z"
   },
   {
    "duration": 18,
    "start_time": "2022-11-03T08:52:16.384Z"
   },
   {
    "duration": 20,
    "start_time": "2022-11-03T08:52:16.404Z"
   },
   {
    "duration": 38,
    "start_time": "2022-11-03T08:52:16.425Z"
   },
   {
    "duration": 70,
    "start_time": "2022-11-03T08:52:16.465Z"
   },
   {
    "duration": 584,
    "start_time": "2022-11-03T08:52:16.537Z"
   },
   {
    "duration": 32,
    "start_time": "2022-11-03T08:52:17.123Z"
   },
   {
    "duration": 22,
    "start_time": "2022-11-03T08:52:20.979Z"
   },
   {
    "duration": 1378,
    "start_time": "2022-11-03T08:54:51.633Z"
   },
   {
    "duration": 882,
    "start_time": "2022-11-03T08:54:53.013Z"
   },
   {
    "duration": 136,
    "start_time": "2022-11-03T08:54:53.896Z"
   },
   {
    "duration": 974,
    "start_time": "2022-11-03T08:54:54.035Z"
   },
   {
    "duration": 849,
    "start_time": "2022-11-03T08:54:55.011Z"
   },
   {
    "duration": 3,
    "start_time": "2022-11-03T08:54:55.862Z"
   },
   {
    "duration": 126,
    "start_time": "2022-11-03T08:54:55.867Z"
   },
   {
    "duration": 20,
    "start_time": "2022-11-03T08:54:55.995Z"
   },
   {
    "duration": 27,
    "start_time": "2022-11-03T08:54:56.017Z"
   },
   {
    "duration": 20,
    "start_time": "2022-11-03T08:54:56.053Z"
   },
   {
    "duration": 19,
    "start_time": "2022-11-03T08:54:56.075Z"
   },
   {
    "duration": 21,
    "start_time": "2022-11-03T08:54:56.095Z"
   },
   {
    "duration": 132,
    "start_time": "2022-11-03T08:54:56.118Z"
   },
   {
    "duration": 568,
    "start_time": "2022-11-03T08:54:56.252Z"
   },
   {
    "duration": 44,
    "start_time": "2022-11-03T08:54:56.822Z"
   },
   {
    "duration": 315,
    "start_time": "2022-11-03T08:55:43.512Z"
   },
   {
    "duration": 36,
    "start_time": "2022-11-03T10:35:05.633Z"
   },
   {
    "duration": 21,
    "start_time": "2022-11-03T10:36:49.341Z"
   },
   {
    "duration": 1364,
    "start_time": "2022-11-03T10:37:01.945Z"
   },
   {
    "duration": 910,
    "start_time": "2022-11-03T10:37:03.311Z"
   },
   {
    "duration": 129,
    "start_time": "2022-11-03T10:37:04.223Z"
   },
   {
    "duration": 1020,
    "start_time": "2022-11-03T10:37:04.354Z"
   },
   {
    "duration": 852,
    "start_time": "2022-11-03T10:37:05.375Z"
   },
   {
    "duration": 3,
    "start_time": "2022-11-03T10:37:06.228Z"
   },
   {
    "duration": 125,
    "start_time": "2022-11-03T10:37:06.232Z"
   },
   {
    "duration": 20,
    "start_time": "2022-11-03T10:37:06.359Z"
   },
   {
    "duration": 23,
    "start_time": "2022-11-03T10:37:06.381Z"
   },
   {
    "duration": 24,
    "start_time": "2022-11-03T10:37:06.406Z"
   },
   {
    "duration": 39,
    "start_time": "2022-11-03T10:37:06.431Z"
   },
   {
    "duration": 22,
    "start_time": "2022-11-03T10:37:06.472Z"
   },
   {
    "duration": 112,
    "start_time": "2022-11-03T10:37:06.496Z"
   },
   {
    "duration": 557,
    "start_time": "2022-11-03T10:37:06.609Z"
   },
   {
    "duration": 255,
    "start_time": "2022-11-03T10:37:07.168Z"
   },
   {
    "duration": 42,
    "start_time": "2022-11-03T10:37:07.425Z"
   },
   {
    "duration": 24,
    "start_time": "2022-11-03T10:37:55.381Z"
   },
   {
    "duration": 29,
    "start_time": "2022-11-03T10:38:46.239Z"
   },
   {
    "duration": 23,
    "start_time": "2022-11-03T10:50:47.285Z"
   },
   {
    "duration": 27,
    "start_time": "2022-11-03T10:52:23.471Z"
   },
   {
    "duration": 22,
    "start_time": "2022-11-03T10:52:59.482Z"
   },
   {
    "duration": 28,
    "start_time": "2022-11-03T10:57:00.474Z"
   },
   {
    "duration": 25,
    "start_time": "2022-11-03T11:00:16.076Z"
   },
   {
    "duration": 24,
    "start_time": "2022-11-03T11:00:20.924Z"
   },
   {
    "duration": 33,
    "start_time": "2022-11-03T11:00:51.430Z"
   },
   {
    "duration": 24,
    "start_time": "2022-11-03T11:00:56.865Z"
   },
   {
    "duration": 34,
    "start_time": "2022-11-03T11:07:49.236Z"
   },
   {
    "duration": 20,
    "start_time": "2022-11-03T11:08:36.839Z"
   },
   {
    "duration": 22,
    "start_time": "2022-11-03T11:09:03.074Z"
   },
   {
    "duration": 104,
    "start_time": "2022-11-03T11:09:10.839Z"
   },
   {
    "duration": 20,
    "start_time": "2022-11-03T11:09:14.878Z"
   },
   {
    "duration": 77,
    "start_time": "2022-11-03T11:12:24.565Z"
   },
   {
    "duration": 22,
    "start_time": "2022-11-03T11:12:35.237Z"
   },
   {
    "duration": 22,
    "start_time": "2022-11-03T11:12:43.170Z"
   },
   {
    "duration": 22,
    "start_time": "2022-11-03T11:13:58.168Z"
   },
   {
    "duration": 30,
    "start_time": "2022-11-03T11:15:13.659Z"
   },
   {
    "duration": 22,
    "start_time": "2022-11-03T11:15:27.869Z"
   },
   {
    "duration": 929,
    "start_time": "2022-11-03T11:17:39.890Z"
   },
   {
    "duration": 8,
    "start_time": "2022-11-03T11:17:44.795Z"
   },
   {
    "duration": 7,
    "start_time": "2022-11-03T11:17:58.376Z"
   },
   {
    "duration": 7,
    "start_time": "2022-11-03T11:18:05.986Z"
   },
   {
    "duration": 8,
    "start_time": "2022-11-03T11:18:18.943Z"
   },
   {
    "duration": 54,
    "start_time": "2022-11-03T11:18:23.886Z"
   },
   {
    "duration": 9,
    "start_time": "2022-11-03T11:18:26.519Z"
   },
   {
    "duration": 23,
    "start_time": "2022-11-03T11:18:45.837Z"
   },
   {
    "duration": 27,
    "start_time": "2022-11-03T11:19:15.485Z"
   },
   {
    "duration": 49,
    "start_time": "2022-11-03T11:52:50.793Z"
   },
   {
    "duration": 58,
    "start_time": "2022-11-03T11:52:57.946Z"
   },
   {
    "duration": 458,
    "start_time": "2022-11-03T11:53:02.638Z"
   },
   {
    "duration": 68,
    "start_time": "2022-11-03T11:53:07.578Z"
   },
   {
    "duration": 6,
    "start_time": "2022-11-03T11:53:25.128Z"
   },
   {
    "duration": 31,
    "start_time": "2022-11-03T11:54:24.498Z"
   },
   {
    "duration": 66,
    "start_time": "2022-11-03T11:54:27.838Z"
   },
   {
    "duration": 71,
    "start_time": "2022-11-03T11:54:43.314Z"
   },
   {
    "duration": 218,
    "start_time": "2022-11-03T11:55:24.362Z"
   },
   {
    "duration": 204,
    "start_time": "2022-11-03T11:55:47.080Z"
   },
   {
    "duration": 54,
    "start_time": "2022-11-03T11:55:57.321Z"
   },
   {
    "duration": 30,
    "start_time": "2022-11-03T11:55:59.278Z"
   },
   {
    "duration": 470,
    "start_time": "2022-11-03T11:56:02.277Z"
   },
   {
    "duration": 50,
    "start_time": "2022-11-03T12:21:28.990Z"
   },
   {
    "duration": 57,
    "start_time": "2022-11-03T12:21:38.027Z"
   },
   {
    "duration": 55,
    "start_time": "2022-11-03T12:22:30.776Z"
   },
   {
    "duration": 50,
    "start_time": "2022-11-03T12:22:35.366Z"
   },
   {
    "duration": 78,
    "start_time": "2022-11-03T12:24:13.949Z"
   },
   {
    "duration": 188,
    "start_time": "2022-11-03T12:24:22.604Z"
   },
   {
    "duration": 135,
    "start_time": "2022-11-03T12:24:48.686Z"
   },
   {
    "duration": 102,
    "start_time": "2022-11-03T12:25:02.059Z"
   },
   {
    "duration": 87,
    "start_time": "2022-11-03T12:25:16.783Z"
   },
   {
    "duration": 163,
    "start_time": "2022-11-03T12:25:23.859Z"
   },
   {
    "duration": 193,
    "start_time": "2022-11-03T12:33:10.294Z"
   },
   {
    "duration": 171,
    "start_time": "2022-11-03T12:34:53.366Z"
   },
   {
    "duration": 4,
    "start_time": "2022-11-03T12:35:27.454Z"
   },
   {
    "duration": 162,
    "start_time": "2022-11-03T12:35:39.283Z"
   },
   {
    "duration": 78,
    "start_time": "2022-11-03T12:35:46.840Z"
   },
   {
    "duration": 1327,
    "start_time": "2022-11-03T12:35:56.919Z"
   },
   {
    "duration": 872,
    "start_time": "2022-11-03T12:35:58.248Z"
   },
   {
    "duration": 126,
    "start_time": "2022-11-03T12:35:59.122Z"
   },
   {
    "duration": 905,
    "start_time": "2022-11-03T12:35:59.254Z"
   },
   {
    "duration": 836,
    "start_time": "2022-11-03T12:36:00.161Z"
   },
   {
    "duration": 126,
    "start_time": "2022-11-03T12:36:00.999Z"
   },
   {
    "duration": 18,
    "start_time": "2022-11-03T12:36:01.127Z"
   },
   {
    "duration": 66,
    "start_time": "2022-11-03T12:36:01.154Z"
   },
   {
    "duration": 91,
    "start_time": "2022-11-03T12:36:01.223Z"
   },
   {
    "duration": 100,
    "start_time": "2022-11-03T12:36:01.317Z"
   },
   {
    "duration": 41,
    "start_time": "2022-11-03T12:36:01.419Z"
   },
   {
    "duration": 166,
    "start_time": "2022-11-03T12:36:01.463Z"
   },
   {
    "duration": 591,
    "start_time": "2022-11-03T12:36:01.631Z"
   },
   {
    "duration": 67,
    "start_time": "2022-11-03T12:36:02.224Z"
   },
   {
    "duration": 95,
    "start_time": "2022-11-03T12:36:02.294Z"
   },
   {
    "duration": 87,
    "start_time": "2022-11-03T12:36:02.391Z"
   },
   {
    "duration": 3,
    "start_time": "2022-11-03T12:36:02.480Z"
   },
   {
    "duration": 100,
    "start_time": "2022-11-03T12:36:54.441Z"
   },
   {
    "duration": 176,
    "start_time": "2022-11-03T12:37:00.084Z"
   },
   {
    "duration": 83,
    "start_time": "2022-11-03T12:37:03.619Z"
   },
   {
    "duration": 469,
    "start_time": "2022-11-03T12:37:09.810Z"
   },
   {
    "duration": 98,
    "start_time": "2022-11-03T12:37:37.797Z"
   },
   {
    "duration": 30,
    "start_time": "2022-11-03T12:39:07.025Z"
   },
   {
    "duration": 31,
    "start_time": "2022-11-03T12:42:38.920Z"
   },
   {
    "duration": 37,
    "start_time": "2022-11-03T12:50:37.881Z"
   },
   {
    "duration": 31,
    "start_time": "2022-11-03T13:01:18.103Z"
   },
   {
    "duration": 34,
    "start_time": "2022-11-03T13:04:48.901Z"
   },
   {
    "duration": 34,
    "start_time": "2022-11-03T13:05:17.471Z"
   },
   {
    "duration": 33,
    "start_time": "2022-11-03T13:07:05.008Z"
   },
   {
    "duration": 32,
    "start_time": "2022-11-03T13:07:12.877Z"
   },
   {
    "duration": 1395,
    "start_time": "2022-11-03T15:02:49.575Z"
   },
   {
    "duration": 1005,
    "start_time": "2022-11-03T15:02:50.972Z"
   },
   {
    "duration": 123,
    "start_time": "2022-11-03T15:02:51.979Z"
   },
   {
    "duration": 1004,
    "start_time": "2022-11-03T15:02:52.105Z"
   },
   {
    "duration": 857,
    "start_time": "2022-11-03T15:02:53.112Z"
   },
   {
    "duration": 121,
    "start_time": "2022-11-03T15:02:53.971Z"
   },
   {
    "duration": 31,
    "start_time": "2022-11-03T15:02:54.094Z"
   },
   {
    "duration": 37,
    "start_time": "2022-11-03T15:02:54.126Z"
   },
   {
    "duration": 33,
    "start_time": "2022-11-03T15:02:54.165Z"
   },
   {
    "duration": 23,
    "start_time": "2022-11-03T15:02:54.201Z"
   },
   {
    "duration": 37,
    "start_time": "2022-11-03T15:02:54.226Z"
   },
   {
    "duration": 136,
    "start_time": "2022-11-03T15:02:54.265Z"
   },
   {
    "duration": 574,
    "start_time": "2022-11-03T15:02:54.403Z"
   },
   {
    "duration": 58,
    "start_time": "2022-11-03T15:02:54.979Z"
   },
   {
    "duration": 195,
    "start_time": "2022-11-03T15:02:55.039Z"
   },
   {
    "duration": 41,
    "start_time": "2022-11-03T15:02:55.236Z"
   },
   {
    "duration": 3,
    "start_time": "2022-11-03T15:02:55.278Z"
   },
   {
    "duration": 5,
    "start_time": "2022-11-05T08:15:17.434Z"
   },
   {
    "duration": 1480,
    "start_time": "2022-11-05T08:15:28.560Z"
   },
   {
    "duration": 1101,
    "start_time": "2022-11-05T08:15:30.042Z"
   },
   {
    "duration": 126,
    "start_time": "2022-11-05T08:15:31.145Z"
   },
   {
    "duration": 874,
    "start_time": "2022-11-05T08:15:31.273Z"
   },
   {
    "duration": 776,
    "start_time": "2022-11-05T08:15:32.150Z"
   },
   {
    "duration": 112,
    "start_time": "2022-11-05T08:15:32.929Z"
   },
   {
    "duration": 17,
    "start_time": "2022-11-05T08:15:33.043Z"
   },
   {
    "duration": 24,
    "start_time": "2022-11-05T08:15:33.062Z"
   },
   {
    "duration": 16,
    "start_time": "2022-11-05T08:15:33.088Z"
   },
   {
    "duration": 20,
    "start_time": "2022-11-05T08:15:33.105Z"
   },
   {
    "duration": 113,
    "start_time": "2022-11-05T08:15:33.127Z"
   },
   {
    "duration": 490,
    "start_time": "2022-11-05T08:15:33.241Z"
   },
   {
    "duration": 54,
    "start_time": "2022-11-05T08:15:33.732Z"
   },
   {
    "duration": 174,
    "start_time": "2022-11-05T08:15:33.788Z"
   },
   {
    "duration": 29,
    "start_time": "2022-11-05T08:15:33.964Z"
   },
   {
    "duration": 2,
    "start_time": "2022-11-05T08:15:33.995Z"
   },
   {
    "duration": 5,
    "start_time": "2022-11-05T08:16:44.857Z"
   },
   {
    "duration": 4,
    "start_time": "2022-11-05T08:16:51.396Z"
   },
   {
    "duration": 4,
    "start_time": "2022-11-05T08:16:58.866Z"
   },
   {
    "duration": 4,
    "start_time": "2022-11-05T08:17:19.478Z"
   },
   {
    "duration": 29,
    "start_time": "2022-11-05T08:18:00.797Z"
   },
   {
    "duration": 32,
    "start_time": "2022-11-05T08:28:58.559Z"
   },
   {
    "duration": 29,
    "start_time": "2022-11-05T08:30:17.213Z"
   },
   {
    "duration": 32,
    "start_time": "2022-11-05T08:30:27.061Z"
   },
   {
    "duration": 30,
    "start_time": "2022-11-05T08:30:31.862Z"
   },
   {
    "duration": 454,
    "start_time": "2022-11-05T08:30:52.774Z"
   },
   {
    "duration": 57,
    "start_time": "2022-11-05T08:31:12.197Z"
   },
   {
    "duration": 4,
    "start_time": "2022-11-05T08:31:14.059Z"
   },
   {
    "duration": 4,
    "start_time": "2022-11-05T08:31:26.329Z"
   },
   {
    "duration": 449,
    "start_time": "2022-11-05T08:31:58.510Z"
   },
   {
    "duration": 20,
    "start_time": "2022-11-05T08:45:23.148Z"
   },
   {
    "duration": 13,
    "start_time": "2022-11-05T09:02:05.581Z"
   },
   {
    "duration": 14,
    "start_time": "2022-11-05T09:03:11.568Z"
   },
   {
    "duration": 9,
    "start_time": "2022-11-05T09:04:10.697Z"
   },
   {
    "duration": 44,
    "start_time": "2022-11-05T09:04:18.856Z"
   },
   {
    "duration": 8,
    "start_time": "2022-11-05T09:04:25.480Z"
   },
   {
    "duration": 43,
    "start_time": "2022-11-07T06:40:51.354Z"
   },
   {
    "duration": 1551,
    "start_time": "2022-11-07T06:40:57.727Z"
   },
   {
    "duration": 1173,
    "start_time": "2022-11-07T06:40:59.281Z"
   },
   {
    "duration": 127,
    "start_time": "2022-11-07T06:41:00.456Z"
   },
   {
    "duration": 1645,
    "start_time": "2022-11-07T06:41:00.586Z"
   },
   {
    "duration": 1093,
    "start_time": "2022-11-07T06:41:02.233Z"
   },
   {
    "duration": 135,
    "start_time": "2022-11-07T06:41:03.329Z"
   },
   {
    "duration": 21,
    "start_time": "2022-11-07T06:41:03.466Z"
   },
   {
    "duration": 33,
    "start_time": "2022-11-07T06:41:03.489Z"
   },
   {
    "duration": 20,
    "start_time": "2022-11-07T06:41:03.524Z"
   },
   {
    "duration": 21,
    "start_time": "2022-11-07T06:41:03.546Z"
   },
   {
    "duration": 132,
    "start_time": "2022-11-07T06:41:03.569Z"
   },
   {
    "duration": 524,
    "start_time": "2022-11-07T06:41:03.703Z"
   },
   {
    "duration": 57,
    "start_time": "2022-11-07T06:41:04.229Z"
   },
   {
    "duration": 189,
    "start_time": "2022-11-07T06:41:04.287Z"
   },
   {
    "duration": 64,
    "start_time": "2022-11-07T06:41:04.478Z"
   },
   {
    "duration": 36,
    "start_time": "2022-11-07T06:41:04.543Z"
   },
   {
    "duration": 4,
    "start_time": "2022-11-07T06:41:04.581Z"
   },
   {
    "duration": 5,
    "start_time": "2022-11-07T06:41:04.587Z"
   },
   {
    "duration": 30,
    "start_time": "2022-11-07T06:41:59.342Z"
   },
   {
    "duration": 36,
    "start_time": "2022-11-07T06:42:31.555Z"
   },
   {
    "duration": 36,
    "start_time": "2022-11-07T06:43:28.074Z"
   },
   {
    "duration": 36,
    "start_time": "2022-11-07T06:44:23.243Z"
   },
   {
    "duration": 46,
    "start_time": "2022-11-07T06:45:09.937Z"
   },
   {
    "duration": 50,
    "start_time": "2022-11-07T06:45:18.810Z"
   },
   {
    "duration": 393,
    "start_time": "2022-11-07T06:50:57.291Z"
   },
   {
    "duration": 65,
    "start_time": "2022-11-07T06:51:17.956Z"
   },
   {
    "duration": 49,
    "start_time": "2022-11-07T06:51:30.092Z"
   },
   {
    "duration": 6,
    "start_time": "2022-11-07T06:51:36.151Z"
   },
   {
    "duration": 8,
    "start_time": "2022-11-07T06:51:42.702Z"
   },
   {
    "duration": 60,
    "start_time": "2022-11-07T06:52:01.604Z"
   },
   {
    "duration": 7,
    "start_time": "2022-11-07T06:52:08.554Z"
   },
   {
    "duration": 12,
    "start_time": "2022-11-07T07:10:27.442Z"
   },
   {
    "duration": 8,
    "start_time": "2022-11-07T07:10:39.370Z"
   },
   {
    "duration": 9,
    "start_time": "2022-11-07T07:15:03.494Z"
   },
   {
    "duration": 21,
    "start_time": "2022-11-07T07:15:10.837Z"
   },
   {
    "duration": 19,
    "start_time": "2022-11-07T07:16:31.585Z"
   },
   {
    "duration": 39,
    "start_time": "2022-11-07T07:16:46.643Z"
   },
   {
    "duration": 22,
    "start_time": "2022-11-07T07:17:30.242Z"
   },
   {
    "duration": 27,
    "start_time": "2022-11-07T07:19:17.040Z"
   },
   {
    "duration": 21,
    "start_time": "2022-11-07T07:20:52.622Z"
   },
   {
    "duration": 20,
    "start_time": "2022-11-07T07:21:42.493Z"
   },
   {
    "duration": 49,
    "start_time": "2022-11-07T08:43:45.187Z"
   },
   {
    "duration": 5,
    "start_time": "2022-11-07T08:43:50.997Z"
   },
   {
    "duration": 1291,
    "start_time": "2022-11-07T08:44:11.974Z"
   },
   {
    "duration": 826,
    "start_time": "2022-11-07T08:44:13.267Z"
   },
   {
    "duration": 142,
    "start_time": "2022-11-07T08:44:14.095Z"
   },
   {
    "duration": 872,
    "start_time": "2022-11-07T08:44:14.239Z"
   },
   {
    "duration": 785,
    "start_time": "2022-11-07T08:44:15.113Z"
   },
   {
    "duration": 155,
    "start_time": "2022-11-07T08:44:15.900Z"
   },
   {
    "duration": 19,
    "start_time": "2022-11-07T08:44:16.057Z"
   },
   {
    "duration": 20,
    "start_time": "2022-11-07T08:44:16.078Z"
   },
   {
    "duration": 34,
    "start_time": "2022-11-07T08:44:16.100Z"
   },
   {
    "duration": 20,
    "start_time": "2022-11-07T08:44:16.136Z"
   },
   {
    "duration": 133,
    "start_time": "2022-11-07T08:44:16.157Z"
   },
   {
    "duration": 515,
    "start_time": "2022-11-07T08:44:16.292Z"
   },
   {
    "duration": 65,
    "start_time": "2022-11-07T08:44:16.809Z"
   },
   {
    "duration": 183,
    "start_time": "2022-11-07T08:44:16.876Z"
   },
   {
    "duration": 61,
    "start_time": "2022-11-07T08:44:17.061Z"
   },
   {
    "duration": 49,
    "start_time": "2022-11-07T08:44:17.124Z"
   },
   {
    "duration": 4,
    "start_time": "2022-11-07T08:44:17.175Z"
   },
   {
    "duration": 19,
    "start_time": "2022-11-07T08:44:17.180Z"
   },
   {
    "duration": 47,
    "start_time": "2022-11-07T08:44:39.741Z"
   },
   {
    "duration": 1364,
    "start_time": "2022-11-07T08:44:45.417Z"
   },
   {
    "duration": 1783,
    "start_time": "2022-11-07T08:44:46.784Z"
   },
   {
    "duration": 490,
    "start_time": "2022-11-07T08:44:48.570Z"
   },
   {
    "duration": 952,
    "start_time": "2022-11-07T08:44:49.063Z"
   },
   {
    "duration": 753,
    "start_time": "2022-11-07T08:44:50.017Z"
   },
   {
    "duration": 131,
    "start_time": "2022-11-07T08:44:50.772Z"
   },
   {
    "duration": 22,
    "start_time": "2022-11-07T08:44:50.905Z"
   },
   {
    "duration": 21,
    "start_time": "2022-11-07T08:44:50.929Z"
   },
   {
    "duration": 31,
    "start_time": "2022-11-07T08:44:50.952Z"
   },
   {
    "duration": 21,
    "start_time": "2022-11-07T08:44:50.986Z"
   },
   {
    "duration": 159,
    "start_time": "2022-11-07T08:44:51.021Z"
   },
   {
    "duration": 482,
    "start_time": "2022-11-07T08:44:51.182Z"
   },
   {
    "duration": 57,
    "start_time": "2022-11-07T08:44:51.666Z"
   },
   {
    "duration": 173,
    "start_time": "2022-11-07T08:44:51.725Z"
   },
   {
    "duration": 58,
    "start_time": "2022-11-07T08:44:51.900Z"
   },
   {
    "duration": 48,
    "start_time": "2022-11-07T08:44:51.959Z"
   },
   {
    "duration": 15,
    "start_time": "2022-11-07T08:44:52.009Z"
   },
   {
    "duration": 6,
    "start_time": "2022-11-07T08:44:52.026Z"
   },
   {
    "duration": 56,
    "start_time": "2022-11-07T08:45:12.299Z"
   },
   {
    "duration": 50,
    "start_time": "2022-11-07T08:45:14.117Z"
   },
   {
    "duration": 1387,
    "start_time": "2022-11-07T08:45:19.351Z"
   },
   {
    "duration": 878,
    "start_time": "2022-11-07T08:45:20.740Z"
   },
   {
    "duration": 311,
    "start_time": "2022-11-07T08:45:21.621Z"
   },
   {
    "duration": 2084,
    "start_time": "2022-11-07T08:45:21.934Z"
   },
   {
    "duration": 815,
    "start_time": "2022-11-07T08:45:24.021Z"
   },
   {
    "duration": 144,
    "start_time": "2022-11-07T08:45:24.838Z"
   },
   {
    "duration": 42,
    "start_time": "2022-11-07T08:45:24.984Z"
   },
   {
    "duration": 32,
    "start_time": "2022-11-07T08:45:25.028Z"
   },
   {
    "duration": 38,
    "start_time": "2022-11-07T08:45:25.063Z"
   },
   {
    "duration": 40,
    "start_time": "2022-11-07T08:45:25.104Z"
   },
   {
    "duration": 154,
    "start_time": "2022-11-07T08:45:25.146Z"
   },
   {
    "duration": 619,
    "start_time": "2022-11-07T08:45:25.302Z"
   },
   {
    "duration": 64,
    "start_time": "2022-11-07T08:45:25.924Z"
   },
   {
    "duration": 206,
    "start_time": "2022-11-07T08:45:25.991Z"
   },
   {
    "duration": 67,
    "start_time": "2022-11-07T08:45:26.199Z"
   },
   {
    "duration": 64,
    "start_time": "2022-11-07T08:45:26.267Z"
   },
   {
    "duration": 5,
    "start_time": "2022-11-07T08:45:26.339Z"
   },
   {
    "duration": 8,
    "start_time": "2022-11-07T08:45:26.345Z"
   },
   {
    "duration": 45,
    "start_time": "2022-11-07T08:53:43.995Z"
   },
   {
    "duration": 1236,
    "start_time": "2022-11-07T08:53:51.346Z"
   },
   {
    "duration": 825,
    "start_time": "2022-11-07T08:53:52.584Z"
   },
   {
    "duration": 141,
    "start_time": "2022-11-07T08:53:53.411Z"
   },
   {
    "duration": 1271,
    "start_time": "2022-11-07T08:53:53.554Z"
   },
   {
    "duration": 1501,
    "start_time": "2022-11-07T08:53:54.827Z"
   },
   {
    "duration": 125,
    "start_time": "2022-11-07T08:53:56.330Z"
   },
   {
    "duration": 19,
    "start_time": "2022-11-07T08:53:56.457Z"
   },
   {
    "duration": 19,
    "start_time": "2022-11-07T08:53:56.477Z"
   },
   {
    "duration": 37,
    "start_time": "2022-11-07T08:53:56.498Z"
   },
   {
    "duration": 19,
    "start_time": "2022-11-07T08:53:56.538Z"
   },
   {
    "duration": 128,
    "start_time": "2022-11-07T08:53:56.558Z"
   },
   {
    "duration": 500,
    "start_time": "2022-11-07T08:53:56.687Z"
   },
   {
    "duration": 55,
    "start_time": "2022-11-07T08:53:57.188Z"
   },
   {
    "duration": 165,
    "start_time": "2022-11-07T08:53:57.245Z"
   },
   {
    "duration": 70,
    "start_time": "2022-11-07T08:53:57.412Z"
   },
   {
    "duration": 61,
    "start_time": "2022-11-07T08:53:57.484Z"
   },
   {
    "duration": 6,
    "start_time": "2022-11-07T08:53:57.547Z"
   },
   {
    "duration": 23,
    "start_time": "2022-11-07T08:53:57.554Z"
   },
   {
    "duration": 52,
    "start_time": "2022-11-07T08:56:20.124Z"
   },
   {
    "duration": 113,
    "start_time": "2022-11-07T08:57:05.089Z"
   },
   {
    "duration": 1232,
    "start_time": "2022-11-07T09:06:34.167Z"
   },
   {
    "duration": 815,
    "start_time": "2022-11-07T09:06:35.401Z"
   },
   {
    "duration": 183,
    "start_time": "2022-11-07T09:06:36.218Z"
   },
   {
    "duration": 923,
    "start_time": "2022-11-07T09:06:36.403Z"
   },
   {
    "duration": 829,
    "start_time": "2022-11-07T09:06:37.328Z"
   },
   {
    "duration": 139,
    "start_time": "2022-11-07T09:06:38.159Z"
   },
   {
    "duration": 27,
    "start_time": "2022-11-07T09:06:38.300Z"
   },
   {
    "duration": 40,
    "start_time": "2022-11-07T09:06:38.329Z"
   },
   {
    "duration": 20,
    "start_time": "2022-11-07T09:06:38.371Z"
   },
   {
    "duration": 26,
    "start_time": "2022-11-07T09:06:38.393Z"
   },
   {
    "duration": 121,
    "start_time": "2022-11-07T09:06:38.421Z"
   },
   {
    "duration": 555,
    "start_time": "2022-11-07T09:06:38.543Z"
   },
   {
    "duration": 70,
    "start_time": "2022-11-07T09:06:39.101Z"
   },
   {
    "duration": 183,
    "start_time": "2022-11-07T09:06:39.173Z"
   },
   {
    "duration": 54,
    "start_time": "2022-11-07T09:06:39.358Z"
   },
   {
    "duration": 60,
    "start_time": "2022-11-07T09:06:39.413Z"
   },
   {
    "duration": 5,
    "start_time": "2022-11-07T09:06:39.475Z"
   },
   {
    "duration": 8,
    "start_time": "2022-11-07T09:06:39.482Z"
   },
   {
    "duration": 53,
    "start_time": "2022-11-07T09:16:29.569Z"
   },
   {
    "duration": 21,
    "start_time": "2022-11-07T09:16:33.972Z"
   },
   {
    "duration": 9,
    "start_time": "2022-11-07T09:16:38.576Z"
   },
   {
    "duration": 1237,
    "start_time": "2022-11-07T09:16:55.531Z"
   },
   {
    "duration": 797,
    "start_time": "2022-11-07T09:16:56.770Z"
   },
   {
    "duration": 290,
    "start_time": "2022-11-07T09:16:57.568Z"
   },
   {
    "duration": 1646,
    "start_time": "2022-11-07T09:16:57.860Z"
   },
   {
    "duration": 746,
    "start_time": "2022-11-07T09:16:59.508Z"
   },
   {
    "duration": 123,
    "start_time": "2022-11-07T09:17:00.256Z"
   },
   {
    "duration": 32,
    "start_time": "2022-11-07T09:17:00.381Z"
   },
   {
    "duration": 21,
    "start_time": "2022-11-07T09:17:00.415Z"
   },
   {
    "duration": 41,
    "start_time": "2022-11-07T09:17:00.438Z"
   },
   {
    "duration": 20,
    "start_time": "2022-11-07T09:17:00.482Z"
   },
   {
    "duration": 117,
    "start_time": "2022-11-07T09:17:00.504Z"
   },
   {
    "duration": 502,
    "start_time": "2022-11-07T09:17:00.623Z"
   },
   {
    "duration": 53,
    "start_time": "2022-11-07T09:17:01.127Z"
   },
   {
    "duration": 179,
    "start_time": "2022-11-07T09:17:01.181Z"
   },
   {
    "duration": 29,
    "start_time": "2022-11-07T09:17:01.362Z"
   },
   {
    "duration": 69,
    "start_time": "2022-11-07T09:17:01.393Z"
   },
   {
    "duration": 4,
    "start_time": "2022-11-07T09:17:01.464Z"
   },
   {
    "duration": 15,
    "start_time": "2022-11-07T09:17:01.469Z"
   },
   {
    "duration": 34,
    "start_time": "2022-11-07T09:17:37.659Z"
   },
   {
    "duration": 25,
    "start_time": "2022-11-07T09:17:49.137Z"
   },
   {
    "duration": 25,
    "start_time": "2022-11-07T09:17:54.621Z"
   },
   {
    "duration": 27,
    "start_time": "2022-11-07T09:17:58.463Z"
   },
   {
    "duration": 97,
    "start_time": "2022-11-07T09:18:47.660Z"
   },
   {
    "duration": 367,
    "start_time": "2022-11-07T09:19:02.566Z"
   },
   {
    "duration": 382,
    "start_time": "2022-11-07T09:19:31.260Z"
   },
   {
    "duration": 379,
    "start_time": "2022-11-07T09:19:49.708Z"
   },
   {
    "duration": 1246,
    "start_time": "2022-11-07T09:20:42.766Z"
   },
   {
    "duration": 795,
    "start_time": "2022-11-07T09:20:44.014Z"
   },
   {
    "duration": 163,
    "start_time": "2022-11-07T09:20:44.810Z"
   },
   {
    "duration": 1667,
    "start_time": "2022-11-07T09:20:44.975Z"
   },
   {
    "duration": 1008,
    "start_time": "2022-11-07T09:20:46.644Z"
   },
   {
    "duration": 462,
    "start_time": "2022-11-07T09:20:47.654Z"
   },
   {
    "duration": 476,
    "start_time": "2022-11-07T09:20:48.118Z"
   },
   {
    "duration": 116,
    "start_time": "2022-11-07T09:20:48.595Z"
   },
   {
    "duration": 26,
    "start_time": "2022-11-07T09:20:48.712Z"
   },
   {
    "duration": 18,
    "start_time": "2022-11-07T09:20:48.740Z"
   },
   {
    "duration": 23,
    "start_time": "2022-11-07T09:20:48.759Z"
   },
   {
    "duration": 23,
    "start_time": "2022-11-07T09:20:48.784Z"
   },
   {
    "duration": 163,
    "start_time": "2022-11-07T09:20:48.822Z"
   },
   {
    "duration": 533,
    "start_time": "2022-11-07T09:20:48.987Z"
   },
   {
    "duration": 56,
    "start_time": "2022-11-07T09:20:49.522Z"
   },
   {
    "duration": 176,
    "start_time": "2022-11-07T09:20:49.580Z"
   },
   {
    "duration": 28,
    "start_time": "2022-11-07T09:20:49.757Z"
   },
   {
    "duration": 3,
    "start_time": "2022-11-07T09:20:49.787Z"
   },
   {
    "duration": 31,
    "start_time": "2022-11-07T09:20:49.792Z"
   },
   {
    "duration": 5,
    "start_time": "2022-11-07T09:20:49.825Z"
   },
   {
    "duration": 28,
    "start_time": "2022-11-07T09:28:35.138Z"
   },
   {
    "duration": 56,
    "start_time": "2022-11-07T09:28:51.933Z"
   },
   {
    "duration": 1284,
    "start_time": "2022-11-07T09:29:06.302Z"
   },
   {
    "duration": 1358,
    "start_time": "2022-11-07T09:29:07.588Z"
   },
   {
    "duration": 377,
    "start_time": "2022-11-07T09:29:08.948Z"
   },
   {
    "duration": 1086,
    "start_time": "2022-11-07T09:29:09.328Z"
   },
   {
    "duration": 738,
    "start_time": "2022-11-07T09:29:10.415Z"
   },
   {
    "duration": 451,
    "start_time": "2022-11-07T09:29:11.155Z"
   },
   {
    "duration": 499,
    "start_time": "2022-11-07T09:29:11.608Z"
   },
   {
    "duration": 120,
    "start_time": "2022-11-07T09:29:12.108Z"
   },
   {
    "duration": 18,
    "start_time": "2022-11-07T09:29:12.230Z"
   },
   {
    "duration": 35,
    "start_time": "2022-11-07T09:29:12.250Z"
   },
   {
    "duration": 36,
    "start_time": "2022-11-07T09:29:12.287Z"
   },
   {
    "duration": 32,
    "start_time": "2022-11-07T09:29:12.324Z"
   },
   {
    "duration": 130,
    "start_time": "2022-11-07T09:29:12.358Z"
   },
   {
    "duration": 485,
    "start_time": "2022-11-07T09:29:12.489Z"
   },
   {
    "duration": 65,
    "start_time": "2022-11-07T09:29:12.976Z"
   },
   {
    "duration": 193,
    "start_time": "2022-11-07T09:29:13.043Z"
   },
   {
    "duration": 54,
    "start_time": "2022-11-07T09:29:13.238Z"
   },
   {
    "duration": 2,
    "start_time": "2022-11-07T09:29:13.294Z"
   },
   {
    "duration": 18,
    "start_time": "2022-11-07T09:29:13.297Z"
   },
   {
    "duration": 10,
    "start_time": "2022-11-07T09:29:13.322Z"
   },
   {
    "duration": 78,
    "start_time": "2022-11-08T06:43:26.212Z"
   },
   {
    "duration": 1365,
    "start_time": "2022-11-08T06:43:31.387Z"
   },
   {
    "duration": 2832,
    "start_time": "2022-11-08T06:43:32.754Z"
   },
   {
    "duration": 182,
    "start_time": "2022-11-08T06:43:35.588Z"
   },
   {
    "duration": 901,
    "start_time": "2022-11-08T06:43:35.772Z"
   },
   {
    "duration": 797,
    "start_time": "2022-11-08T06:43:36.674Z"
   },
   {
    "duration": 441,
    "start_time": "2022-11-08T06:43:37.473Z"
   },
   {
    "duration": 482,
    "start_time": "2022-11-08T06:43:37.915Z"
   },
   {
    "duration": 109,
    "start_time": "2022-11-08T06:43:38.399Z"
   },
   {
    "duration": 29,
    "start_time": "2022-11-08T06:43:38.510Z"
   },
   {
    "duration": 44,
    "start_time": "2022-11-08T06:43:38.542Z"
   },
   {
    "duration": 29,
    "start_time": "2022-11-08T06:43:38.589Z"
   },
   {
    "duration": 22,
    "start_time": "2022-11-08T06:43:38.620Z"
   },
   {
    "duration": 109,
    "start_time": "2022-11-08T06:43:38.644Z"
   },
   {
    "duration": 520,
    "start_time": "2022-11-08T06:43:38.755Z"
   },
   {
    "duration": 54,
    "start_time": "2022-11-08T06:43:39.277Z"
   },
   {
    "duration": 167,
    "start_time": "2022-11-08T06:43:39.333Z"
   },
   {
    "duration": 51,
    "start_time": "2022-11-08T06:43:39.501Z"
   },
   {
    "duration": 17,
    "start_time": "2022-11-08T06:43:39.554Z"
   },
   {
    "duration": 12,
    "start_time": "2022-11-08T06:43:39.573Z"
   },
   {
    "duration": 11,
    "start_time": "2022-11-08T06:43:39.586Z"
   },
   {
    "duration": 53,
    "start_time": "2022-11-08T06:43:51.635Z"
   },
   {
    "duration": 30,
    "start_time": "2022-11-08T06:44:01.190Z"
   },
   {
    "duration": 32,
    "start_time": "2022-11-08T06:45:17.449Z"
   },
   {
    "duration": 22,
    "start_time": "2022-11-08T06:45:37.093Z"
   },
   {
    "duration": 80,
    "start_time": "2022-11-08T06:47:06.950Z"
   },
   {
    "duration": 23,
    "start_time": "2022-11-08T06:47:15.740Z"
   },
   {
    "duration": 21,
    "start_time": "2022-11-08T06:47:25.326Z"
   },
   {
    "duration": 5,
    "start_time": "2022-11-08T06:47:55.663Z"
   },
   {
    "duration": 6,
    "start_time": "2022-11-08T06:48:07.301Z"
   },
   {
    "duration": 7,
    "start_time": "2022-11-08T06:48:17.425Z"
   },
   {
    "duration": 8,
    "start_time": "2022-11-08T06:48:28.885Z"
   },
   {
    "duration": 670,
    "start_time": "2022-11-08T06:48:47.176Z"
   },
   {
    "duration": 749,
    "start_time": "2022-11-08T06:48:59.967Z"
   },
   {
    "duration": 826,
    "start_time": "2022-11-08T06:49:06.664Z"
   },
   {
    "duration": 9,
    "start_time": "2022-11-08T06:49:13.280Z"
   },
   {
    "duration": 25,
    "start_time": "2022-11-08T06:49:22.719Z"
   },
   {
    "duration": 13,
    "start_time": "2022-11-08T06:49:30.397Z"
   },
   {
    "duration": 409,
    "start_time": "2022-11-08T06:49:37.013Z"
   },
   {
    "duration": 14,
    "start_time": "2022-11-08T06:50:23.563Z"
   },
   {
    "duration": 112,
    "start_time": "2022-11-08T06:50:29.375Z"
   },
   {
    "duration": 14,
    "start_time": "2022-11-08T06:51:08.919Z"
   },
   {
    "duration": 9,
    "start_time": "2022-11-08T06:51:21.099Z"
   },
   {
    "duration": 110,
    "start_time": "2022-11-08T06:51:27.992Z"
   },
   {
    "duration": 13,
    "start_time": "2022-11-08T06:52:48.923Z"
   },
   {
    "duration": 11,
    "start_time": "2022-11-08T06:52:57.298Z"
   },
   {
    "duration": 37,
    "start_time": "2022-11-08T06:56:05.453Z"
   },
   {
    "duration": 14,
    "start_time": "2022-11-08T06:57:11.413Z"
   },
   {
    "duration": 29,
    "start_time": "2022-11-08T06:57:15.080Z"
   },
   {
    "duration": 22,
    "start_time": "2022-11-08T06:58:15.489Z"
   },
   {
    "duration": 19,
    "start_time": "2022-11-08T06:59:03.323Z"
   },
   {
    "duration": 19,
    "start_time": "2022-11-08T06:59:05.121Z"
   },
   {
    "duration": 419,
    "start_time": "2022-11-08T06:59:08.291Z"
   },
   {
    "duration": 23,
    "start_time": "2022-11-08T06:59:23.042Z"
   },
   {
    "duration": 21,
    "start_time": "2022-11-08T06:59:31.218Z"
   },
   {
    "duration": 24,
    "start_time": "2022-11-08T07:00:20.027Z"
   },
   {
    "duration": 26,
    "start_time": "2022-11-08T07:00:28.334Z"
   },
   {
    "duration": 21,
    "start_time": "2022-11-08T07:00:32.021Z"
   },
   {
    "duration": 26,
    "start_time": "2022-11-08T07:00:48.462Z"
   },
   {
    "duration": 8,
    "start_time": "2022-11-08T07:00:59.802Z"
   },
   {
    "duration": 37,
    "start_time": "2022-11-08T07:01:02.080Z"
   },
   {
    "duration": 29,
    "start_time": "2022-11-08T07:01:36.076Z"
   },
   {
    "duration": 51,
    "start_time": "2022-11-08T07:10:03.056Z"
   },
   {
    "duration": 41,
    "start_time": "2022-11-08T08:10:48.042Z"
   },
   {
    "duration": 4,
    "start_time": "2022-11-08T08:10:50.451Z"
   },
   {
    "duration": 24,
    "start_time": "2022-11-08T08:11:07.252Z"
   },
   {
    "duration": 1253,
    "start_time": "2022-11-08T08:12:04.168Z"
   },
   {
    "duration": 1150,
    "start_time": "2022-11-08T08:12:05.423Z"
   },
   {
    "duration": 111,
    "start_time": "2022-11-08T08:12:06.575Z"
   },
   {
    "duration": 762,
    "start_time": "2022-11-08T08:12:06.689Z"
   },
   {
    "duration": 782,
    "start_time": "2022-11-08T08:12:07.452Z"
   },
   {
    "duration": 406,
    "start_time": "2022-11-08T08:12:08.236Z"
   },
   {
    "duration": 451,
    "start_time": "2022-11-08T08:12:08.644Z"
   },
   {
    "duration": 105,
    "start_time": "2022-11-08T08:12:09.096Z"
   },
   {
    "duration": 17,
    "start_time": "2022-11-08T08:12:09.203Z"
   },
   {
    "duration": 16,
    "start_time": "2022-11-08T08:12:09.222Z"
   },
   {
    "duration": 35,
    "start_time": "2022-11-08T08:12:09.240Z"
   },
   {
    "duration": 18,
    "start_time": "2022-11-08T08:12:09.277Z"
   },
   {
    "duration": 106,
    "start_time": "2022-11-08T08:12:09.297Z"
   },
   {
    "duration": 518,
    "start_time": "2022-11-08T08:12:09.404Z"
   },
   {
    "duration": 68,
    "start_time": "2022-11-08T08:12:09.924Z"
   },
   {
    "duration": 192,
    "start_time": "2022-11-08T08:12:09.994Z"
   },
   {
    "duration": 52,
    "start_time": "2022-11-08T08:12:10.188Z"
   },
   {
    "duration": 33,
    "start_time": "2022-11-08T08:12:10.241Z"
   },
   {
    "duration": 56,
    "start_time": "2022-11-08T08:12:10.275Z"
   },
   {
    "duration": 4,
    "start_time": "2022-11-08T08:12:10.333Z"
   },
   {
    "duration": 39,
    "start_time": "2022-11-08T08:12:10.338Z"
   },
   {
    "duration": 3,
    "start_time": "2022-11-08T08:16:52.141Z"
   },
   {
    "duration": 427,
    "start_time": "2022-11-08T08:18:03.085Z"
   },
   {
    "duration": 20,
    "start_time": "2022-11-08T08:18:27.432Z"
   },
   {
    "duration": 19,
    "start_time": "2022-11-08T08:18:37.426Z"
   },
   {
    "duration": 13,
    "start_time": "2022-11-08T08:18:58.144Z"
   },
   {
    "duration": 107,
    "start_time": "2022-11-08T08:35:01.847Z"
   },
   {
    "duration": 11,
    "start_time": "2022-11-08T08:35:11.670Z"
   },
   {
    "duration": 103,
    "start_time": "2022-11-08T08:35:41.998Z"
   },
   {
    "duration": 74,
    "start_time": "2022-11-08T08:36:02.455Z"
   },
   {
    "duration": 263,
    "start_time": "2022-11-08T08:44:05.011Z"
   },
   {
    "duration": 14,
    "start_time": "2022-11-08T08:46:33.533Z"
   },
   {
    "duration": 13,
    "start_time": "2022-11-08T08:47:02.371Z"
   },
   {
    "duration": 12,
    "start_time": "2022-11-08T08:47:37.064Z"
   },
   {
    "duration": 56,
    "start_time": "2022-11-08T08:47:41.470Z"
   },
   {
    "duration": 22,
    "start_time": "2022-11-08T08:47:49.372Z"
   },
   {
    "duration": 23,
    "start_time": "2022-11-08T08:48:41.127Z"
   },
   {
    "duration": 39,
    "start_time": "2022-11-08T08:48:45.027Z"
   },
   {
    "duration": 1305,
    "start_time": "2022-11-08T08:48:52.281Z"
   },
   {
    "duration": 738,
    "start_time": "2022-11-08T08:48:53.587Z"
   },
   {
    "duration": 121,
    "start_time": "2022-11-08T08:48:54.326Z"
   },
   {
    "duration": 777,
    "start_time": "2022-11-08T08:48:54.449Z"
   },
   {
    "duration": 740,
    "start_time": "2022-11-08T08:48:55.228Z"
   },
   {
    "duration": 736,
    "start_time": "2022-11-08T08:48:55.970Z"
   },
   {
    "duration": 1066,
    "start_time": "2022-11-08T08:48:56.707Z"
   },
   {
    "duration": 200,
    "start_time": "2022-11-08T08:48:57.775Z"
   },
   {
    "duration": 16,
    "start_time": "2022-11-08T08:48:57.977Z"
   },
   {
    "duration": 16,
    "start_time": "2022-11-08T08:48:57.995Z"
   },
   {
    "duration": 15,
    "start_time": "2022-11-08T08:48:58.013Z"
   },
   {
    "duration": 42,
    "start_time": "2022-11-08T08:48:58.030Z"
   },
   {
    "duration": 104,
    "start_time": "2022-11-08T08:48:58.074Z"
   },
   {
    "duration": 508,
    "start_time": "2022-11-08T08:48:58.180Z"
   },
   {
    "duration": 53,
    "start_time": "2022-11-08T08:48:58.690Z"
   },
   {
    "duration": 184,
    "start_time": "2022-11-08T08:48:58.744Z"
   },
   {
    "duration": 58,
    "start_time": "2022-11-08T08:48:58.929Z"
   },
   {
    "duration": 19,
    "start_time": "2022-11-08T08:48:58.989Z"
   },
   {
    "duration": 64,
    "start_time": "2022-11-08T08:48:59.010Z"
   },
   {
    "duration": 103,
    "start_time": "2022-11-08T08:48:59.075Z"
   },
   {
    "duration": 3276,
    "start_time": "2022-11-08T08:48:59.180Z"
   },
   {
    "duration": 27,
    "start_time": "2022-11-08T08:49:02.458Z"
   },
   {
    "duration": 3,
    "start_time": "2022-11-08T08:49:02.487Z"
   },
   {
    "duration": 21,
    "start_time": "2022-11-08T08:49:13.919Z"
   },
   {
    "duration": 1223,
    "start_time": "2022-11-08T08:49:22.688Z"
   },
   {
    "duration": 1269,
    "start_time": "2022-11-08T08:49:23.913Z"
   },
   {
    "duration": 218,
    "start_time": "2022-11-08T08:49:25.184Z"
   },
   {
    "duration": 1041,
    "start_time": "2022-11-08T08:49:25.404Z"
   },
   {
    "duration": 752,
    "start_time": "2022-11-08T08:49:26.447Z"
   },
   {
    "duration": 417,
    "start_time": "2022-11-08T08:49:27.201Z"
   },
   {
    "duration": 438,
    "start_time": "2022-11-08T08:49:27.620Z"
   },
   {
    "duration": 108,
    "start_time": "2022-11-08T08:49:28.060Z"
   },
   {
    "duration": 17,
    "start_time": "2022-11-08T08:49:28.170Z"
   },
   {
    "duration": 16,
    "start_time": "2022-11-08T08:49:28.190Z"
   },
   {
    "duration": 17,
    "start_time": "2022-11-08T08:49:28.208Z"
   },
   {
    "duration": 27,
    "start_time": "2022-11-08T08:49:28.226Z"
   },
   {
    "duration": 106,
    "start_time": "2022-11-08T08:49:28.268Z"
   },
   {
    "duration": 518,
    "start_time": "2022-11-08T08:49:28.376Z"
   },
   {
    "duration": 56,
    "start_time": "2022-11-08T08:49:28.896Z"
   },
   {
    "duration": 168,
    "start_time": "2022-11-08T08:49:28.954Z"
   },
   {
    "duration": 53,
    "start_time": "2022-11-08T08:49:29.124Z"
   },
   {
    "duration": 20,
    "start_time": "2022-11-08T08:49:29.179Z"
   },
   {
    "duration": 71,
    "start_time": "2022-11-08T08:49:29.201Z"
   },
   {
    "duration": 19,
    "start_time": "2022-11-08T08:49:29.274Z"
   },
   {
    "duration": 2,
    "start_time": "2022-11-08T08:49:29.295Z"
   },
   {
    "duration": 31,
    "start_time": "2022-11-08T08:49:29.298Z"
   },
   {
    "duration": 3,
    "start_time": "2022-11-08T08:49:29.331Z"
   },
   {
    "duration": 5,
    "start_time": "2022-11-08T08:50:41.009Z"
   },
   {
    "duration": 137,
    "start_time": "2022-11-08T08:52:20.132Z"
   },
   {
    "duration": 10,
    "start_time": "2022-11-08T08:52:52.582Z"
   },
   {
    "duration": 8,
    "start_time": "2022-11-08T08:53:08.101Z"
   },
   {
    "duration": 7,
    "start_time": "2022-11-08T08:53:13.145Z"
   },
   {
    "duration": 55,
    "start_time": "2022-11-08T08:53:24.730Z"
   },
   {
    "duration": 2394,
    "start_time": "2022-11-08T08:53:33.369Z"
   },
   {
    "duration": 52,
    "start_time": "2022-11-08T08:53:55.115Z"
   },
   {
    "duration": 2406,
    "start_time": "2022-11-08T08:54:56.023Z"
   },
   {
    "duration": 53,
    "start_time": "2022-11-08T08:55:07.551Z"
   },
   {
    "duration": 54,
    "start_time": "2022-11-08T08:55:09.379Z"
   },
   {
    "duration": 2494,
    "start_time": "2022-11-08T08:55:14.041Z"
   },
   {
    "duration": 52,
    "start_time": "2022-11-08T08:55:23.430Z"
   },
   {
    "duration": 18,
    "start_time": "2022-11-08T08:56:56.427Z"
   },
   {
    "duration": 65,
    "start_time": "2022-11-08T08:57:00.491Z"
   },
   {
    "duration": 8,
    "start_time": "2022-11-08T08:57:15.933Z"
   },
   {
    "duration": 5,
    "start_time": "2022-11-08T08:57:20.386Z"
   },
   {
    "duration": 18,
    "start_time": "2022-11-08T08:57:23.091Z"
   },
   {
    "duration": 8,
    "start_time": "2022-11-08T08:57:30.571Z"
   },
   {
    "duration": 79,
    "start_time": "2022-11-08T08:57:35.484Z"
   },
   {
    "duration": 83,
    "start_time": "2022-11-08T08:57:44.484Z"
   },
   {
    "duration": 8,
    "start_time": "2022-11-08T08:57:45.949Z"
   },
   {
    "duration": 5,
    "start_time": "2022-11-08T08:57:54.245Z"
   },
   {
    "duration": 8,
    "start_time": "2022-11-08T08:58:48.031Z"
   },
   {
    "duration": 3,
    "start_time": "2022-11-08T08:59:14.849Z"
   },
   {
    "duration": 1299,
    "start_time": "2022-11-08T08:59:39.038Z"
   },
   {
    "duration": 3,
    "start_time": "2022-11-08T08:59:40.338Z"
   },
   {
    "duration": 762,
    "start_time": "2022-11-08T08:59:40.342Z"
   },
   {
    "duration": 120,
    "start_time": "2022-11-08T08:59:41.106Z"
   },
   {
    "duration": 855,
    "start_time": "2022-11-08T08:59:41.229Z"
   },
   {
    "duration": 1515,
    "start_time": "2022-11-08T08:59:42.086Z"
   },
   {
    "duration": 707,
    "start_time": "2022-11-08T08:59:43.602Z"
   },
   {
    "duration": 466,
    "start_time": "2022-11-08T08:59:44.311Z"
   },
   {
    "duration": 112,
    "start_time": "2022-11-08T08:59:44.778Z"
   },
   {
    "duration": 18,
    "start_time": "2022-11-08T08:59:44.892Z"
   },
   {
    "duration": 19,
    "start_time": "2022-11-08T08:59:44.912Z"
   },
   {
    "duration": 50,
    "start_time": "2022-11-08T08:59:44.933Z"
   },
   {
    "duration": 29,
    "start_time": "2022-11-08T08:59:44.986Z"
   },
   {
    "duration": 137,
    "start_time": "2022-11-08T08:59:45.019Z"
   },
   {
    "duration": 535,
    "start_time": "2022-11-08T08:59:45.157Z"
   },
   {
    "duration": 62,
    "start_time": "2022-11-08T08:59:45.695Z"
   },
   {
    "duration": 170,
    "start_time": "2022-11-08T08:59:45.768Z"
   },
   {
    "duration": 64,
    "start_time": "2022-11-08T08:59:45.939Z"
   },
   {
    "duration": 19,
    "start_time": "2022-11-08T08:59:46.005Z"
   },
   {
    "duration": 58,
    "start_time": "2022-11-08T08:59:46.025Z"
   },
   {
    "duration": 7,
    "start_time": "2022-11-08T08:59:46.085Z"
   },
   {
    "duration": 2437,
    "start_time": "2022-11-08T08:59:46.093Z"
   },
   {
    "duration": 141,
    "start_time": "2022-11-08T08:59:48.532Z"
   },
   {
    "duration": 6,
    "start_time": "2022-11-08T08:59:48.674Z"
   },
   {
    "duration": 34,
    "start_time": "2022-11-08T08:59:48.682Z"
   },
   {
    "duration": 4,
    "start_time": "2022-11-08T08:59:48.718Z"
   },
   {
    "duration": 3,
    "start_time": "2022-11-08T09:00:20.767Z"
   },
   {
    "duration": 493,
    "start_time": "2022-11-08T09:00:47.475Z"
   },
   {
    "duration": 1359,
    "start_time": "2022-11-08T09:01:12.064Z"
   },
   {
    "duration": 3,
    "start_time": "2022-11-08T09:01:13.425Z"
   },
   {
    "duration": 759,
    "start_time": "2022-11-08T09:01:13.429Z"
   },
   {
    "duration": 116,
    "start_time": "2022-11-08T09:01:14.189Z"
   },
   {
    "duration": 1596,
    "start_time": "2022-11-08T09:01:14.307Z"
   },
   {
    "duration": 1068,
    "start_time": "2022-11-08T09:01:15.905Z"
   },
   {
    "duration": 407,
    "start_time": "2022-11-08T09:01:16.975Z"
   },
   {
    "duration": 467,
    "start_time": "2022-11-08T09:01:17.384Z"
   },
   {
    "duration": 101,
    "start_time": "2022-11-08T09:01:17.852Z"
   },
   {
    "duration": 22,
    "start_time": "2022-11-08T09:01:17.956Z"
   },
   {
    "duration": 28,
    "start_time": "2022-11-08T09:01:17.981Z"
   },
   {
    "duration": 28,
    "start_time": "2022-11-08T09:01:18.011Z"
   },
   {
    "duration": 53,
    "start_time": "2022-11-08T09:01:18.042Z"
   },
   {
    "duration": 98,
    "start_time": "2022-11-08T09:01:18.097Z"
   },
   {
    "duration": 514,
    "start_time": "2022-11-08T09:01:18.196Z"
   },
   {
    "duration": 63,
    "start_time": "2022-11-08T09:01:18.712Z"
   },
   {
    "duration": 173,
    "start_time": "2022-11-08T09:01:18.776Z"
   },
   {
    "duration": 54,
    "start_time": "2022-11-08T09:01:18.951Z"
   },
   {
    "duration": 16,
    "start_time": "2022-11-08T09:01:19.007Z"
   },
   {
    "duration": 65,
    "start_time": "2022-11-08T09:01:19.025Z"
   },
   {
    "duration": 7,
    "start_time": "2022-11-08T09:01:19.091Z"
   },
   {
    "duration": 2098,
    "start_time": "2022-11-08T09:01:19.099Z"
   },
   {
    "duration": 3,
    "start_time": "2022-11-08T09:01:21.199Z"
   },
   {
    "duration": 115,
    "start_time": "2022-11-08T09:01:21.203Z"
   },
   {
    "duration": 0,
    "start_time": "2022-11-08T09:01:21.320Z"
   },
   {
    "duration": 0,
    "start_time": "2022-11-08T09:01:21.321Z"
   },
   {
    "duration": 23,
    "start_time": "2022-11-08T09:01:33.456Z"
   },
   {
    "duration": 3,
    "start_time": "2022-11-08T09:01:35.641Z"
   },
   {
    "duration": 68,
    "start_time": "2022-11-08T09:01:49.683Z"
   },
   {
    "duration": 3,
    "start_time": "2022-11-08T09:01:54.569Z"
   },
   {
    "duration": 1233,
    "start_time": "2022-11-08T09:02:05.229Z"
   },
   {
    "duration": 3,
    "start_time": "2022-11-08T09:02:06.464Z"
   },
   {
    "duration": 758,
    "start_time": "2022-11-08T09:02:06.470Z"
   },
   {
    "duration": 109,
    "start_time": "2022-11-08T09:02:07.230Z"
   },
   {
    "duration": 781,
    "start_time": "2022-11-08T09:02:07.341Z"
   },
   {
    "duration": 769,
    "start_time": "2022-11-08T09:02:08.124Z"
   },
   {
    "duration": 617,
    "start_time": "2022-11-08T09:02:08.894Z"
   },
   {
    "duration": 998,
    "start_time": "2022-11-08T09:02:09.512Z"
   },
   {
    "duration": 266,
    "start_time": "2022-11-08T09:02:10.512Z"
   },
   {
    "duration": 27,
    "start_time": "2022-11-08T09:02:10.782Z"
   },
   {
    "duration": 68,
    "start_time": "2022-11-08T09:02:10.811Z"
   },
   {
    "duration": 17,
    "start_time": "2022-11-08T09:02:10.881Z"
   },
   {
    "duration": 71,
    "start_time": "2022-11-08T09:02:10.899Z"
   },
   {
    "duration": 196,
    "start_time": "2022-11-08T09:02:10.972Z"
   },
   {
    "duration": 1024,
    "start_time": "2022-11-08T09:02:11.170Z"
   },
   {
    "duration": 107,
    "start_time": "2022-11-08T09:02:12.195Z"
   },
   {
    "duration": 368,
    "start_time": "2022-11-08T09:02:12.304Z"
   },
   {
    "duration": 100,
    "start_time": "2022-11-08T09:02:12.674Z"
   },
   {
    "duration": 22,
    "start_time": "2022-11-08T09:02:12.775Z"
   },
   {
    "duration": 94,
    "start_time": "2022-11-08T09:02:12.799Z"
   },
   {
    "duration": 6,
    "start_time": "2022-11-08T09:02:12.894Z"
   },
   {
    "duration": 3050,
    "start_time": "2022-11-08T09:02:12.902Z"
   },
   {
    "duration": 152,
    "start_time": "2022-11-08T09:02:15.953Z"
   },
   {
    "duration": 6,
    "start_time": "2022-11-08T09:02:16.107Z"
   },
   {
    "duration": 31,
    "start_time": "2022-11-08T09:02:16.114Z"
   },
   {
    "duration": 3,
    "start_time": "2022-11-08T09:02:16.146Z"
   },
   {
    "duration": 1257,
    "start_time": "2022-11-08T09:05:58.675Z"
   },
   {
    "duration": 2,
    "start_time": "2022-11-08T09:05:59.934Z"
   },
   {
    "duration": 769,
    "start_time": "2022-11-08T09:05:59.938Z"
   },
   {
    "duration": 124,
    "start_time": "2022-11-08T09:06:00.709Z"
   },
   {
    "duration": 1638,
    "start_time": "2022-11-08T09:06:00.836Z"
   },
   {
    "duration": 865,
    "start_time": "2022-11-08T09:06:02.476Z"
   },
   {
    "duration": 435,
    "start_time": "2022-11-08T09:06:03.343Z"
   },
   {
    "duration": 484,
    "start_time": "2022-11-08T09:06:03.779Z"
   },
   {
    "duration": 119,
    "start_time": "2022-11-08T09:06:04.265Z"
   },
   {
    "duration": 17,
    "start_time": "2022-11-08T09:06:04.385Z"
   },
   {
    "duration": 17,
    "start_time": "2022-11-08T09:06:04.403Z"
   },
   {
    "duration": 19,
    "start_time": "2022-11-08T09:06:04.421Z"
   },
   {
    "duration": 39,
    "start_time": "2022-11-08T09:06:04.442Z"
   },
   {
    "duration": 113,
    "start_time": "2022-11-08T09:06:04.485Z"
   },
   {
    "duration": 500,
    "start_time": "2022-11-08T09:06:04.600Z"
   },
   {
    "duration": 66,
    "start_time": "2022-11-08T09:06:05.102Z"
   },
   {
    "duration": 155,
    "start_time": "2022-11-08T09:06:05.170Z"
   },
   {
    "duration": 64,
    "start_time": "2022-11-08T09:06:05.327Z"
   },
   {
    "duration": 23,
    "start_time": "2022-11-08T09:06:05.393Z"
   },
   {
    "duration": 91,
    "start_time": "2022-11-08T09:06:05.418Z"
   },
   {
    "duration": 6,
    "start_time": "2022-11-08T09:06:05.511Z"
   },
   {
    "duration": 2130,
    "start_time": "2022-11-08T09:06:05.518Z"
   },
   {
    "duration": 110,
    "start_time": "2022-11-08T09:06:07.649Z"
   },
   {
    "duration": 0,
    "start_time": "2022-11-08T09:06:07.761Z"
   },
   {
    "duration": 0,
    "start_time": "2022-11-08T09:06:07.762Z"
   },
   {
    "duration": 0,
    "start_time": "2022-11-08T09:06:07.762Z"
   },
   {
    "duration": 15,
    "start_time": "2022-11-08T09:08:06.727Z"
   },
   {
    "duration": 764,
    "start_time": "2022-11-08T09:08:11.632Z"
   },
   {
    "duration": 15,
    "start_time": "2022-11-08T09:14:59.501Z"
   },
   {
    "duration": 12,
    "start_time": "2022-11-08T09:16:46.553Z"
   },
   {
    "duration": 1258,
    "start_time": "2022-11-08T09:17:09.767Z"
   },
   {
    "duration": 3,
    "start_time": "2022-11-08T09:17:11.027Z"
   },
   {
    "duration": 756,
    "start_time": "2022-11-08T09:17:11.031Z"
   },
   {
    "duration": 108,
    "start_time": "2022-11-08T09:17:11.789Z"
   },
   {
    "duration": 793,
    "start_time": "2022-11-08T09:17:11.898Z"
   },
   {
    "duration": 818,
    "start_time": "2022-11-08T09:17:12.693Z"
   },
   {
    "duration": 876,
    "start_time": "2022-11-08T09:17:13.513Z"
   },
   {
    "duration": 980,
    "start_time": "2022-11-08T09:17:14.390Z"
   },
   {
    "duration": 106,
    "start_time": "2022-11-08T09:17:15.372Z"
   },
   {
    "duration": 21,
    "start_time": "2022-11-08T09:17:15.480Z"
   },
   {
    "duration": 37,
    "start_time": "2022-11-08T09:17:15.503Z"
   },
   {
    "duration": 33,
    "start_time": "2022-11-08T09:17:15.542Z"
   },
   {
    "duration": 59,
    "start_time": "2022-11-08T09:17:15.577Z"
   },
   {
    "duration": 100,
    "start_time": "2022-11-08T09:17:15.639Z"
   },
   {
    "duration": 595,
    "start_time": "2022-11-08T09:17:15.741Z"
   },
   {
    "duration": 66,
    "start_time": "2022-11-08T09:17:16.337Z"
   },
   {
    "duration": 176,
    "start_time": "2022-11-08T09:17:16.405Z"
   },
   {
    "duration": 31,
    "start_time": "2022-11-08T09:17:16.583Z"
   },
   {
    "duration": 35,
    "start_time": "2022-11-08T09:17:16.616Z"
   },
   {
    "duration": 19,
    "start_time": "2022-11-08T09:17:16.652Z"
   },
   {
    "duration": 19,
    "start_time": "2022-11-08T09:17:16.673Z"
   },
   {
    "duration": 7,
    "start_time": "2022-11-08T09:17:16.694Z"
   },
   {
    "duration": 2143,
    "start_time": "2022-11-08T09:17:16.703Z"
   },
   {
    "duration": 115,
    "start_time": "2022-11-08T09:17:18.848Z"
   },
   {
    "duration": 0,
    "start_time": "2022-11-08T09:17:18.968Z"
   },
   {
    "duration": 0,
    "start_time": "2022-11-08T09:17:18.969Z"
   },
   {
    "duration": 72,
    "start_time": "2022-11-08T09:17:41.792Z"
   },
   {
    "duration": 8,
    "start_time": "2022-11-08T09:17:43.283Z"
   },
   {
    "duration": 3,
    "start_time": "2022-11-08T09:17:46.015Z"
   },
   {
    "duration": 460,
    "start_time": "2022-11-08T09:18:53.565Z"
   },
   {
    "duration": 29,
    "start_time": "2022-11-08T09:19:44.923Z"
   },
   {
    "duration": 9,
    "start_time": "2022-11-08T09:20:54.138Z"
   },
   {
    "duration": 1247,
    "start_time": "2022-11-08T09:21:11.771Z"
   },
   {
    "duration": 2,
    "start_time": "2022-11-08T09:21:13.020Z"
   },
   {
    "duration": 746,
    "start_time": "2022-11-08T09:21:13.024Z"
   },
   {
    "duration": 117,
    "start_time": "2022-11-08T09:21:13.772Z"
   },
   {
    "duration": 811,
    "start_time": "2022-11-08T09:21:13.892Z"
   },
   {
    "duration": 790,
    "start_time": "2022-11-08T09:21:14.704Z"
   },
   {
    "duration": 433,
    "start_time": "2022-11-08T09:21:15.496Z"
   },
   {
    "duration": 498,
    "start_time": "2022-11-08T09:21:15.931Z"
   },
   {
    "duration": 139,
    "start_time": "2022-11-08T09:21:16.431Z"
   },
   {
    "duration": 17,
    "start_time": "2022-11-08T09:21:16.571Z"
   },
   {
    "duration": 16,
    "start_time": "2022-11-08T09:21:16.590Z"
   },
   {
    "duration": 19,
    "start_time": "2022-11-08T09:21:16.608Z"
   },
   {
    "duration": 20,
    "start_time": "2022-11-08T09:21:16.629Z"
   },
   {
    "duration": 106,
    "start_time": "2022-11-08T09:21:16.667Z"
   },
   {
    "duration": 509,
    "start_time": "2022-11-08T09:21:16.774Z"
   },
   {
    "duration": 56,
    "start_time": "2022-11-08T09:21:17.284Z"
   },
   {
    "duration": 159,
    "start_time": "2022-11-08T09:21:17.342Z"
   },
   {
    "duration": 28,
    "start_time": "2022-11-08T09:21:17.503Z"
   },
   {
    "duration": 27,
    "start_time": "2022-11-08T09:21:17.533Z"
   },
   {
    "duration": 17,
    "start_time": "2022-11-08T09:21:17.561Z"
   },
   {
    "duration": 4,
    "start_time": "2022-11-08T09:21:17.580Z"
   },
   {
    "duration": 2007,
    "start_time": "2022-11-08T09:21:17.586Z"
   },
   {
    "duration": 74,
    "start_time": "2022-11-08T09:21:19.595Z"
   },
   {
    "duration": 7,
    "start_time": "2022-11-08T09:21:19.670Z"
   },
   {
    "duration": 15,
    "start_time": "2022-11-08T09:21:19.678Z"
   },
   {
    "duration": 3,
    "start_time": "2022-11-08T09:21:19.694Z"
   },
   {
    "duration": 5,
    "start_time": "2022-11-08T09:21:35.232Z"
   },
   {
    "duration": 1229,
    "start_time": "2022-11-08T09:21:42.085Z"
   },
   {
    "duration": 3,
    "start_time": "2022-11-08T09:21:43.316Z"
   },
   {
    "duration": 789,
    "start_time": "2022-11-08T09:21:43.320Z"
   },
   {
    "duration": 110,
    "start_time": "2022-11-08T09:21:44.111Z"
   },
   {
    "duration": 809,
    "start_time": "2022-11-08T09:21:44.223Z"
   },
   {
    "duration": 811,
    "start_time": "2022-11-08T09:21:45.034Z"
   },
   {
    "duration": 486,
    "start_time": "2022-11-08T09:21:45.847Z"
   },
   {
    "duration": 458,
    "start_time": "2022-11-08T09:21:46.334Z"
   },
   {
    "duration": 107,
    "start_time": "2022-11-08T09:21:46.794Z"
   },
   {
    "duration": 18,
    "start_time": "2022-11-08T09:21:46.902Z"
   },
   {
    "duration": 17,
    "start_time": "2022-11-08T09:21:46.921Z"
   },
   {
    "duration": 38,
    "start_time": "2022-11-08T09:21:46.940Z"
   },
   {
    "duration": 18,
    "start_time": "2022-11-08T09:21:46.979Z"
   },
   {
    "duration": 102,
    "start_time": "2022-11-08T09:21:47.000Z"
   },
   {
    "duration": 499,
    "start_time": "2022-11-08T09:21:47.103Z"
   },
   {
    "duration": 64,
    "start_time": "2022-11-08T09:21:47.604Z"
   },
   {
    "duration": 171,
    "start_time": "2022-11-08T09:21:47.669Z"
   },
   {
    "duration": 32,
    "start_time": "2022-11-08T09:21:47.842Z"
   },
   {
    "duration": 25,
    "start_time": "2022-11-08T09:21:47.876Z"
   },
   {
    "duration": 14,
    "start_time": "2022-11-08T09:21:47.903Z"
   },
   {
    "duration": 5,
    "start_time": "2022-11-08T09:21:47.918Z"
   },
   {
    "duration": 2004,
    "start_time": "2022-11-08T09:21:47.924Z"
   },
   {
    "duration": 71,
    "start_time": "2022-11-08T09:21:49.929Z"
   },
   {
    "duration": 6,
    "start_time": "2022-11-08T09:21:50.002Z"
   },
   {
    "duration": 25,
    "start_time": "2022-11-08T09:21:50.009Z"
   },
   {
    "duration": 4,
    "start_time": "2022-11-08T09:21:50.035Z"
   },
   {
    "duration": 57,
    "start_time": "2022-11-08T09:25:01.777Z"
   },
   {
    "duration": 424,
    "start_time": "2022-11-08T09:28:48.377Z"
   },
   {
    "duration": 1288,
    "start_time": "2022-11-08T09:29:04.927Z"
   },
   {
    "duration": 4,
    "start_time": "2022-11-08T09:29:06.217Z"
   },
   {
    "duration": 754,
    "start_time": "2022-11-08T09:29:06.222Z"
   },
   {
    "duration": 118,
    "start_time": "2022-11-08T09:29:06.979Z"
   },
   {
    "duration": 809,
    "start_time": "2022-11-08T09:29:07.099Z"
   },
   {
    "duration": 752,
    "start_time": "2022-11-08T09:29:07.909Z"
   },
   {
    "duration": 423,
    "start_time": "2022-11-08T09:29:08.662Z"
   },
   {
    "duration": 468,
    "start_time": "2022-11-08T09:29:09.086Z"
   },
   {
    "duration": 116,
    "start_time": "2022-11-08T09:29:09.555Z"
   },
   {
    "duration": 23,
    "start_time": "2022-11-08T09:29:09.674Z"
   },
   {
    "duration": 20,
    "start_time": "2022-11-08T09:29:09.699Z"
   },
   {
    "duration": 20,
    "start_time": "2022-11-08T09:29:09.721Z"
   },
   {
    "duration": 39,
    "start_time": "2022-11-08T09:29:09.743Z"
   },
   {
    "duration": 104,
    "start_time": "2022-11-08T09:29:09.784Z"
   },
   {
    "duration": 492,
    "start_time": "2022-11-08T09:29:09.889Z"
   },
   {
    "duration": 56,
    "start_time": "2022-11-08T09:29:10.383Z"
   },
   {
    "duration": 167,
    "start_time": "2022-11-08T09:29:10.441Z"
   },
   {
    "duration": 29,
    "start_time": "2022-11-08T09:29:10.610Z"
   },
   {
    "duration": 35,
    "start_time": "2022-11-08T09:29:10.641Z"
   },
   {
    "duration": 14,
    "start_time": "2022-11-08T09:29:10.677Z"
   },
   {
    "duration": 5,
    "start_time": "2022-11-08T09:29:10.693Z"
   },
   {
    "duration": 2103,
    "start_time": "2022-11-08T09:29:10.699Z"
   },
   {
    "duration": 78,
    "start_time": "2022-11-08T09:29:12.804Z"
   },
   {
    "duration": 8,
    "start_time": "2022-11-08T09:29:12.883Z"
   },
   {
    "duration": 56,
    "start_time": "2022-11-08T09:29:12.892Z"
   },
   {
    "duration": 30,
    "start_time": "2022-11-08T09:29:12.950Z"
   },
   {
    "duration": 770,
    "start_time": "2022-11-08T11:05:44.770Z"
   },
   {
    "duration": 578,
    "start_time": "2022-11-08T11:09:28.446Z"
   },
   {
    "duration": 1318,
    "start_time": "2022-11-08T11:09:38.367Z"
   },
   {
    "duration": 2,
    "start_time": "2022-11-08T11:09:39.687Z"
   },
   {
    "duration": 760,
    "start_time": "2022-11-08T11:09:39.690Z"
   },
   {
    "duration": 131,
    "start_time": "2022-11-08T11:09:40.453Z"
   },
   {
    "duration": 838,
    "start_time": "2022-11-08T11:09:40.586Z"
   },
   {
    "duration": 758,
    "start_time": "2022-11-08T11:09:41.426Z"
   },
   {
    "duration": 440,
    "start_time": "2022-11-08T11:09:42.186Z"
   },
   {
    "duration": 467,
    "start_time": "2022-11-08T11:09:42.628Z"
   },
   {
    "duration": 108,
    "start_time": "2022-11-08T11:09:43.097Z"
   },
   {
    "duration": 18,
    "start_time": "2022-11-08T11:09:43.207Z"
   },
   {
    "duration": 16,
    "start_time": "2022-11-08T11:09:43.226Z"
   },
   {
    "duration": 37,
    "start_time": "2022-11-08T11:09:43.244Z"
   },
   {
    "duration": 19,
    "start_time": "2022-11-08T11:09:43.282Z"
   },
   {
    "duration": 120,
    "start_time": "2022-11-08T11:09:43.302Z"
   },
   {
    "duration": 520,
    "start_time": "2022-11-08T11:09:43.424Z"
   },
   {
    "duration": 62,
    "start_time": "2022-11-08T11:09:43.946Z"
   },
   {
    "duration": 164,
    "start_time": "2022-11-08T11:09:44.009Z"
   },
   {
    "duration": 30,
    "start_time": "2022-11-08T11:09:44.174Z"
   },
   {
    "duration": 33,
    "start_time": "2022-11-08T11:09:44.206Z"
   },
   {
    "duration": 14,
    "start_time": "2022-11-08T11:09:44.241Z"
   },
   {
    "duration": 35,
    "start_time": "2022-11-08T11:09:44.257Z"
   },
   {
    "duration": 2144,
    "start_time": "2022-11-08T11:09:44.294Z"
   },
   {
    "duration": 79,
    "start_time": "2022-11-08T11:09:46.440Z"
   },
   {
    "duration": 13,
    "start_time": "2022-11-08T11:09:46.521Z"
   },
   {
    "duration": 40,
    "start_time": "2022-11-08T11:09:46.535Z"
   },
   {
    "duration": 6,
    "start_time": "2022-11-08T11:09:46.576Z"
   },
   {
    "duration": 698,
    "start_time": "2022-11-08T11:09:46.584Z"
   },
   {
    "duration": 907,
    "start_time": "2022-11-08T11:21:10.653Z"
   },
   {
    "duration": 12,
    "start_time": "2022-11-08T11:22:01.742Z"
   },
   {
    "duration": 125,
    "start_time": "2022-11-08T11:25:12.175Z"
   },
   {
    "duration": 65,
    "start_time": "2022-11-08T11:25:22.588Z"
   },
   {
    "duration": 28,
    "start_time": "2022-11-08T11:25:24.343Z"
   },
   {
    "duration": 4,
    "start_time": "2022-11-08T11:26:21.606Z"
   },
   {
    "duration": 2316,
    "start_time": "2022-11-08T11:49:06.946Z"
   },
   {
    "duration": 3,
    "start_time": "2022-11-08T12:33:35.545Z"
   },
   {
    "duration": 58,
    "start_time": "2022-11-08T12:34:11.254Z"
   },
   {
    "duration": 1232,
    "start_time": "2022-11-08T12:35:24.504Z"
   },
   {
    "duration": 3,
    "start_time": "2022-11-08T12:35:25.738Z"
   },
   {
    "duration": 878,
    "start_time": "2022-11-08T12:35:25.742Z"
   },
   {
    "duration": 125,
    "start_time": "2022-11-08T12:35:26.622Z"
   },
   {
    "duration": 809,
    "start_time": "2022-11-08T12:35:26.749Z"
   },
   {
    "duration": 922,
    "start_time": "2022-11-08T12:35:27.560Z"
   },
   {
    "duration": 900,
    "start_time": "2022-11-08T12:35:28.484Z"
   },
   {
    "duration": 853,
    "start_time": "2022-11-08T12:35:29.385Z"
   },
   {
    "duration": 107,
    "start_time": "2022-11-08T12:35:30.240Z"
   },
   {
    "duration": 40,
    "start_time": "2022-11-08T12:35:30.350Z"
   },
   {
    "duration": 29,
    "start_time": "2022-11-08T12:35:30.391Z"
   },
   {
    "duration": 37,
    "start_time": "2022-11-08T12:35:30.422Z"
   },
   {
    "duration": 30,
    "start_time": "2022-11-08T12:35:30.461Z"
   },
   {
    "duration": 121,
    "start_time": "2022-11-08T12:35:30.493Z"
   },
   {
    "duration": 538,
    "start_time": "2022-11-08T12:35:30.616Z"
   },
   {
    "duration": 60,
    "start_time": "2022-11-08T12:35:31.155Z"
   },
   {
    "duration": 178,
    "start_time": "2022-11-08T12:35:31.217Z"
   },
   {
    "duration": 31,
    "start_time": "2022-11-08T12:35:31.397Z"
   },
   {
    "duration": 29,
    "start_time": "2022-11-08T12:35:31.430Z"
   },
   {
    "duration": 14,
    "start_time": "2022-11-08T12:35:31.468Z"
   },
   {
    "duration": 13,
    "start_time": "2022-11-08T12:35:31.484Z"
   },
   {
    "duration": 2048,
    "start_time": "2022-11-08T12:35:31.498Z"
   },
   {
    "duration": 73,
    "start_time": "2022-11-08T12:35:33.548Z"
   },
   {
    "duration": 6,
    "start_time": "2022-11-08T12:35:33.623Z"
   },
   {
    "duration": 38,
    "start_time": "2022-11-08T12:35:33.630Z"
   },
   {
    "duration": 3,
    "start_time": "2022-11-08T12:35:33.669Z"
   },
   {
    "duration": 16,
    "start_time": "2022-11-08T12:35:33.674Z"
   },
   {
    "duration": 77,
    "start_time": "2022-11-08T12:35:33.693Z"
   },
   {
    "duration": 26,
    "start_time": "2022-11-08T12:35:33.772Z"
   },
   {
    "duration": 4,
    "start_time": "2022-11-08T12:35:33.800Z"
   },
   {
    "duration": 1878,
    "start_time": "2022-11-08T12:35:33.806Z"
   },
   {
    "duration": 79,
    "start_time": "2022-11-08T13:11:17.020Z"
   },
   {
    "duration": 105,
    "start_time": "2022-11-08T13:12:45.764Z"
   },
   {
    "duration": 54,
    "start_time": "2022-11-08T13:12:57.444Z"
   },
   {
    "duration": 1237,
    "start_time": "2022-11-08T13:13:01.487Z"
   },
   {
    "duration": 3,
    "start_time": "2022-11-08T13:14:42.825Z"
   },
   {
    "duration": 14,
    "start_time": "2022-11-08T13:14:50.096Z"
   },
   {
    "duration": 4680,
    "start_time": "2022-11-08T13:15:32.699Z"
   },
   {
    "duration": 4234,
    "start_time": "2022-11-08T13:24:24.751Z"
   },
   {
    "duration": 4029,
    "start_time": "2022-11-08T13:24:38.162Z"
   },
   {
    "duration": 4758,
    "start_time": "2022-11-08T13:25:01.318Z"
   },
   {
    "duration": 7280,
    "start_time": "2022-11-08T13:25:11.109Z"
   },
   {
    "duration": 10464,
    "start_time": "2022-11-08T13:25:24.582Z"
   },
   {
    "duration": 35831,
    "start_time": "2022-11-08T13:25:47.371Z"
   },
   {
    "duration": 10479,
    "start_time": "2022-11-08T13:26:28.586Z"
   },
   {
    "duration": 25,
    "start_time": "2022-11-08T13:29:03.832Z"
   },
   {
    "duration": 27,
    "start_time": "2022-11-08T13:35:57.522Z"
   },
   {
    "duration": 3,
    "start_time": "2022-11-08T13:36:16.924Z"
   },
   {
    "duration": 1679,
    "start_time": "2022-11-08T13:36:23.840Z"
   },
   {
    "duration": 4,
    "start_time": "2022-11-08T13:36:25.521Z"
   },
   {
    "duration": 1000,
    "start_time": "2022-11-08T13:36:25.527Z"
   },
   {
    "duration": 147,
    "start_time": "2022-11-08T13:36:26.530Z"
   },
   {
    "duration": 895,
    "start_time": "2022-11-08T13:36:26.679Z"
   },
   {
    "duration": 884,
    "start_time": "2022-11-08T13:36:27.576Z"
   },
   {
    "duration": 490,
    "start_time": "2022-11-08T13:36:28.462Z"
   },
   {
    "duration": 477,
    "start_time": "2022-11-08T13:36:28.954Z"
   },
   {
    "duration": 110,
    "start_time": "2022-11-08T13:36:29.432Z"
   },
   {
    "duration": 27,
    "start_time": "2022-11-08T13:36:29.543Z"
   },
   {
    "duration": 18,
    "start_time": "2022-11-08T13:36:29.572Z"
   },
   {
    "duration": 41,
    "start_time": "2022-11-08T13:36:29.592Z"
   },
   {
    "duration": 19,
    "start_time": "2022-11-08T13:36:29.635Z"
   },
   {
    "duration": 110,
    "start_time": "2022-11-08T13:36:29.658Z"
   },
   {
    "duration": 451,
    "start_time": "2022-11-08T13:36:29.770Z"
   },
   {
    "duration": 69,
    "start_time": "2022-11-08T13:36:30.223Z"
   },
   {
    "duration": 167,
    "start_time": "2022-11-08T13:36:30.294Z"
   },
   {
    "duration": 34,
    "start_time": "2022-11-08T13:36:30.463Z"
   },
   {
    "duration": 32,
    "start_time": "2022-11-08T13:36:30.500Z"
   },
   {
    "duration": 46,
    "start_time": "2022-11-08T13:36:30.535Z"
   },
   {
    "duration": 34,
    "start_time": "2022-11-08T13:36:30.583Z"
   },
   {
    "duration": 2221,
    "start_time": "2022-11-08T13:36:30.619Z"
   },
   {
    "duration": 76,
    "start_time": "2022-11-08T13:36:32.841Z"
   },
   {
    "duration": 7,
    "start_time": "2022-11-08T13:36:32.919Z"
   },
   {
    "duration": 41,
    "start_time": "2022-11-08T13:36:32.927Z"
   },
   {
    "duration": 4,
    "start_time": "2022-11-08T13:36:32.970Z"
   },
   {
    "duration": 20,
    "start_time": "2022-11-08T13:36:32.976Z"
   },
   {
    "duration": 75,
    "start_time": "2022-11-08T13:36:32.998Z"
   },
   {
    "duration": 26,
    "start_time": "2022-11-08T13:36:33.075Z"
   },
   {
    "duration": 55,
    "start_time": "2022-11-08T13:36:33.103Z"
   },
   {
    "duration": 3106,
    "start_time": "2022-11-08T13:36:33.160Z"
   },
   {
    "duration": 12238,
    "start_time": "2022-11-08T13:36:36.269Z"
   },
   {
    "duration": 1622,
    "start_time": "2022-11-09T07:40:15.312Z"
   },
   {
    "duration": 3,
    "start_time": "2022-11-09T07:40:16.936Z"
   },
   {
    "duration": 943,
    "start_time": "2022-11-09T07:40:16.941Z"
   },
   {
    "duration": 102,
    "start_time": "2022-11-09T07:40:17.886Z"
   },
   {
    "duration": 746,
    "start_time": "2022-11-09T07:40:17.989Z"
   },
   {
    "duration": 767,
    "start_time": "2022-11-09T07:40:18.737Z"
   },
   {
    "duration": 399,
    "start_time": "2022-11-09T07:40:19.505Z"
   },
   {
    "duration": 432,
    "start_time": "2022-11-09T07:40:19.906Z"
   },
   {
    "duration": 96,
    "start_time": "2022-11-09T07:40:20.339Z"
   },
   {
    "duration": 22,
    "start_time": "2022-11-09T07:40:20.437Z"
   },
   {
    "duration": 18,
    "start_time": "2022-11-09T07:40:20.461Z"
   },
   {
    "duration": 23,
    "start_time": "2022-11-09T07:40:20.480Z"
   },
   {
    "duration": 18,
    "start_time": "2022-11-09T07:40:20.504Z"
   },
   {
    "duration": 101,
    "start_time": "2022-11-09T07:40:20.523Z"
   },
   {
    "duration": 412,
    "start_time": "2022-11-09T07:40:20.625Z"
   },
   {
    "duration": 53,
    "start_time": "2022-11-09T07:40:21.038Z"
   },
   {
    "duration": 161,
    "start_time": "2022-11-09T07:40:21.092Z"
   },
   {
    "duration": 28,
    "start_time": "2022-11-09T07:40:21.255Z"
   },
   {
    "duration": 34,
    "start_time": "2022-11-09T07:40:21.284Z"
   },
   {
    "duration": 13,
    "start_time": "2022-11-09T07:40:21.320Z"
   },
   {
    "duration": 5,
    "start_time": "2022-11-09T07:40:21.335Z"
   },
   {
    "duration": 2016,
    "start_time": "2022-11-09T07:40:21.341Z"
   },
   {
    "duration": 69,
    "start_time": "2022-11-09T07:40:23.359Z"
   },
   {
    "duration": 6,
    "start_time": "2022-11-09T07:40:23.430Z"
   },
   {
    "duration": 25,
    "start_time": "2022-11-09T07:40:23.438Z"
   },
   {
    "duration": 3,
    "start_time": "2022-11-09T07:40:23.465Z"
   },
   {
    "duration": 34,
    "start_time": "2022-11-09T07:40:23.469Z"
   },
   {
    "duration": 61,
    "start_time": "2022-11-09T07:40:23.506Z"
   },
   {
    "duration": 4,
    "start_time": "2022-11-09T07:40:23.568Z"
   },
   {
    "duration": 1421,
    "start_time": "2022-11-09T07:40:23.573Z"
   },
   {
    "duration": 3,
    "start_time": "2022-11-09T07:40:24.996Z"
   },
   {
    "duration": 14588,
    "start_time": "2022-11-09T07:40:25.000Z"
   },
   {
    "duration": 3,
    "start_time": "2022-11-09T07:42:51.279Z"
   },
   {
    "duration": 12297,
    "start_time": "2022-11-09T07:46:41.243Z"
   },
   {
    "duration": 13735,
    "start_time": "2022-11-09T07:47:11.484Z"
   },
   {
    "duration": 14155,
    "start_time": "2022-11-09T07:47:51.597Z"
   },
   {
    "duration": 13618,
    "start_time": "2022-11-09T07:48:17.171Z"
   },
   {
    "duration": 13887,
    "start_time": "2022-11-09T07:49:33.707Z"
   },
   {
    "duration": 50,
    "start_time": "2022-11-09T07:51:08.285Z"
   },
   {
    "duration": 49,
    "start_time": "2022-11-09T07:51:17.267Z"
   },
   {
    "duration": 452,
    "start_time": "2022-11-09T07:51:49.055Z"
   },
   {
    "duration": 677,
    "start_time": "2022-11-09T07:52:32.542Z"
   },
   {
    "duration": 97076,
    "start_time": "2022-11-09T07:52:37.625Z"
   },
   {
    "duration": 18467,
    "start_time": "2022-11-09T07:54:59.443Z"
   },
   {
    "duration": 95681,
    "start_time": "2022-11-09T07:55:23.724Z"
   },
   {
    "duration": 100190,
    "start_time": "2022-11-09T07:58:35.015Z"
   },
   {
    "duration": 77,
    "start_time": "2022-11-09T08:06:25.431Z"
   },
   {
    "duration": 4,
    "start_time": "2022-11-09T08:06:38.354Z"
   },
   {
    "duration": 45415,
    "start_time": "2022-11-09T08:06:42.522Z"
   },
   {
    "duration": 97702,
    "start_time": "2022-11-09T08:07:29.799Z"
   },
   {
    "duration": 8657620,
    "start_time": "2022-11-09T08:10:23.262Z"
   },
   {
    "duration": 12,
    "start_time": "2022-11-09T10:55:47.684Z"
   },
   {
    "duration": 3,
    "start_time": "2022-11-09T10:56:05.837Z"
   },
   {
    "duration": 126117,
    "start_time": "2022-11-09T10:56:10.315Z"
   },
   {
    "duration": 264112,
    "start_time": "2022-11-09T11:05:27.869Z"
   },
   {
    "duration": 362197,
    "start_time": "2022-11-09T11:11:18.298Z"
   },
   {
    "duration": 259105,
    "start_time": "2022-11-09T11:27:28.290Z"
   },
   {
    "duration": 3474,
    "start_time": "2022-11-09T11:36:50.343Z"
   },
   {
    "duration": 3436,
    "start_time": "2022-11-09T11:41:12.983Z"
   },
   {
    "duration": 10,
    "start_time": "2022-11-09T11:45:13.808Z"
   },
   {
    "duration": 2596,
    "start_time": "2022-11-09T11:45:35.723Z"
   },
   {
    "duration": 3460,
    "start_time": "2022-11-09T11:46:59.473Z"
   },
   {
    "duration": 10,
    "start_time": "2022-11-09T11:51:03.575Z"
   },
   {
    "duration": 23,
    "start_time": "2022-11-09T11:53:36.847Z"
   },
   {
    "duration": 21,
    "start_time": "2022-11-09T11:53:53.031Z"
   },
   {
    "duration": 21,
    "start_time": "2022-11-09T12:02:42.004Z"
   },
   {
    "duration": 9,
    "start_time": "2022-11-09T12:07:46.012Z"
   },
   {
    "duration": 31,
    "start_time": "2022-11-09T12:08:05.145Z"
   },
   {
    "duration": 24,
    "start_time": "2022-11-09T12:48:18.980Z"
   },
   {
    "duration": 22,
    "start_time": "2022-11-09T12:50:57.574Z"
   },
   {
    "duration": 657,
    "start_time": "2022-11-09T12:53:42.138Z"
   },
   {
    "duration": 639,
    "start_time": "2022-11-09T12:53:56.155Z"
   },
   {
    "duration": 658,
    "start_time": "2022-11-09T12:54:18.699Z"
   },
   {
    "duration": 9582,
    "start_time": "2022-11-09T12:55:02.630Z"
   },
   {
    "duration": 2523,
    "start_time": "2022-11-09T12:57:31.490Z"
   },
   {
    "duration": 18,
    "start_time": "2022-11-09T12:58:45.316Z"
   },
   {
    "duration": 1451,
    "start_time": "2022-11-09T12:59:28.368Z"
   },
   {
    "duration": 2,
    "start_time": "2022-11-09T12:59:29.822Z"
   },
   {
    "duration": 903,
    "start_time": "2022-11-09T12:59:29.826Z"
   },
   {
    "duration": 123,
    "start_time": "2022-11-09T12:59:30.731Z"
   },
   {
    "duration": 835,
    "start_time": "2022-11-09T12:59:30.856Z"
   },
   {
    "duration": 828,
    "start_time": "2022-11-09T12:59:31.693Z"
   },
   {
    "duration": 459,
    "start_time": "2022-11-09T12:59:32.522Z"
   },
   {
    "duration": 474,
    "start_time": "2022-11-09T12:59:32.983Z"
   },
   {
    "duration": 104,
    "start_time": "2022-11-09T12:59:33.459Z"
   },
   {
    "duration": 17,
    "start_time": "2022-11-09T12:59:33.566Z"
   },
   {
    "duration": 18,
    "start_time": "2022-11-09T12:59:33.598Z"
   },
   {
    "duration": 18,
    "start_time": "2022-11-09T12:59:33.618Z"
   },
   {
    "duration": 18,
    "start_time": "2022-11-09T12:59:33.638Z"
   },
   {
    "duration": 123,
    "start_time": "2022-11-09T12:59:33.658Z"
   },
   {
    "duration": 572,
    "start_time": "2022-11-09T12:59:33.782Z"
   },
   {
    "duration": 63,
    "start_time": "2022-11-09T12:59:34.356Z"
   },
   {
    "duration": 178,
    "start_time": "2022-11-09T12:59:34.421Z"
   },
   {
    "duration": 29,
    "start_time": "2022-11-09T12:59:34.601Z"
   },
   {
    "duration": 29,
    "start_time": "2022-11-09T12:59:34.631Z"
   },
   {
    "duration": 14,
    "start_time": "2022-11-09T12:59:34.662Z"
   },
   {
    "duration": 21,
    "start_time": "2022-11-09T12:59:34.678Z"
   },
   {
    "duration": 2023,
    "start_time": "2022-11-09T12:59:34.700Z"
   },
   {
    "duration": 74,
    "start_time": "2022-11-09T12:59:36.725Z"
   },
   {
    "duration": 6,
    "start_time": "2022-11-09T12:59:36.800Z"
   },
   {
    "duration": 26,
    "start_time": "2022-11-09T12:59:36.808Z"
   },
   {
    "duration": 4,
    "start_time": "2022-11-09T12:59:36.835Z"
   },
   {
    "duration": 16,
    "start_time": "2022-11-09T12:59:36.840Z"
   },
   {
    "duration": 80,
    "start_time": "2022-11-09T12:59:36.859Z"
   },
   {
    "duration": 3,
    "start_time": "2022-11-09T12:59:36.941Z"
   },
   {
    "duration": 577,
    "start_time": "2022-11-09T12:59:36.946Z"
   },
   {
    "duration": 100,
    "start_time": "2022-11-09T12:59:37.525Z"
   },
   {
    "duration": 1386,
    "start_time": "2022-11-09T12:59:37.627Z"
   },
   {
    "duration": 2578,
    "start_time": "2022-11-09T12:59:39.015Z"
   },
   {
    "duration": 105009,
    "start_time": "2022-11-09T12:59:41.595Z"
   },
   {
    "duration": 262282,
    "start_time": "2022-11-09T13:01:26.605Z"
   },
   {
    "duration": 9,
    "start_time": "2022-11-09T13:05:48.890Z"
   },
   {
    "duration": 14378,
    "start_time": "2022-11-09T13:07:32.928Z"
   },
   {
    "duration": 177,
    "start_time": "2022-11-09T13:17:02.445Z"
   },
   {
    "duration": 6728,
    "start_time": "2022-11-09T13:17:15.584Z"
   },
   {
    "duration": 57782,
    "start_time": "2022-11-09T15:43:29.839Z"
   },
   {
    "duration": 218900,
    "start_time": "2022-11-09T15:44:35.706Z"
   },
   {
    "duration": 1417101,
    "start_time": "2022-11-09T16:36:33.204Z"
   },
   {
    "duration": 2584203,
    "start_time": "2022-11-09T17:32:10.600Z"
   },
   {
    "duration": 108,
    "start_time": "2022-11-10T06:21:27.686Z"
   },
   {
    "duration": 1727,
    "start_time": "2022-11-10T06:21:35.643Z"
   },
   {
    "duration": 3,
    "start_time": "2022-11-10T06:21:37.373Z"
   },
   {
    "duration": 3207,
    "start_time": "2022-11-10T06:21:37.378Z"
   },
   {
    "duration": 114,
    "start_time": "2022-11-10T06:21:40.587Z"
   },
   {
    "duration": 894,
    "start_time": "2022-11-10T06:21:40.703Z"
   },
   {
    "duration": 948,
    "start_time": "2022-11-10T06:21:41.599Z"
   },
   {
    "duration": 462,
    "start_time": "2022-11-10T06:21:42.549Z"
   },
   {
    "duration": 525,
    "start_time": "2022-11-10T06:21:43.014Z"
   },
   {
    "duration": 116,
    "start_time": "2022-11-10T06:21:43.541Z"
   },
   {
    "duration": 19,
    "start_time": "2022-11-10T06:21:43.661Z"
   },
   {
    "duration": 41,
    "start_time": "2022-11-10T06:21:43.682Z"
   },
   {
    "duration": 19,
    "start_time": "2022-11-10T06:21:43.725Z"
   },
   {
    "duration": 21,
    "start_time": "2022-11-10T06:21:43.746Z"
   },
   {
    "duration": 127,
    "start_time": "2022-11-10T06:21:43.769Z"
   },
   {
    "duration": 475,
    "start_time": "2022-11-10T06:21:43.898Z"
   },
   {
    "duration": 82,
    "start_time": "2022-11-10T06:21:44.375Z"
   },
   {
    "duration": 207,
    "start_time": "2022-11-10T06:21:44.460Z"
   },
   {
    "duration": 33,
    "start_time": "2022-11-10T06:21:44.668Z"
   },
   {
    "duration": 34,
    "start_time": "2022-11-10T06:21:44.702Z"
   },
   {
    "duration": 16,
    "start_time": "2022-11-10T06:21:44.739Z"
   },
   {
    "duration": 50,
    "start_time": "2022-11-10T06:21:44.757Z"
   },
   {
    "duration": 2483,
    "start_time": "2022-11-10T06:21:44.810Z"
   },
   {
    "duration": 84,
    "start_time": "2022-11-10T06:21:47.295Z"
   },
   {
    "duration": 7,
    "start_time": "2022-11-10T06:21:47.381Z"
   },
   {
    "duration": 40,
    "start_time": "2022-11-10T06:21:47.390Z"
   },
   {
    "duration": 4,
    "start_time": "2022-11-10T06:21:47.432Z"
   },
   {
    "duration": 19,
    "start_time": "2022-11-10T06:21:47.437Z"
   },
   {
    "duration": 77,
    "start_time": "2022-11-10T06:21:47.459Z"
   },
   {
    "duration": 4,
    "start_time": "2022-11-10T06:21:47.540Z"
   },
   {
    "duration": 730,
    "start_time": "2022-11-10T06:21:47.546Z"
   },
   {
    "duration": 106,
    "start_time": "2022-11-10T06:21:48.278Z"
   },
   {
    "duration": 163,
    "start_time": "2022-11-10T06:21:48.387Z"
   },
   {
    "duration": 2672,
    "start_time": "2022-11-10T06:21:48.552Z"
   },
   {
    "duration": 141494,
    "start_time": "2022-11-10T06:21:51.226Z"
   },
   {
    "duration": 281190,
    "start_time": "2022-11-10T06:24:12.722Z"
   },
   {
    "duration": 3471104,
    "start_time": "2022-11-10T06:28:53.915Z"
   },
   {
    "duration": 55030,
    "start_time": "2022-11-10T07:33:26.109Z"
   },
   {
    "duration": 1902895,
    "start_time": "2022-11-10T07:37:14.636Z"
   },
   {
    "duration": 596284,
    "start_time": "2022-11-10T08:14:53.244Z"
   },
   {
    "duration": 9315296,
    "start_time": "2022-11-10T08:25:14.479Z"
   },
   {
    "duration": 113,
    "start_time": "2022-11-10T11:01:06.974Z"
   },
   {
    "duration": 65,
    "start_time": "2022-11-10T11:01:15.897Z"
   },
   {
    "duration": 7207,
    "start_time": "2022-11-10T11:01:21.553Z"
   },
   {
    "duration": 68,
    "start_time": "2022-11-10T11:01:40.987Z"
   },
   {
    "duration": 4,
    "start_time": "2022-11-10T11:02:53.686Z"
   },
   {
    "duration": 56332,
    "start_time": "2022-11-10T11:02:55.302Z"
   },
   {
    "duration": 434,
    "start_time": "2022-11-10T11:03:51.636Z"
   },
   {
    "duration": 113016,
    "start_time": "2022-11-10T11:04:42.712Z"
   },
   {
    "duration": 1420,
    "start_time": "2022-11-10T11:07:00.938Z"
   },
   {
    "duration": 3,
    "start_time": "2022-11-10T11:07:02.361Z"
   },
   {
    "duration": 920,
    "start_time": "2022-11-10T11:07:02.366Z"
   },
   {
    "duration": 144,
    "start_time": "2022-11-10T11:07:03.289Z"
   },
   {
    "duration": 934,
    "start_time": "2022-11-10T11:07:03.435Z"
   },
   {
    "duration": 863,
    "start_time": "2022-11-10T11:07:04.371Z"
   },
   {
    "duration": 503,
    "start_time": "2022-11-10T11:07:05.236Z"
   },
   {
    "duration": 478,
    "start_time": "2022-11-10T11:07:05.741Z"
   },
   {
    "duration": 114,
    "start_time": "2022-11-10T11:07:06.221Z"
   },
   {
    "duration": 20,
    "start_time": "2022-11-10T11:07:06.338Z"
   },
   {
    "duration": 36,
    "start_time": "2022-11-10T11:07:06.361Z"
   },
   {
    "duration": 32,
    "start_time": "2022-11-10T11:07:06.400Z"
   },
   {
    "duration": 38,
    "start_time": "2022-11-10T11:07:06.434Z"
   },
   {
    "duration": 152,
    "start_time": "2022-11-10T11:07:06.475Z"
   },
   {
    "duration": 590,
    "start_time": "2022-11-10T11:07:06.629Z"
   },
   {
    "duration": 57,
    "start_time": "2022-11-10T11:07:07.221Z"
   },
   {
    "duration": 183,
    "start_time": "2022-11-10T11:07:07.279Z"
   },
   {
    "duration": 25,
    "start_time": "2022-11-10T11:07:07.464Z"
   },
   {
    "duration": 36,
    "start_time": "2022-11-10T11:07:07.491Z"
   },
   {
    "duration": 17,
    "start_time": "2022-11-10T11:07:07.529Z"
   },
   {
    "duration": 8,
    "start_time": "2022-11-10T11:07:07.548Z"
   },
   {
    "duration": 2356,
    "start_time": "2022-11-10T11:07:07.558Z"
   },
   {
    "duration": 77,
    "start_time": "2022-11-10T11:07:09.916Z"
   },
   {
    "duration": 7,
    "start_time": "2022-11-10T11:07:09.995Z"
   },
   {
    "duration": 51,
    "start_time": "2022-11-10T11:07:10.004Z"
   },
   {
    "duration": 4,
    "start_time": "2022-11-10T11:07:10.056Z"
   },
   {
    "duration": 39,
    "start_time": "2022-11-10T11:07:10.062Z"
   },
   {
    "duration": 61,
    "start_time": "2022-11-10T11:07:10.106Z"
   },
   {
    "duration": 4,
    "start_time": "2022-11-10T11:07:10.169Z"
   },
   {
    "duration": 679,
    "start_time": "2022-11-10T11:07:10.174Z"
   },
   {
    "duration": 109,
    "start_time": "2022-11-10T11:07:10.855Z"
   },
   {
    "duration": 3216306,
    "start_time": "2022-11-10T11:07:10.965Z"
   },
   {
    "duration": 65,
    "start_time": "2022-11-10T12:00:47.274Z"
   },
   {
    "duration": 64,
    "start_time": "2022-11-10T12:00:47.341Z"
   },
   {
    "duration": 2692,
    "start_time": "2022-11-10T12:00:47.407Z"
   },
   {
    "duration": 302106,
    "start_time": "2022-11-10T12:00:50.101Z"
   },
   {
    "duration": 7075,
    "start_time": "2022-11-10T12:05:52.209Z"
   },
   {
    "duration": 227,
    "start_time": "2022-11-10T12:05:59.286Z"
   },
   {
    "duration": 3,
    "start_time": "2022-11-10T12:05:59.515Z"
   },
   {
    "duration": 1461,
    "start_time": "2022-11-10T12:06:13.357Z"
   },
   {
    "duration": 4,
    "start_time": "2022-11-10T12:06:14.820Z"
   },
   {
    "duration": 907,
    "start_time": "2022-11-10T12:06:14.833Z"
   },
   {
    "duration": 126,
    "start_time": "2022-11-10T12:06:15.741Z"
   },
   {
    "duration": 1036,
    "start_time": "2022-11-10T12:06:15.869Z"
   },
   {
    "duration": 938,
    "start_time": "2022-11-10T12:06:16.907Z"
   },
   {
    "duration": 532,
    "start_time": "2022-11-10T12:06:17.847Z"
   },
   {
    "duration": 527,
    "start_time": "2022-11-10T12:06:18.381Z"
   },
   {
    "duration": 132,
    "start_time": "2022-11-10T12:06:18.910Z"
   },
   {
    "duration": 34,
    "start_time": "2022-11-10T12:06:19.044Z"
   },
   {
    "duration": 27,
    "start_time": "2022-11-10T12:06:19.081Z"
   },
   {
    "duration": 50,
    "start_time": "2022-11-10T12:06:19.110Z"
   },
   {
    "duration": 23,
    "start_time": "2022-11-10T12:06:19.162Z"
   },
   {
    "duration": 116,
    "start_time": "2022-11-10T12:06:19.188Z"
   },
   {
    "duration": 597,
    "start_time": "2022-11-10T12:06:19.306Z"
   },
   {
    "duration": 70,
    "start_time": "2022-11-10T12:06:19.905Z"
   },
   {
    "duration": 191,
    "start_time": "2022-11-10T12:06:19.977Z"
   },
   {
    "duration": 35,
    "start_time": "2022-11-10T12:06:20.171Z"
   },
   {
    "duration": 51,
    "start_time": "2022-11-10T12:06:20.208Z"
   },
   {
    "duration": 17,
    "start_time": "2022-11-10T12:06:20.261Z"
   },
   {
    "duration": 7,
    "start_time": "2022-11-10T12:06:20.280Z"
   },
   {
    "duration": 2465,
    "start_time": "2022-11-10T12:06:20.289Z"
   },
   {
    "duration": 90,
    "start_time": "2022-11-10T12:06:22.756Z"
   },
   {
    "duration": 9,
    "start_time": "2022-11-10T12:06:22.848Z"
   },
   {
    "duration": 39,
    "start_time": "2022-11-10T12:06:22.858Z"
   },
   {
    "duration": 7,
    "start_time": "2022-11-10T12:06:22.898Z"
   },
   {
    "duration": 25,
    "start_time": "2022-11-10T12:06:22.906Z"
   },
   {
    "duration": 72,
    "start_time": "2022-11-10T12:06:22.932Z"
   },
   {
    "duration": 4,
    "start_time": "2022-11-10T12:06:23.005Z"
   },
   {
    "duration": 694,
    "start_time": "2022-11-10T12:06:23.011Z"
   },
   {
    "duration": 117,
    "start_time": "2022-11-10T12:06:23.707Z"
   },
   {
    "duration": 7818,
    "start_time": "2022-11-10T12:06:23.827Z"
   },
   {
    "duration": 1571,
    "start_time": "2022-11-10T12:09:06.202Z"
   },
   {
    "duration": 2,
    "start_time": "2022-11-10T12:09:07.775Z"
   },
   {
    "duration": 1685,
    "start_time": "2022-11-10T12:09:07.781Z"
   },
   {
    "duration": 362,
    "start_time": "2022-11-10T12:09:09.469Z"
   },
   {
    "duration": 1199,
    "start_time": "2022-11-10T12:09:09.834Z"
   },
   {
    "duration": 894,
    "start_time": "2022-11-10T12:09:11.035Z"
   },
   {
    "duration": 493,
    "start_time": "2022-11-10T12:09:11.934Z"
   },
   {
    "duration": 471,
    "start_time": "2022-11-10T12:09:12.431Z"
   },
   {
    "duration": 122,
    "start_time": "2022-11-10T12:09:12.905Z"
   },
   {
    "duration": 20,
    "start_time": "2022-11-10T12:09:13.034Z"
   },
   {
    "duration": 18,
    "start_time": "2022-11-10T12:09:13.056Z"
   },
   {
    "duration": 21,
    "start_time": "2022-11-10T12:09:13.076Z"
   },
   {
    "duration": 42,
    "start_time": "2022-11-10T12:09:13.100Z"
   },
   {
    "duration": 117,
    "start_time": "2022-11-10T12:09:13.144Z"
   },
   {
    "duration": 635,
    "start_time": "2022-11-10T12:09:13.263Z"
   },
   {
    "duration": 77,
    "start_time": "2022-11-10T12:09:13.900Z"
   },
   {
    "duration": 215,
    "start_time": "2022-11-10T12:09:13.980Z"
   },
   {
    "duration": 35,
    "start_time": "2022-11-10T12:09:14.197Z"
   },
   {
    "duration": 23,
    "start_time": "2022-11-10T12:09:14.234Z"
   },
   {
    "duration": 16,
    "start_time": "2022-11-10T12:09:14.259Z"
   },
   {
    "duration": 21,
    "start_time": "2022-11-10T12:09:14.277Z"
   },
   {
    "duration": 2486,
    "start_time": "2022-11-10T12:09:14.300Z"
   },
   {
    "duration": 95,
    "start_time": "2022-11-10T12:09:16.788Z"
   },
   {
    "duration": 9,
    "start_time": "2022-11-10T12:09:16.885Z"
   },
   {
    "duration": 45,
    "start_time": "2022-11-10T12:09:16.896Z"
   },
   {
    "duration": 4,
    "start_time": "2022-11-10T12:09:16.943Z"
   },
   {
    "duration": 23,
    "start_time": "2022-11-10T12:09:16.949Z"
   },
   {
    "duration": 84,
    "start_time": "2022-11-10T12:09:16.973Z"
   },
   {
    "duration": 4,
    "start_time": "2022-11-10T12:09:17.059Z"
   },
   {
    "duration": 792,
    "start_time": "2022-11-10T12:09:17.065Z"
   },
   {
    "duration": 125,
    "start_time": "2022-11-10T12:09:17.858Z"
   },
   {
    "duration": 332406,
    "start_time": "2022-11-10T12:09:17.985Z"
   },
   {
    "duration": 82482,
    "start_time": "2022-11-10T12:14:50.393Z"
   },
   {
    "duration": 84,
    "start_time": "2022-11-10T12:16:12.877Z"
   },
   {
    "duration": 128,
    "start_time": "2022-11-10T12:16:12.963Z"
   },
   {
    "duration": 2,
    "start_time": "2022-11-10T12:16:13.094Z"
   },
   {
    "duration": 56698,
    "start_time": "2022-11-10T12:16:13.098Z"
   },
   {
    "duration": 1553,
    "start_time": "2022-11-10T12:17:21.904Z"
   },
   {
    "duration": 3,
    "start_time": "2022-11-10T12:17:23.459Z"
   },
   {
    "duration": 1003,
    "start_time": "2022-11-10T12:17:23.464Z"
   },
   {
    "duration": 172,
    "start_time": "2022-11-10T12:17:24.469Z"
   },
   {
    "duration": 1031,
    "start_time": "2022-11-10T12:17:24.644Z"
   },
   {
    "duration": 965,
    "start_time": "2022-11-10T12:17:25.676Z"
   },
   {
    "duration": 534,
    "start_time": "2022-11-10T12:17:26.643Z"
   },
   {
    "duration": 488,
    "start_time": "2022-11-10T12:17:27.178Z"
   },
   {
    "duration": 119,
    "start_time": "2022-11-10T12:17:27.668Z"
   },
   {
    "duration": 43,
    "start_time": "2022-11-10T12:17:27.788Z"
   },
   {
    "duration": 28,
    "start_time": "2022-11-10T12:17:27.833Z"
   },
   {
    "duration": 30,
    "start_time": "2022-11-10T12:17:27.863Z"
   },
   {
    "duration": 31,
    "start_time": "2022-11-10T12:17:27.895Z"
   },
   {
    "duration": 136,
    "start_time": "2022-11-10T12:17:27.929Z"
   },
   {
    "duration": 597,
    "start_time": "2022-11-10T12:17:28.066Z"
   },
   {
    "duration": 71,
    "start_time": "2022-11-10T12:17:28.665Z"
   },
   {
    "duration": 196,
    "start_time": "2022-11-10T12:17:28.737Z"
   },
   {
    "duration": 26,
    "start_time": "2022-11-10T12:17:28.935Z"
   },
   {
    "duration": 21,
    "start_time": "2022-11-10T12:17:28.963Z"
   },
   {
    "duration": 17,
    "start_time": "2022-11-10T12:17:28.986Z"
   },
   {
    "duration": 13,
    "start_time": "2022-11-10T12:17:29.028Z"
   },
   {
    "duration": 2457,
    "start_time": "2022-11-10T12:17:29.043Z"
   },
   {
    "duration": 97,
    "start_time": "2022-11-10T12:17:31.502Z"
   },
   {
    "duration": 55,
    "start_time": "2022-11-10T12:17:31.601Z"
   },
   {
    "duration": 55,
    "start_time": "2022-11-10T12:17:31.658Z"
   },
   {
    "duration": 32,
    "start_time": "2022-11-10T12:17:31.715Z"
   },
   {
    "duration": 49,
    "start_time": "2022-11-10T12:17:31.749Z"
   },
   {
    "duration": 76,
    "start_time": "2022-11-10T12:17:31.800Z"
   },
   {
    "duration": 4,
    "start_time": "2022-11-10T12:17:31.878Z"
   },
   {
    "duration": 723,
    "start_time": "2022-11-10T12:17:31.884Z"
   },
   {
    "duration": 113,
    "start_time": "2022-11-10T12:17:32.609Z"
   },
   {
    "duration": 84429,
    "start_time": "2022-11-10T12:17:32.724Z"
   },
   {
    "duration": 297451,
    "start_time": "2022-11-10T12:18:57.155Z"
   },
   {
    "duration": 6790,
    "start_time": "2022-11-10T12:23:54.608Z"
   },
   {
    "duration": 342,
    "start_time": "2022-11-10T12:24:01.400Z"
   },
   {
    "duration": 3,
    "start_time": "2022-11-10T12:24:01.743Z"
   },
   {
    "duration": 43298,
    "start_time": "2022-11-10T12:24:01.747Z"
   },
   {
    "duration": 216090,
    "start_time": "2022-11-10T12:24:45.047Z"
   },
   {
    "duration": 211,
    "start_time": "2022-11-10T12:28:21.140Z"
   },
   {
    "duration": 0,
    "start_time": "2022-11-10T12:28:21.354Z"
   },
   {
    "duration": 935,
    "start_time": "2022-11-10T12:29:56.877Z"
   },
   {
    "duration": 17,
    "start_time": "2022-11-10T12:33:00.974Z"
   },
   {
    "duration": 244,
    "start_time": "2022-11-10T12:33:07.016Z"
   },
   {
    "duration": 73,
    "start_time": "2022-11-10T12:33:17.975Z"
   },
   {
    "duration": 495,
    "start_time": "2022-11-10T12:33:29.828Z"
   },
   {
    "duration": 581,
    "start_time": "2022-11-10T12:33:42.502Z"
   },
   {
    "duration": 62,
    "start_time": "2022-11-10T12:34:57.750Z"
   },
   {
    "duration": 356,
    "start_time": "2022-11-10T12:35:12.075Z"
   },
   {
    "duration": 343,
    "start_time": "2022-11-10T12:35:36.627Z"
   },
   {
    "duration": 268,
    "start_time": "2022-11-10T12:35:57.469Z"
   },
   {
    "duration": 371,
    "start_time": "2022-11-10T12:36:53.332Z"
   },
   {
    "duration": 439,
    "start_time": "2022-11-10T12:38:08.902Z"
   },
   {
    "duration": 348,
    "start_time": "2022-11-10T12:38:11.862Z"
   },
   {
    "duration": 171,
    "start_time": "2022-11-10T12:38:25.307Z"
   },
   {
    "duration": 297,
    "start_time": "2022-11-10T12:38:32.925Z"
   },
   {
    "duration": 220,
    "start_time": "2022-11-10T12:39:01.311Z"
   },
   {
    "duration": 1510,
    "start_time": "2022-11-10T12:39:57.300Z"
   },
   {
    "duration": 2,
    "start_time": "2022-11-10T12:39:58.813Z"
   },
   {
    "duration": 911,
    "start_time": "2022-11-10T12:39:58.818Z"
   },
   {
    "duration": 123,
    "start_time": "2022-11-10T12:39:59.731Z"
   },
   {
    "duration": 989,
    "start_time": "2022-11-10T12:39:59.856Z"
   },
   {
    "duration": 923,
    "start_time": "2022-11-10T12:40:00.846Z"
   },
   {
    "duration": 545,
    "start_time": "2022-11-10T12:40:01.772Z"
   },
   {
    "duration": 633,
    "start_time": "2022-11-10T12:40:02.319Z"
   },
   {
    "duration": 128,
    "start_time": "2022-11-10T12:40:02.954Z"
   },
   {
    "duration": 23,
    "start_time": "2022-11-10T12:40:03.084Z"
   },
   {
    "duration": 33,
    "start_time": "2022-11-10T12:40:03.121Z"
   },
   {
    "duration": 27,
    "start_time": "2022-11-10T12:40:03.156Z"
   },
   {
    "duration": 27,
    "start_time": "2022-11-10T12:40:03.184Z"
   },
   {
    "duration": 157,
    "start_time": "2022-11-10T12:40:03.214Z"
   },
   {
    "duration": 599,
    "start_time": "2022-11-10T12:40:03.373Z"
   },
   {
    "duration": 70,
    "start_time": "2022-11-10T12:40:03.974Z"
   },
   {
    "duration": 191,
    "start_time": "2022-11-10T12:40:04.046Z"
   },
   {
    "duration": 34,
    "start_time": "2022-11-10T12:40:04.239Z"
   },
   {
    "duration": 60,
    "start_time": "2022-11-10T12:40:04.275Z"
   },
   {
    "duration": 17,
    "start_time": "2022-11-10T12:40:04.337Z"
   },
   {
    "duration": 9,
    "start_time": "2022-11-10T12:40:04.357Z"
   },
   {
    "duration": 3594,
    "start_time": "2022-11-10T12:40:04.368Z"
   },
   {
    "duration": 82,
    "start_time": "2022-11-10T12:40:07.965Z"
   },
   {
    "duration": 9,
    "start_time": "2022-11-10T12:40:08.049Z"
   },
   {
    "duration": 32,
    "start_time": "2022-11-10T12:40:08.060Z"
   },
   {
    "duration": 35,
    "start_time": "2022-11-10T12:40:08.094Z"
   },
   {
    "duration": 794,
    "start_time": "2022-11-10T12:40:08.135Z"
   },
   {
    "duration": 15,
    "start_time": "2022-11-10T12:40:08.930Z"
   },
   {
    "duration": 85,
    "start_time": "2022-11-10T12:40:08.947Z"
   },
   {
    "duration": 5,
    "start_time": "2022-11-10T12:40:09.033Z"
   },
   {
    "duration": 568,
    "start_time": "2022-11-10T12:40:09.040Z"
   },
   {
    "duration": 101,
    "start_time": "2022-11-10T12:40:09.609Z"
   },
   {
    "duration": 1583,
    "start_time": "2022-11-10T12:41:01.806Z"
   },
   {
    "duration": 3,
    "start_time": "2022-11-10T12:41:03.392Z"
   },
   {
    "duration": 986,
    "start_time": "2022-11-10T12:41:03.396Z"
   },
   {
    "duration": 267,
    "start_time": "2022-11-10T12:41:04.385Z"
   },
   {
    "duration": 2213,
    "start_time": "2022-11-10T12:41:04.654Z"
   },
   {
    "duration": 905,
    "start_time": "2022-11-10T12:41:06.868Z"
   },
   {
    "duration": 556,
    "start_time": "2022-11-10T12:41:07.775Z"
   },
   {
    "duration": 591,
    "start_time": "2022-11-10T12:41:08.338Z"
   },
   {
    "duration": 117,
    "start_time": "2022-11-10T12:41:08.931Z"
   },
   {
    "duration": 20,
    "start_time": "2022-11-10T12:41:09.051Z"
   },
   {
    "duration": 24,
    "start_time": "2022-11-10T12:41:09.073Z"
   },
   {
    "duration": 39,
    "start_time": "2022-11-10T12:41:09.099Z"
   },
   {
    "duration": 24,
    "start_time": "2022-11-10T12:41:09.140Z"
   },
   {
    "duration": 124,
    "start_time": "2022-11-10T12:41:09.166Z"
   },
   {
    "duration": 608,
    "start_time": "2022-11-10T12:41:09.292Z"
   },
   {
    "duration": 72,
    "start_time": "2022-11-10T12:41:09.902Z"
   },
   {
    "duration": 197,
    "start_time": "2022-11-10T12:41:09.976Z"
   },
   {
    "duration": 35,
    "start_time": "2022-11-10T12:41:10.174Z"
   },
   {
    "duration": 33,
    "start_time": "2022-11-10T12:41:10.222Z"
   },
   {
    "duration": 17,
    "start_time": "2022-11-10T12:41:10.257Z"
   },
   {
    "duration": 19,
    "start_time": "2022-11-10T12:41:10.276Z"
   },
   {
    "duration": 2511,
    "start_time": "2022-11-10T12:41:10.298Z"
   },
   {
    "duration": 85,
    "start_time": "2022-11-10T12:41:12.811Z"
   },
   {
    "duration": 8,
    "start_time": "2022-11-10T12:41:12.898Z"
   },
   {
    "duration": 42,
    "start_time": "2022-11-10T12:41:12.907Z"
   },
   {
    "duration": 3,
    "start_time": "2022-11-10T12:41:12.951Z"
   },
   {
    "duration": 1013,
    "start_time": "2022-11-10T12:41:12.955Z"
   },
   {
    "duration": 14,
    "start_time": "2022-11-10T12:41:13.972Z"
   },
   {
    "duration": 79,
    "start_time": "2022-11-10T12:41:13.989Z"
   },
   {
    "duration": 4,
    "start_time": "2022-11-10T12:41:14.070Z"
   },
   {
    "duration": 364,
    "start_time": "2022-11-10T12:41:14.076Z"
   },
   {
    "duration": 113,
    "start_time": "2022-11-10T12:41:14.442Z"
   },
   {
    "duration": 2861385,
    "start_time": "2022-11-10T12:41:14.557Z"
   },
   {
    "duration": 56,
    "start_time": "2022-11-10T13:28:55.943Z"
   },
   {
    "duration": 55,
    "start_time": "2022-11-10T13:28:56.001Z"
   },
   {
    "duration": 1167837,
    "start_time": "2022-11-10T13:28:56.059Z"
   },
   {
    "duration": 22422,
    "start_time": "2022-11-10T13:48:23.898Z"
   },
   {
    "duration": 186,
    "start_time": "2022-11-10T13:48:46.322Z"
   },
   {
    "duration": 292537,
    "start_time": "2022-11-10T13:48:46.510Z"
   },
   {
    "duration": 7007,
    "start_time": "2022-11-10T13:53:39.048Z"
   },
   {
    "duration": 179,
    "start_time": "2022-11-10T13:53:46.057Z"
   },
   {
    "duration": 3,
    "start_time": "2022-11-10T13:53:46.238Z"
   },
   {
    "duration": 57086,
    "start_time": "2022-11-10T13:53:46.243Z"
   },
   {
    "duration": 182794,
    "start_time": "2022-11-10T13:54:43.334Z"
   },
   {
    "duration": 397,
    "start_time": "2022-11-10T13:57:46.131Z"
   },
   {
    "duration": 106,
    "start_time": "2022-11-10T13:57:46.530Z"
   },
   {
    "duration": 0,
    "start_time": "2022-11-10T13:57:46.644Z"
   },
   {
    "duration": 0,
    "start_time": "2022-11-10T13:57:46.645Z"
   },
   {
    "duration": 0,
    "start_time": "2022-11-10T13:57:46.647Z"
   },
   {
    "duration": 1512,
    "start_time": "2022-11-10T13:59:12.995Z"
   },
   {
    "duration": 3,
    "start_time": "2022-11-10T13:59:14.509Z"
   },
   {
    "duration": 960,
    "start_time": "2022-11-10T13:59:14.513Z"
   },
   {
    "duration": 127,
    "start_time": "2022-11-10T13:59:15.475Z"
   },
   {
    "duration": 1011,
    "start_time": "2022-11-10T13:59:15.604Z"
   },
   {
    "duration": 886,
    "start_time": "2022-11-10T13:59:16.617Z"
   },
   {
    "duration": 528,
    "start_time": "2022-11-10T13:59:17.505Z"
   },
   {
    "duration": 504,
    "start_time": "2022-11-10T13:59:18.035Z"
   },
   {
    "duration": 125,
    "start_time": "2022-11-10T13:59:18.541Z"
   },
   {
    "duration": 29,
    "start_time": "2022-11-10T13:59:18.670Z"
   },
   {
    "duration": 41,
    "start_time": "2022-11-10T13:59:18.701Z"
   },
   {
    "duration": 30,
    "start_time": "2022-11-10T13:59:18.744Z"
   },
   {
    "duration": 23,
    "start_time": "2022-11-10T13:59:18.776Z"
   },
   {
    "duration": 139,
    "start_time": "2022-11-10T13:59:18.801Z"
   },
   {
    "duration": 612,
    "start_time": "2022-11-10T13:59:18.942Z"
   },
   {
    "duration": 73,
    "start_time": "2022-11-10T13:59:19.556Z"
   },
   {
    "duration": 174,
    "start_time": "2022-11-10T13:59:19.635Z"
   },
   {
    "duration": 45,
    "start_time": "2022-11-10T13:59:19.811Z"
   },
   {
    "duration": 25,
    "start_time": "2022-11-10T13:59:19.858Z"
   },
   {
    "duration": 18,
    "start_time": "2022-11-10T13:59:19.885Z"
   },
   {
    "duration": 33,
    "start_time": "2022-11-10T13:59:19.905Z"
   },
   {
    "duration": 2393,
    "start_time": "2022-11-10T13:59:19.939Z"
   },
   {
    "duration": 77,
    "start_time": "2022-11-10T13:59:22.334Z"
   },
   {
    "duration": 19,
    "start_time": "2022-11-10T13:59:22.413Z"
   },
   {
    "duration": 34,
    "start_time": "2022-11-10T13:59:22.433Z"
   },
   {
    "duration": 3,
    "start_time": "2022-11-10T13:59:22.469Z"
   },
   {
    "duration": 1108,
    "start_time": "2022-11-10T13:59:22.474Z"
   },
   {
    "duration": 15,
    "start_time": "2022-11-10T13:59:23.585Z"
   },
   {
    "duration": 79,
    "start_time": "2022-11-10T13:59:23.601Z"
   },
   {
    "duration": 4,
    "start_time": "2022-11-10T13:59:23.682Z"
   },
   {
    "duration": 404,
    "start_time": "2022-11-10T13:59:23.687Z"
   },
   {
    "duration": 115,
    "start_time": "2022-11-10T13:59:24.093Z"
   },
   {
    "duration": 651622,
    "start_time": "2022-11-10T13:59:24.210Z"
   },
   {
    "duration": 191697,
    "start_time": "2022-11-10T14:10:15.839Z"
   },
   {
    "duration": 209,
    "start_time": "2022-11-10T14:13:27.538Z"
   },
   {
    "duration": 1534,
    "start_time": "2022-11-10T14:29:44.170Z"
   },
   {
    "duration": 4,
    "start_time": "2022-11-10T14:29:45.706Z"
   },
   {
    "duration": 1026,
    "start_time": "2022-11-10T14:29:45.712Z"
   },
   {
    "duration": 149,
    "start_time": "2022-11-10T14:29:46.740Z"
   },
   {
    "duration": 1000,
    "start_time": "2022-11-10T14:29:46.891Z"
   },
   {
    "duration": 898,
    "start_time": "2022-11-10T14:29:47.893Z"
   },
   {
    "duration": 547,
    "start_time": "2022-11-10T14:29:48.793Z"
   },
   {
    "duration": 487,
    "start_time": "2022-11-10T14:29:49.342Z"
   },
   {
    "duration": 131,
    "start_time": "2022-11-10T14:29:49.837Z"
   },
   {
    "duration": 18,
    "start_time": "2022-11-10T14:29:49.971Z"
   },
   {
    "duration": 43,
    "start_time": "2022-11-10T14:29:49.991Z"
   },
   {
    "duration": 46,
    "start_time": "2022-11-10T14:29:50.036Z"
   },
   {
    "duration": 57,
    "start_time": "2022-11-10T14:29:50.084Z"
   },
   {
    "duration": 122,
    "start_time": "2022-11-10T14:29:50.143Z"
   },
   {
    "duration": 588,
    "start_time": "2022-11-10T14:29:50.267Z"
   },
   {
    "duration": 70,
    "start_time": "2022-11-10T14:29:50.857Z"
   },
   {
    "duration": 182,
    "start_time": "2022-11-10T14:29:50.931Z"
   },
   {
    "duration": 30,
    "start_time": "2022-11-10T14:29:51.115Z"
   },
   {
    "duration": 23,
    "start_time": "2022-11-10T14:29:51.147Z"
   },
   {
    "duration": 16,
    "start_time": "2022-11-10T14:29:51.171Z"
   },
   {
    "duration": 39,
    "start_time": "2022-11-10T14:29:51.189Z"
   },
   {
    "duration": 2422,
    "start_time": "2022-11-10T14:29:51.236Z"
   },
   {
    "duration": 86,
    "start_time": "2022-11-10T14:29:53.660Z"
   },
   {
    "duration": 7,
    "start_time": "2022-11-10T14:29:53.748Z"
   },
   {
    "duration": 37,
    "start_time": "2022-11-10T14:29:53.756Z"
   },
   {
    "duration": 3,
    "start_time": "2022-11-10T14:29:53.795Z"
   },
   {
    "duration": 1021,
    "start_time": "2022-11-10T14:29:53.800Z"
   },
   {
    "duration": 16,
    "start_time": "2022-11-10T14:29:54.831Z"
   },
   {
    "duration": 85,
    "start_time": "2022-11-10T14:29:54.849Z"
   },
   {
    "duration": 4,
    "start_time": "2022-11-10T14:29:54.936Z"
   },
   {
    "duration": 355,
    "start_time": "2022-11-10T14:29:54.942Z"
   },
   {
    "duration": 154,
    "start_time": "2022-11-10T14:29:55.299Z"
   },
   {
    "duration": 1517,
    "start_time": "2022-11-10T15:31:11.487Z"
   },
   {
    "duration": 3,
    "start_time": "2022-11-10T15:31:13.007Z"
   },
   {
    "duration": 937,
    "start_time": "2022-11-10T15:31:13.013Z"
   },
   {
    "duration": 124,
    "start_time": "2022-11-10T15:31:13.952Z"
   },
   {
    "duration": 919,
    "start_time": "2022-11-10T15:31:14.078Z"
   },
   {
    "duration": 858,
    "start_time": "2022-11-10T15:31:14.999Z"
   },
   {
    "duration": 790,
    "start_time": "2022-11-10T15:31:15.859Z"
   },
   {
    "duration": 1077,
    "start_time": "2022-11-10T15:31:16.651Z"
   },
   {
    "duration": 233,
    "start_time": "2022-11-10T15:31:17.731Z"
   },
   {
    "duration": 19,
    "start_time": "2022-11-10T15:31:18.021Z"
   },
   {
    "duration": 19,
    "start_time": "2022-11-10T15:31:18.042Z"
   },
   {
    "duration": 75,
    "start_time": "2022-11-10T15:31:18.062Z"
   },
   {
    "duration": 86,
    "start_time": "2022-11-10T15:31:18.139Z"
   },
   {
    "duration": 155,
    "start_time": "2022-11-10T15:31:18.227Z"
   },
   {
    "duration": 592,
    "start_time": "2022-11-10T15:31:18.384Z"
   },
   {
    "duration": 77,
    "start_time": "2022-11-10T15:31:18.978Z"
   },
   {
    "duration": 194,
    "start_time": "2022-11-10T15:31:19.057Z"
   },
   {
    "duration": 38,
    "start_time": "2022-11-10T15:31:19.253Z"
   },
   {
    "duration": 47,
    "start_time": "2022-11-10T15:31:19.293Z"
   },
   {
    "duration": 16,
    "start_time": "2022-11-10T15:31:19.342Z"
   },
   {
    "duration": 7,
    "start_time": "2022-11-10T15:31:19.360Z"
   },
   {
    "duration": 2352,
    "start_time": "2022-11-10T15:31:19.369Z"
   },
   {
    "duration": 78,
    "start_time": "2022-11-10T15:31:21.723Z"
   },
   {
    "duration": 16,
    "start_time": "2022-11-10T15:31:21.803Z"
   },
   {
    "duration": 27,
    "start_time": "2022-11-10T15:31:21.821Z"
   },
   {
    "duration": 4,
    "start_time": "2022-11-10T15:31:21.850Z"
   },
   {
    "duration": 943,
    "start_time": "2022-11-10T15:31:21.855Z"
   },
   {
    "duration": 21,
    "start_time": "2022-11-10T15:31:22.803Z"
   },
   {
    "duration": 60,
    "start_time": "2022-11-10T15:31:22.826Z"
   },
   {
    "duration": 4,
    "start_time": "2022-11-10T15:31:22.888Z"
   },
   {
    "duration": 368,
    "start_time": "2022-11-10T15:31:22.894Z"
   },
   {
    "duration": 166,
    "start_time": "2022-11-10T15:31:23.264Z"
   },
   {
    "duration": 392997,
    "start_time": "2022-11-10T15:31:23.432Z"
   },
   {
    "duration": 142898,
    "start_time": "2022-11-10T15:37:56.431Z"
   },
   {
    "duration": 1201,
    "start_time": "2022-11-10T15:40:19.330Z"
   },
   {
    "duration": 1144279,
    "start_time": "2022-11-10T15:40:20.533Z"
   },
   {
    "duration": 21948,
    "start_time": "2022-11-10T15:59:24.815Z"
   },
   {
    "duration": 104,
    "start_time": "2022-11-10T15:59:46.766Z"
   },
   {
    "duration": 307667,
    "start_time": "2022-11-10T15:59:46.871Z"
   },
   {
    "duration": 9160,
    "start_time": "2022-11-10T16:04:54.541Z"
   },
   {
    "duration": 189,
    "start_time": "2022-11-10T16:05:03.703Z"
   },
   {
    "duration": 5,
    "start_time": "2022-11-10T16:05:03.894Z"
   },
   {
    "duration": 38824,
    "start_time": "2022-11-10T16:05:03.902Z"
   },
   {
    "duration": 242801,
    "start_time": "2022-11-10T16:05:42.730Z"
   },
   {
    "duration": 499,
    "start_time": "2022-11-10T16:09:45.538Z"
   },
   {
    "duration": 422,
    "start_time": "2022-11-10T16:09:46.042Z"
   },
   {
    "duration": 6,
    "start_time": "2022-11-10T16:10:01.283Z"
   },
   {
    "duration": 11,
    "start_time": "2022-11-10T16:10:09.037Z"
   },
   {
    "duration": 12,
    "start_time": "2022-11-10T16:13:14.998Z"
   },
   {
    "duration": 211,
    "start_time": "2022-11-10T16:13:21.592Z"
   },
   {
    "duration": 289,
    "start_time": "2022-11-10T16:13:49.714Z"
   },
   {
    "duration": 121,
    "start_time": "2022-11-10T16:26:41.563Z"
   },
   {
    "duration": 97,
    "start_time": "2022-11-10T16:26:50.872Z"
   },
   {
    "duration": 1640,
    "start_time": "2022-11-11T08:30:52.490Z"
   },
   {
    "duration": 3,
    "start_time": "2022-11-11T08:30:54.132Z"
   },
   {
    "duration": 2801,
    "start_time": "2022-11-11T08:30:54.137Z"
   },
   {
    "duration": 136,
    "start_time": "2022-11-11T08:30:56.940Z"
   },
   {
    "duration": 809,
    "start_time": "2022-11-11T08:30:57.078Z"
   },
   {
    "duration": 846,
    "start_time": "2022-11-11T08:30:57.889Z"
   },
   {
    "duration": 425,
    "start_time": "2022-11-11T08:30:58.736Z"
   },
   {
    "duration": 405,
    "start_time": "2022-11-11T08:30:59.163Z"
   },
   {
    "duration": 119,
    "start_time": "2022-11-11T08:30:59.570Z"
   },
   {
    "duration": 19,
    "start_time": "2022-11-11T08:30:59.691Z"
   },
   {
    "duration": 34,
    "start_time": "2022-11-11T08:30:59.711Z"
   },
   {
    "duration": 21,
    "start_time": "2022-11-11T08:30:59.746Z"
   },
   {
    "duration": 22,
    "start_time": "2022-11-11T08:30:59.769Z"
   },
   {
    "duration": 146,
    "start_time": "2022-11-11T08:30:59.792Z"
   },
   {
    "duration": 449,
    "start_time": "2022-11-11T08:30:59.940Z"
   },
   {
    "duration": 61,
    "start_time": "2022-11-11T08:31:00.390Z"
   },
   {
    "duration": 173,
    "start_time": "2022-11-11T08:31:00.453Z"
   },
   {
    "duration": 23,
    "start_time": "2022-11-11T08:31:00.629Z"
   },
   {
    "duration": 18,
    "start_time": "2022-11-11T08:31:00.654Z"
   },
   {
    "duration": 29,
    "start_time": "2022-11-11T08:31:00.674Z"
   },
   {
    "duration": 6,
    "start_time": "2022-11-11T08:31:00.704Z"
   },
   {
    "duration": 2164,
    "start_time": "2022-11-11T08:31:00.712Z"
   },
   {
    "duration": 88,
    "start_time": "2022-11-11T08:31:02.878Z"
   },
   {
    "duration": 6,
    "start_time": "2022-11-11T08:31:02.967Z"
   },
   {
    "duration": 32,
    "start_time": "2022-11-11T08:31:02.975Z"
   },
   {
    "duration": 4,
    "start_time": "2022-11-11T08:31:03.009Z"
   },
   {
    "duration": 954,
    "start_time": "2022-11-11T08:31:03.030Z"
   },
   {
    "duration": 2,
    "start_time": "2022-11-11T08:31:03.988Z"
   },
   {
    "duration": 639,
    "start_time": "2022-11-11T08:31:03.992Z"
   },
   {
    "duration": 0,
    "start_time": "2022-11-11T08:31:04.633Z"
   },
   {
    "duration": 0,
    "start_time": "2022-11-11T08:31:04.634Z"
   },
   {
    "duration": 0,
    "start_time": "2022-11-11T08:31:04.635Z"
   },
   {
    "duration": 0,
    "start_time": "2022-11-11T08:31:04.636Z"
   },
   {
    "duration": 0,
    "start_time": "2022-11-11T08:31:04.637Z"
   },
   {
    "duration": 0,
    "start_time": "2022-11-11T08:31:04.638Z"
   },
   {
    "duration": 0,
    "start_time": "2022-11-11T08:31:04.639Z"
   },
   {
    "duration": 0,
    "start_time": "2022-11-11T08:31:04.640Z"
   },
   {
    "duration": 0,
    "start_time": "2022-11-11T08:31:04.641Z"
   },
   {
    "duration": 0,
    "start_time": "2022-11-11T08:31:04.643Z"
   },
   {
    "duration": 0,
    "start_time": "2022-11-11T08:31:04.644Z"
   },
   {
    "duration": 0,
    "start_time": "2022-11-11T08:31:04.645Z"
   },
   {
    "duration": 1,
    "start_time": "2022-11-11T08:31:04.645Z"
   },
   {
    "duration": 0,
    "start_time": "2022-11-11T08:31:04.647Z"
   },
   {
    "duration": 0,
    "start_time": "2022-11-11T08:31:04.647Z"
   },
   {
    "duration": 0,
    "start_time": "2022-11-11T08:31:04.648Z"
   },
   {
    "duration": 0,
    "start_time": "2022-11-11T08:31:04.649Z"
   },
   {
    "duration": 0,
    "start_time": "2022-11-11T08:31:04.650Z"
   },
   {
    "duration": 0,
    "start_time": "2022-11-11T08:31:04.651Z"
   },
   {
    "duration": 0,
    "start_time": "2022-11-11T08:31:04.652Z"
   },
   {
    "duration": 0,
    "start_time": "2022-11-11T08:31:04.653Z"
   },
   {
    "duration": 0,
    "start_time": "2022-11-11T08:31:04.654Z"
   },
   {
    "duration": 0,
    "start_time": "2022-11-11T08:31:04.655Z"
   },
   {
    "duration": 0,
    "start_time": "2022-11-11T08:31:04.656Z"
   },
   {
    "duration": 0,
    "start_time": "2022-11-11T08:31:04.657Z"
   },
   {
    "duration": 423,
    "start_time": "2022-11-11T08:31:41.924Z"
   },
   {
    "duration": 9,
    "start_time": "2022-11-11T08:31:48.834Z"
   },
   {
    "duration": 67,
    "start_time": "2022-11-11T08:31:50.978Z"
   },
   {
    "duration": 18,
    "start_time": "2022-11-11T08:32:13.302Z"
   },
   {
    "duration": 413,
    "start_time": "2022-11-11T08:32:31.149Z"
   },
   {
    "duration": 398,
    "start_time": "2022-11-11T08:32:51.815Z"
   },
   {
    "duration": 482,
    "start_time": "2022-11-11T08:33:14.569Z"
   },
   {
    "duration": 21,
    "start_time": "2022-11-11T08:33:17.545Z"
   },
   {
    "duration": 11,
    "start_time": "2022-11-11T08:33:22.168Z"
   },
   {
    "duration": 14,
    "start_time": "2022-11-11T08:33:27.197Z"
   },
   {
    "duration": 1420,
    "start_time": "2022-11-11T08:33:44.896Z"
   },
   {
    "duration": 3,
    "start_time": "2022-11-11T08:33:46.318Z"
   },
   {
    "duration": 850,
    "start_time": "2022-11-11T08:33:46.330Z"
   },
   {
    "duration": 136,
    "start_time": "2022-11-11T08:33:47.183Z"
   },
   {
    "duration": 870,
    "start_time": "2022-11-11T08:33:47.321Z"
   },
   {
    "duration": 788,
    "start_time": "2022-11-11T08:33:48.193Z"
   },
   {
    "duration": 447,
    "start_time": "2022-11-11T08:33:48.983Z"
   },
   {
    "duration": 455,
    "start_time": "2022-11-11T08:33:49.432Z"
   },
   {
    "duration": 128,
    "start_time": "2022-11-11T08:33:49.889Z"
   },
   {
    "duration": 23,
    "start_time": "2022-11-11T08:33:50.030Z"
   },
   {
    "duration": 34,
    "start_time": "2022-11-11T08:33:50.055Z"
   },
   {
    "duration": 44,
    "start_time": "2022-11-11T08:33:50.090Z"
   },
   {
    "duration": 27,
    "start_time": "2022-11-11T08:33:50.137Z"
   },
   {
    "duration": 135,
    "start_time": "2022-11-11T08:33:50.166Z"
   },
   {
    "duration": 532,
    "start_time": "2022-11-11T08:33:50.302Z"
   },
   {
    "duration": 55,
    "start_time": "2022-11-11T08:33:50.835Z"
   },
   {
    "duration": 183,
    "start_time": "2022-11-11T08:33:50.892Z"
   },
   {
    "duration": 30,
    "start_time": "2022-11-11T08:33:51.076Z"
   },
   {
    "duration": 36,
    "start_time": "2022-11-11T08:33:51.108Z"
   },
   {
    "duration": 18,
    "start_time": "2022-11-11T08:33:51.146Z"
   },
   {
    "duration": 6,
    "start_time": "2022-11-11T08:33:51.166Z"
   },
   {
    "duration": 2207,
    "start_time": "2022-11-11T08:33:51.174Z"
   },
   {
    "duration": 83,
    "start_time": "2022-11-11T08:33:53.383Z"
   },
   {
    "duration": 6,
    "start_time": "2022-11-11T08:33:53.467Z"
   },
   {
    "duration": 25,
    "start_time": "2022-11-11T08:33:53.475Z"
   },
   {
    "duration": 3,
    "start_time": "2022-11-11T08:33:53.502Z"
   },
   {
    "duration": 944,
    "start_time": "2022-11-11T08:33:53.506Z"
   },
   {
    "duration": 2,
    "start_time": "2022-11-11T08:33:54.454Z"
   },
   {
    "duration": 494,
    "start_time": "2022-11-11T08:33:54.457Z"
   },
   {
    "duration": 14,
    "start_time": "2022-11-11T08:33:54.953Z"
   },
   {
    "duration": 77,
    "start_time": "2022-11-11T08:33:54.969Z"
   },
   {
    "duration": 3,
    "start_time": "2022-11-11T08:33:55.048Z"
   },
   {
    "duration": 315,
    "start_time": "2022-11-11T08:33:55.053Z"
   },
   {
    "duration": 46,
    "start_time": "2022-11-11T08:33:55.370Z"
   },
   {
    "duration": 12,
    "start_time": "2022-11-11T08:33:55.418Z"
   },
   {
    "duration": 148,
    "start_time": "2022-11-11T08:33:55.431Z"
   },
   {
    "duration": 139,
    "start_time": "2022-11-11T08:33:55.581Z"
   },
   {
    "duration": 346411,
    "start_time": "2022-11-11T08:33:55.722Z"
   },
   {
    "duration": 6399,
    "start_time": "2022-11-11T08:39:42.134Z"
   },
   {
    "duration": 1010,
    "start_time": "2022-11-11T08:39:48.535Z"
   },
   {
    "duration": 1044768,
    "start_time": "2022-11-11T08:39:49.546Z"
   },
   {
    "duration": 19005,
    "start_time": "2022-11-11T08:57:14.316Z"
   },
   {
    "duration": 112,
    "start_time": "2022-11-11T08:57:33.323Z"
   },
   {
    "duration": 1189,
    "start_time": "2022-11-11T08:57:33.436Z"
   },
   {
    "duration": 72,
    "start_time": "2022-11-11T08:57:34.627Z"
   },
   {
    "duration": 58,
    "start_time": "2022-11-11T08:57:34.701Z"
   },
   {
    "duration": 3,
    "start_time": "2022-11-11T08:57:34.760Z"
   },
   {
    "duration": 21568,
    "start_time": "2022-11-11T08:57:34.764Z"
   },
   {
    "duration": 111597,
    "start_time": "2022-11-11T08:57:56.334Z"
   },
   {
    "duration": 206,
    "start_time": "2022-11-11T08:59:47.934Z"
   },
   {
    "duration": 95,
    "start_time": "2022-11-11T08:59:48.143Z"
   },
   {
    "duration": 118,
    "start_time": "2022-11-11T08:59:48.240Z"
   },
   {
    "duration": 156,
    "start_time": "2022-11-11T09:01:45.512Z"
   },
   {
    "duration": 154,
    "start_time": "2022-11-11T09:01:53.607Z"
   },
   {
    "duration": 10,
    "start_time": "2022-11-11T09:02:05.924Z"
   },
   {
    "duration": 9,
    "start_time": "2022-11-11T09:03:26.345Z"
   },
   {
    "duration": 14,
    "start_time": "2022-11-11T09:04:36.883Z"
   },
   {
    "duration": 6,
    "start_time": "2022-11-11T09:04:55.892Z"
   },
   {
    "duration": 6,
    "start_time": "2022-11-11T09:05:16.415Z"
   },
   {
    "duration": 8,
    "start_time": "2022-11-11T09:05:41.199Z"
   },
   {
    "duration": 10,
    "start_time": "2022-11-11T09:05:53.313Z"
   },
   {
    "duration": 10,
    "start_time": "2022-11-11T09:07:18.118Z"
   },
   {
    "duration": 65,
    "start_time": "2022-11-11T09:07:22.489Z"
   },
   {
    "duration": 11,
    "start_time": "2022-11-11T09:07:28.374Z"
   },
   {
    "duration": 1442,
    "start_time": "2022-11-11T09:08:01.018Z"
   },
   {
    "duration": 2,
    "start_time": "2022-11-11T09:08:02.462Z"
   },
   {
    "duration": 879,
    "start_time": "2022-11-11T09:08:02.466Z"
   },
   {
    "duration": 225,
    "start_time": "2022-11-11T09:08:03.346Z"
   },
   {
    "duration": 1801,
    "start_time": "2022-11-11T09:08:03.572Z"
   },
   {
    "duration": 788,
    "start_time": "2022-11-11T09:08:05.374Z"
   },
   {
    "duration": 455,
    "start_time": "2022-11-11T09:08:06.164Z"
   },
   {
    "duration": 465,
    "start_time": "2022-11-11T09:08:06.621Z"
   },
   {
    "duration": 119,
    "start_time": "2022-11-11T09:08:07.088Z"
   },
   {
    "duration": 31,
    "start_time": "2022-11-11T09:08:07.209Z"
   },
   {
    "duration": 22,
    "start_time": "2022-11-11T09:08:07.241Z"
   },
   {
    "duration": 20,
    "start_time": "2022-11-11T09:08:07.264Z"
   },
   {
    "duration": 21,
    "start_time": "2022-11-11T09:08:07.286Z"
   },
   {
    "duration": 138,
    "start_time": "2022-11-11T09:08:07.308Z"
   },
   {
    "duration": 488,
    "start_time": "2022-11-11T09:08:07.447Z"
   },
   {
    "duration": 54,
    "start_time": "2022-11-11T09:08:07.937Z"
   },
   {
    "duration": 179,
    "start_time": "2022-11-11T09:08:07.993Z"
   },
   {
    "duration": 31,
    "start_time": "2022-11-11T09:08:08.174Z"
   },
   {
    "duration": 37,
    "start_time": "2022-11-11T09:08:08.207Z"
   },
   {
    "duration": 14,
    "start_time": "2022-11-11T09:08:08.246Z"
   },
   {
    "duration": 6,
    "start_time": "2022-11-11T09:08:08.261Z"
   },
   {
    "duration": 2128,
    "start_time": "2022-11-11T09:08:08.268Z"
   },
   {
    "duration": 93,
    "start_time": "2022-11-11T09:08:10.398Z"
   },
   {
    "duration": 6,
    "start_time": "2022-11-11T09:08:10.493Z"
   },
   {
    "duration": 42,
    "start_time": "2022-11-11T09:08:10.501Z"
   },
   {
    "duration": 3,
    "start_time": "2022-11-11T09:08:10.545Z"
   },
   {
    "duration": 970,
    "start_time": "2022-11-11T09:08:10.551Z"
   },
   {
    "duration": 4,
    "start_time": "2022-11-11T09:08:11.526Z"
   },
   {
    "duration": 494,
    "start_time": "2022-11-11T09:08:11.531Z"
   },
   {
    "duration": 11,
    "start_time": "2022-11-11T09:08:12.029Z"
   },
   {
    "duration": 12,
    "start_time": "2022-11-11T09:08:12.042Z"
   },
   {
    "duration": 79,
    "start_time": "2022-11-11T09:08:12.056Z"
   },
   {
    "duration": 3,
    "start_time": "2022-11-11T09:08:12.137Z"
   },
   {
    "duration": 336,
    "start_time": "2022-11-11T09:08:12.142Z"
   },
   {
    "duration": 53,
    "start_time": "2022-11-11T09:08:12.480Z"
   },
   {
    "duration": 3,
    "start_time": "2022-11-11T09:08:12.535Z"
   },
   {
    "duration": 163,
    "start_time": "2022-11-11T09:08:12.539Z"
   },
   {
    "duration": 143,
    "start_time": "2022-11-11T09:08:12.704Z"
   },
   {
    "duration": 1324,
    "start_time": "2022-11-11T09:08:36.645Z"
   },
   {
    "duration": 3,
    "start_time": "2022-11-11T09:08:37.971Z"
   },
   {
    "duration": 861,
    "start_time": "2022-11-11T09:08:37.976Z"
   },
   {
    "duration": 142,
    "start_time": "2022-11-11T09:08:38.840Z"
   },
   {
    "duration": 857,
    "start_time": "2022-11-11T09:08:38.983Z"
   },
   {
    "duration": 805,
    "start_time": "2022-11-11T09:08:39.842Z"
   },
   {
    "duration": 450,
    "start_time": "2022-11-11T09:08:40.649Z"
   },
   {
    "duration": 476,
    "start_time": "2022-11-11T09:08:41.102Z"
   },
   {
    "duration": 141,
    "start_time": "2022-11-11T09:08:41.580Z"
   },
   {
    "duration": 23,
    "start_time": "2022-11-11T09:08:41.730Z"
   },
   {
    "duration": 23,
    "start_time": "2022-11-11T09:08:41.755Z"
   },
   {
    "duration": 22,
    "start_time": "2022-11-11T09:08:41.780Z"
   },
   {
    "duration": 43,
    "start_time": "2022-11-11T09:08:41.804Z"
   },
   {
    "duration": 125,
    "start_time": "2022-11-11T09:08:41.849Z"
   },
   {
    "duration": 520,
    "start_time": "2022-11-11T09:08:41.976Z"
   },
   {
    "duration": 67,
    "start_time": "2022-11-11T09:08:42.497Z"
   },
   {
    "duration": 168,
    "start_time": "2022-11-11T09:08:42.566Z"
   },
   {
    "duration": 25,
    "start_time": "2022-11-11T09:08:42.735Z"
   },
   {
    "duration": 20,
    "start_time": "2022-11-11T09:08:42.762Z"
   },
   {
    "duration": 16,
    "start_time": "2022-11-11T09:08:42.784Z"
   },
   {
    "duration": 31,
    "start_time": "2022-11-11T09:08:42.801Z"
   },
   {
    "duration": 2522,
    "start_time": "2022-11-11T09:08:42.834Z"
   },
   {
    "duration": 185,
    "start_time": "2022-11-11T09:08:45.357Z"
   },
   {
    "duration": 7,
    "start_time": "2022-11-11T09:08:45.544Z"
   },
   {
    "duration": 78,
    "start_time": "2022-11-11T09:08:45.552Z"
   },
   {
    "duration": 4,
    "start_time": "2022-11-11T09:08:45.632Z"
   },
   {
    "duration": 1328,
    "start_time": "2022-11-11T09:08:45.637Z"
   },
   {
    "duration": 2,
    "start_time": "2022-11-11T09:08:46.969Z"
   },
   {
    "duration": 77,
    "start_time": "2022-11-11T09:08:46.972Z"
   },
   {
    "duration": 433,
    "start_time": "2022-11-11T09:08:47.050Z"
   },
   {
    "duration": 10,
    "start_time": "2022-11-11T09:08:47.484Z"
   },
   {
    "duration": 11,
    "start_time": "2022-11-11T09:08:47.495Z"
   },
   {
    "duration": 69,
    "start_time": "2022-11-11T09:08:47.508Z"
   },
   {
    "duration": 4,
    "start_time": "2022-11-11T09:08:47.578Z"
   },
   {
    "duration": 310,
    "start_time": "2022-11-11T09:08:47.583Z"
   },
   {
    "duration": 55,
    "start_time": "2022-11-11T09:08:47.895Z"
   },
   {
    "duration": 3,
    "start_time": "2022-11-11T09:08:47.951Z"
   },
   {
    "duration": 151,
    "start_time": "2022-11-11T09:08:47.955Z"
   },
   {
    "duration": 126,
    "start_time": "2022-11-11T09:08:48.108Z"
   },
   {
    "duration": 197862,
    "start_time": "2022-11-11T09:08:48.236Z"
   },
   {
    "duration": 56,
    "start_time": "2022-11-11T09:12:06.100Z"
   },
   {
    "duration": 53,
    "start_time": "2022-11-11T09:12:06.158Z"
   },
   {
    "duration": 9859,
    "start_time": "2022-11-11T09:12:06.213Z"
   },
   {
    "duration": 64,
    "start_time": "2022-11-11T09:12:16.073Z"
   },
   {
    "duration": 55,
    "start_time": "2022-11-11T09:12:16.138Z"
   },
   {
    "duration": 10,
    "start_time": "2022-11-11T09:12:16.194Z"
   },
   {
    "duration": 832,
    "start_time": "2022-11-11T09:12:16.206Z"
   },
   {
    "duration": 53,
    "start_time": "2022-11-11T09:12:17.039Z"
   },
   {
    "duration": 54,
    "start_time": "2022-11-11T09:12:17.093Z"
   },
   {
    "duration": 3,
    "start_time": "2022-11-11T09:12:17.148Z"
   },
   {
    "duration": 690,
    "start_time": "2022-11-11T09:12:17.153Z"
   },
   {
    "duration": 21092,
    "start_time": "2022-11-11T09:12:17.845Z"
   },
   {
    "duration": 0,
    "start_time": "2022-11-11T09:12:38.938Z"
   },
   {
    "duration": 0,
    "start_time": "2022-11-11T09:12:38.939Z"
   },
   {
    "duration": 0,
    "start_time": "2022-11-11T09:12:38.940Z"
   },
   {
    "duration": 5,
    "start_time": "2022-11-11T09:13:01.048Z"
   },
   {
    "duration": 6,
    "start_time": "2022-11-11T09:13:12.104Z"
   },
   {
    "duration": 25,
    "start_time": "2022-11-11T09:13:35.439Z"
   },
   {
    "duration": 3,
    "start_time": "2022-11-11T09:14:18.400Z"
   },
   {
    "duration": 9,
    "start_time": "2022-11-11T09:14:25.561Z"
   },
   {
    "duration": 6,
    "start_time": "2022-11-11T09:14:30.120Z"
   },
   {
    "duration": 4,
    "start_time": "2022-11-11T09:14:36.970Z"
   },
   {
    "duration": 7,
    "start_time": "2022-11-11T09:15:12.556Z"
   },
   {
    "duration": 10,
    "start_time": "2022-11-11T09:15:19.943Z"
   },
   {
    "duration": 4,
    "start_time": "2022-11-11T09:15:23.282Z"
   },
   {
    "duration": 4,
    "start_time": "2022-11-11T09:15:27.289Z"
   },
   {
    "duration": 5,
    "start_time": "2022-11-11T09:15:28.729Z"
   },
   {
    "duration": 18,
    "start_time": "2022-11-11T09:15:48.985Z"
   },
   {
    "duration": 17,
    "start_time": "2022-11-11T09:15:53.407Z"
   },
   {
    "duration": 5,
    "start_time": "2022-11-11T09:15:59.062Z"
   },
   {
    "duration": 12,
    "start_time": "2022-11-11T09:17:46.996Z"
   },
   {
    "duration": 8,
    "start_time": "2022-11-11T09:17:51.096Z"
   },
   {
    "duration": 21,
    "start_time": "2022-11-11T09:17:57.708Z"
   },
   {
    "duration": 17,
    "start_time": "2022-11-11T09:18:06.577Z"
   },
   {
    "duration": 6,
    "start_time": "2022-11-11T09:18:14.410Z"
   },
   {
    "duration": 8,
    "start_time": "2022-11-11T09:18:19.133Z"
   },
   {
    "duration": 11,
    "start_time": "2022-11-11T09:18:47.194Z"
   },
   {
    "duration": 94,
    "start_time": "2022-11-11T09:21:49.255Z"
   },
   {
    "duration": 1374,
    "start_time": "2022-11-11T09:22:00.801Z"
   },
   {
    "duration": 3,
    "start_time": "2022-11-11T09:22:02.176Z"
   },
   {
    "duration": 780,
    "start_time": "2022-11-11T09:22:02.180Z"
   },
   {
    "duration": 123,
    "start_time": "2022-11-11T09:22:02.962Z"
   },
   {
    "duration": 912,
    "start_time": "2022-11-11T09:22:03.086Z"
   },
   {
    "duration": 737,
    "start_time": "2022-11-11T09:22:03.999Z"
   },
   {
    "duration": 818,
    "start_time": "2022-11-11T09:22:04.737Z"
   },
   {
    "duration": 1004,
    "start_time": "2022-11-11T09:22:05.556Z"
   },
   {
    "duration": 221,
    "start_time": "2022-11-11T09:22:06.562Z"
   },
   {
    "duration": 20,
    "start_time": "2022-11-11T09:22:06.786Z"
   },
   {
    "duration": 35,
    "start_time": "2022-11-11T09:22:06.807Z"
   },
   {
    "duration": 19,
    "start_time": "2022-11-11T09:22:06.844Z"
   },
   {
    "duration": 26,
    "start_time": "2022-11-11T09:22:06.865Z"
   },
   {
    "duration": 129,
    "start_time": "2022-11-11T09:22:06.892Z"
   },
   {
    "duration": 480,
    "start_time": "2022-11-11T09:22:07.030Z"
   },
   {
    "duration": 64,
    "start_time": "2022-11-11T09:22:07.513Z"
   },
   {
    "duration": 160,
    "start_time": "2022-11-11T09:22:07.579Z"
   },
   {
    "duration": 30,
    "start_time": "2022-11-11T09:22:07.741Z"
   },
   {
    "duration": 28,
    "start_time": "2022-11-11T09:22:07.772Z"
   },
   {
    "duration": 12,
    "start_time": "2022-11-11T09:22:07.802Z"
   },
   {
    "duration": 18,
    "start_time": "2022-11-11T09:22:07.816Z"
   },
   {
    "duration": 1948,
    "start_time": "2022-11-11T09:22:07.835Z"
   },
   {
    "duration": 93,
    "start_time": "2022-11-11T09:22:09.785Z"
   },
   {
    "duration": 7,
    "start_time": "2022-11-11T09:22:09.879Z"
   },
   {
    "duration": 34,
    "start_time": "2022-11-11T09:22:09.887Z"
   },
   {
    "duration": 2,
    "start_time": "2022-11-11T09:22:09.923Z"
   },
   {
    "duration": 954,
    "start_time": "2022-11-11T09:22:09.927Z"
   },
   {
    "duration": 2,
    "start_time": "2022-11-11T09:22:10.884Z"
   },
   {
    "duration": 192,
    "start_time": "2022-11-11T09:22:10.888Z"
   },
   {
    "duration": 0,
    "start_time": "2022-11-11T09:22:11.082Z"
   },
   {
    "duration": 0,
    "start_time": "2022-11-11T09:22:11.083Z"
   },
   {
    "duration": 0,
    "start_time": "2022-11-11T09:22:11.084Z"
   },
   {
    "duration": 1,
    "start_time": "2022-11-11T09:22:11.084Z"
   },
   {
    "duration": 0,
    "start_time": "2022-11-11T09:22:11.086Z"
   },
   {
    "duration": 0,
    "start_time": "2022-11-11T09:22:11.086Z"
   },
   {
    "duration": 0,
    "start_time": "2022-11-11T09:22:11.088Z"
   },
   {
    "duration": 0,
    "start_time": "2022-11-11T09:22:11.088Z"
   },
   {
    "duration": 0,
    "start_time": "2022-11-11T09:22:11.089Z"
   },
   {
    "duration": 0,
    "start_time": "2022-11-11T09:22:11.090Z"
   },
   {
    "duration": 0,
    "start_time": "2022-11-11T09:22:11.092Z"
   },
   {
    "duration": 0,
    "start_time": "2022-11-11T09:22:11.093Z"
   },
   {
    "duration": 0,
    "start_time": "2022-11-11T09:22:11.094Z"
   },
   {
    "duration": 0,
    "start_time": "2022-11-11T09:22:11.095Z"
   },
   {
    "duration": 0,
    "start_time": "2022-11-11T09:22:11.096Z"
   },
   {
    "duration": 0,
    "start_time": "2022-11-11T09:22:11.097Z"
   },
   {
    "duration": 0,
    "start_time": "2022-11-11T09:22:11.098Z"
   },
   {
    "duration": 0,
    "start_time": "2022-11-11T09:22:11.098Z"
   },
   {
    "duration": 0,
    "start_time": "2022-11-11T09:22:11.099Z"
   },
   {
    "duration": 0,
    "start_time": "2022-11-11T09:22:11.100Z"
   },
   {
    "duration": 0,
    "start_time": "2022-11-11T09:22:11.101Z"
   },
   {
    "duration": 0,
    "start_time": "2022-11-11T09:22:11.130Z"
   },
   {
    "duration": 0,
    "start_time": "2022-11-11T09:22:11.131Z"
   },
   {
    "duration": 0,
    "start_time": "2022-11-11T09:22:11.131Z"
   },
   {
    "duration": 0,
    "start_time": "2022-11-11T09:22:11.132Z"
   },
   {
    "duration": 0,
    "start_time": "2022-11-11T09:22:11.133Z"
   },
   {
    "duration": 635,
    "start_time": "2022-11-11T09:22:24.443Z"
   },
   {
    "duration": 18,
    "start_time": "2022-11-11T09:22:26.724Z"
   },
   {
    "duration": 18,
    "start_time": "2022-11-11T09:22:38.072Z"
   },
   {
    "duration": 508,
    "start_time": "2022-11-11T09:23:00.645Z"
   },
   {
    "duration": 538,
    "start_time": "2022-11-11T09:23:16.363Z"
   },
   {
    "duration": 12,
    "start_time": "2022-11-11T09:23:18.317Z"
   },
   {
    "duration": 12,
    "start_time": "2022-11-11T09:23:41.391Z"
   },
   {
    "duration": 724,
    "start_time": "2022-11-11T09:25:24.726Z"
   },
   {
    "duration": 17,
    "start_time": "2022-11-11T09:25:26.606Z"
   },
   {
    "duration": 1151,
    "start_time": "2022-11-11T09:28:13.396Z"
   },
   {
    "duration": 852,
    "start_time": "2022-11-11T09:28:53.159Z"
   },
   {
    "duration": 3,
    "start_time": "2022-11-11T09:28:59.039Z"
   },
   {
    "duration": 1077,
    "start_time": "2022-11-11T09:29:02.191Z"
   },
   {
    "duration": 768,
    "start_time": "2022-11-11T09:29:11.321Z"
   },
   {
    "duration": 905,
    "start_time": "2022-11-11T09:29:52.010Z"
   },
   {
    "duration": 906,
    "start_time": "2022-11-11T09:30:02.692Z"
   },
   {
    "duration": 847,
    "start_time": "2022-11-11T09:30:07.871Z"
   },
   {
    "duration": 21,
    "start_time": "2022-11-11T09:30:17.417Z"
   },
   {
    "duration": 46,
    "start_time": "2022-11-11T09:30:32.270Z"
   },
   {
    "duration": 419,
    "start_time": "2022-11-11T09:31:03.002Z"
   },
   {
    "duration": 449,
    "start_time": "2022-11-11T10:22:02.110Z"
   },
   {
    "duration": 391,
    "start_time": "2022-11-11T10:22:16.328Z"
   },
   {
    "duration": 442,
    "start_time": "2022-11-11T10:22:40.881Z"
   },
   {
    "duration": 11,
    "start_time": "2022-11-11T10:22:42.599Z"
   },
   {
    "duration": 405,
    "start_time": "2022-11-11T10:22:50.963Z"
   },
   {
    "duration": 413,
    "start_time": "2022-11-11T10:23:13.357Z"
   },
   {
    "duration": 392,
    "start_time": "2022-11-11T10:24:13.435Z"
   },
   {
    "duration": 473,
    "start_time": "2022-11-11T10:26:32.034Z"
   },
   {
    "duration": 11,
    "start_time": "2022-11-11T10:26:34.019Z"
   },
   {
    "duration": 431,
    "start_time": "2022-11-11T10:26:45.007Z"
   },
   {
    "duration": 10,
    "start_time": "2022-11-11T10:26:47.224Z"
   },
   {
    "duration": 3,
    "start_time": "2022-11-11T10:37:12.640Z"
   },
   {
    "duration": 383,
    "start_time": "2022-11-11T10:37:30.875Z"
   },
   {
    "duration": 438,
    "start_time": "2022-11-11T10:38:41.466Z"
   },
   {
    "duration": 10,
    "start_time": "2022-11-11T10:38:44.417Z"
   },
   {
    "duration": 10,
    "start_time": "2022-11-11T10:38:47.522Z"
   },
   {
    "duration": 442,
    "start_time": "2022-11-11T10:39:13.969Z"
   },
   {
    "duration": 66,
    "start_time": "2022-11-11T10:40:23.900Z"
   },
   {
    "duration": 71,
    "start_time": "2022-11-11T10:40:27.055Z"
   },
   {
    "duration": 4,
    "start_time": "2022-11-11T10:40:33.749Z"
   },
   {
    "duration": 5,
    "start_time": "2022-11-11T10:40:49.163Z"
   },
   {
    "duration": 4,
    "start_time": "2022-11-11T10:40:56.195Z"
   },
   {
    "duration": 3,
    "start_time": "2022-11-11T10:40:59.118Z"
   },
   {
    "duration": 467,
    "start_time": "2022-11-11T10:51:20.655Z"
   },
   {
    "duration": 4,
    "start_time": "2022-11-11T10:51:23.541Z"
   },
   {
    "duration": 4,
    "start_time": "2022-11-11T10:51:25.794Z"
   },
   {
    "duration": 430,
    "start_time": "2022-11-11T10:52:05.007Z"
   },
   {
    "duration": 10,
    "start_time": "2022-11-11T10:52:07.643Z"
   },
   {
    "duration": 4,
    "start_time": "2022-11-11T10:52:11.366Z"
   },
   {
    "duration": 4,
    "start_time": "2022-11-11T10:52:12.956Z"
   },
   {
    "duration": 1399,
    "start_time": "2022-11-11T10:52:20.810Z"
   },
   {
    "duration": 3,
    "start_time": "2022-11-11T10:52:22.210Z"
   },
   {
    "duration": 853,
    "start_time": "2022-11-11T10:52:22.214Z"
   },
   {
    "duration": 146,
    "start_time": "2022-11-11T10:52:23.070Z"
   },
   {
    "duration": 965,
    "start_time": "2022-11-11T10:52:23.217Z"
   },
   {
    "duration": 858,
    "start_time": "2022-11-11T10:52:24.184Z"
   },
   {
    "duration": 465,
    "start_time": "2022-11-11T10:52:25.044Z"
   },
   {
    "duration": 402,
    "start_time": "2022-11-11T10:52:25.511Z"
   },
   {
    "duration": 121,
    "start_time": "2022-11-11T10:52:25.915Z"
   },
   {
    "duration": 18,
    "start_time": "2022-11-11T10:52:26.038Z"
   },
   {
    "duration": 26,
    "start_time": "2022-11-11T10:52:26.057Z"
   },
   {
    "duration": 30,
    "start_time": "2022-11-11T10:52:26.084Z"
   },
   {
    "duration": 33,
    "start_time": "2022-11-11T10:52:26.115Z"
   },
   {
    "duration": 118,
    "start_time": "2022-11-11T10:52:26.149Z"
   },
   {
    "duration": 504,
    "start_time": "2022-11-11T10:52:26.269Z"
   },
   {
    "duration": 70,
    "start_time": "2022-11-11T10:52:26.774Z"
   },
   {
    "duration": 157,
    "start_time": "2022-11-11T10:52:26.846Z"
   },
   {
    "duration": 32,
    "start_time": "2022-11-11T10:52:27.005Z"
   },
   {
    "duration": 61,
    "start_time": "2022-11-11T10:52:27.038Z"
   },
   {
    "duration": 16,
    "start_time": "2022-11-11T10:52:27.101Z"
   },
   {
    "duration": 6,
    "start_time": "2022-11-11T10:52:27.119Z"
   },
   {
    "duration": 2975,
    "start_time": "2022-11-11T10:52:27.127Z"
   },
   {
    "duration": 88,
    "start_time": "2022-11-11T10:52:30.104Z"
   },
   {
    "duration": 18,
    "start_time": "2022-11-11T10:52:30.194Z"
   },
   {
    "duration": 59,
    "start_time": "2022-11-11T10:52:30.214Z"
   },
   {
    "duration": 26,
    "start_time": "2022-11-11T10:52:30.275Z"
   },
   {
    "duration": 981,
    "start_time": "2022-11-11T10:52:30.303Z"
   },
   {
    "duration": 3,
    "start_time": "2022-11-11T10:52:31.288Z"
   },
   {
    "duration": 549,
    "start_time": "2022-11-11T10:52:31.293Z"
   },
   {
    "duration": 0,
    "start_time": "2022-11-11T10:52:31.844Z"
   },
   {
    "duration": 0,
    "start_time": "2022-11-11T10:52:31.845Z"
   },
   {
    "duration": 0,
    "start_time": "2022-11-11T10:52:31.847Z"
   },
   {
    "duration": 0,
    "start_time": "2022-11-11T10:52:31.847Z"
   },
   {
    "duration": 0,
    "start_time": "2022-11-11T10:52:31.849Z"
   },
   {
    "duration": 0,
    "start_time": "2022-11-11T10:52:31.850Z"
   },
   {
    "duration": 0,
    "start_time": "2022-11-11T10:52:31.851Z"
   },
   {
    "duration": 0,
    "start_time": "2022-11-11T10:52:31.853Z"
   },
   {
    "duration": 0,
    "start_time": "2022-11-11T10:52:31.854Z"
   },
   {
    "duration": 0,
    "start_time": "2022-11-11T10:52:31.856Z"
   },
   {
    "duration": 0,
    "start_time": "2022-11-11T10:52:31.857Z"
   },
   {
    "duration": 0,
    "start_time": "2022-11-11T10:52:31.858Z"
   },
   {
    "duration": 0,
    "start_time": "2022-11-11T10:52:31.859Z"
   },
   {
    "duration": 0,
    "start_time": "2022-11-11T10:52:31.860Z"
   },
   {
    "duration": 0,
    "start_time": "2022-11-11T10:52:31.861Z"
   },
   {
    "duration": 0,
    "start_time": "2022-11-11T10:52:31.862Z"
   },
   {
    "duration": 0,
    "start_time": "2022-11-11T10:52:31.863Z"
   },
   {
    "duration": 0,
    "start_time": "2022-11-11T10:52:31.864Z"
   },
   {
    "duration": 0,
    "start_time": "2022-11-11T10:52:31.865Z"
   },
   {
    "duration": 0,
    "start_time": "2022-11-11T10:52:31.866Z"
   },
   {
    "duration": 0,
    "start_time": "2022-11-11T10:52:31.868Z"
   },
   {
    "duration": 0,
    "start_time": "2022-11-11T10:52:31.869Z"
   },
   {
    "duration": 0,
    "start_time": "2022-11-11T10:52:31.870Z"
   },
   {
    "duration": 0,
    "start_time": "2022-11-11T10:52:31.871Z"
   },
   {
    "duration": 0,
    "start_time": "2022-11-11T10:52:31.872Z"
   },
   {
    "duration": 0,
    "start_time": "2022-11-11T10:52:31.873Z"
   },
   {
    "duration": 1354,
    "start_time": "2022-11-11T10:53:08.907Z"
   },
   {
    "duration": 3,
    "start_time": "2022-11-11T10:53:10.264Z"
   },
   {
    "duration": 804,
    "start_time": "2022-11-11T10:53:10.268Z"
   },
   {
    "duration": 137,
    "start_time": "2022-11-11T10:53:11.074Z"
   },
   {
    "duration": 1553,
    "start_time": "2022-11-11T10:53:11.213Z"
   },
   {
    "duration": 944,
    "start_time": "2022-11-11T10:53:12.768Z"
   },
   {
    "duration": 471,
    "start_time": "2022-11-11T10:53:13.713Z"
   },
   {
    "duration": 417,
    "start_time": "2022-11-11T10:53:14.185Z"
   },
   {
    "duration": 120,
    "start_time": "2022-11-11T10:53:14.604Z"
   },
   {
    "duration": 33,
    "start_time": "2022-11-11T10:53:14.731Z"
   },
   {
    "duration": 26,
    "start_time": "2022-11-11T10:53:14.766Z"
   },
   {
    "duration": 27,
    "start_time": "2022-11-11T10:53:14.794Z"
   },
   {
    "duration": 26,
    "start_time": "2022-11-11T10:53:14.823Z"
   },
   {
    "duration": 126,
    "start_time": "2022-11-11T10:53:14.852Z"
   },
   {
    "duration": 544,
    "start_time": "2022-11-11T10:53:14.980Z"
   },
   {
    "duration": 52,
    "start_time": "2022-11-11T10:53:15.530Z"
   },
   {
    "duration": 168,
    "start_time": "2022-11-11T10:53:15.584Z"
   },
   {
    "duration": 23,
    "start_time": "2022-11-11T10:53:15.754Z"
   },
   {
    "duration": 20,
    "start_time": "2022-11-11T10:53:15.779Z"
   },
   {
    "duration": 34,
    "start_time": "2022-11-11T10:53:15.801Z"
   },
   {
    "duration": 5,
    "start_time": "2022-11-11T10:53:15.837Z"
   },
   {
    "duration": 2128,
    "start_time": "2022-11-11T10:53:15.843Z"
   },
   {
    "duration": 99,
    "start_time": "2022-11-11T10:53:17.973Z"
   },
   {
    "duration": 8,
    "start_time": "2022-11-11T10:53:18.073Z"
   },
   {
    "duration": 51,
    "start_time": "2022-11-11T10:53:18.083Z"
   },
   {
    "duration": 3,
    "start_time": "2022-11-11T10:53:18.136Z"
   },
   {
    "duration": 845,
    "start_time": "2022-11-11T10:53:18.141Z"
   },
   {
    "duration": 3,
    "start_time": "2022-11-11T10:53:18.991Z"
   },
   {
    "duration": 462,
    "start_time": "2022-11-11T10:53:18.996Z"
   },
   {
    "duration": 10,
    "start_time": "2022-11-11T10:53:19.461Z"
   },
   {
    "duration": 7,
    "start_time": "2022-11-11T10:53:19.473Z"
   },
   {
    "duration": 9,
    "start_time": "2022-11-11T10:53:19.481Z"
   },
   {
    "duration": 19,
    "start_time": "2022-11-11T10:53:19.491Z"
   },
   {
    "duration": 77,
    "start_time": "2022-11-11T10:53:19.512Z"
   },
   {
    "duration": 4,
    "start_time": "2022-11-11T10:53:19.591Z"
   },
   {
    "duration": 325,
    "start_time": "2022-11-11T10:53:19.596Z"
   },
   {
    "duration": 64,
    "start_time": "2022-11-11T10:53:19.922Z"
   },
   {
    "duration": 179,
    "start_time": "2022-11-11T10:53:19.987Z"
   },
   {
    "duration": 143,
    "start_time": "2022-11-11T10:53:20.168Z"
   },
   {
    "duration": 33301,
    "start_time": "2022-11-11T10:53:20.312Z"
   },
   {
    "duration": 52,
    "start_time": "2022-11-11T10:53:53.614Z"
   },
   {
    "duration": 54,
    "start_time": "2022-11-11T10:53:53.668Z"
   },
   {
    "duration": 1470,
    "start_time": "2022-11-11T10:53:53.724Z"
   },
   {
    "duration": 54,
    "start_time": "2022-11-11T10:53:55.196Z"
   },
   {
    "duration": 55,
    "start_time": "2022-11-11T10:53:55.252Z"
   },
   {
    "duration": 106,
    "start_time": "2022-11-11T10:53:55.310Z"
   },
   {
    "duration": 48,
    "start_time": "2022-11-11T10:53:55.418Z"
   },
   {
    "duration": 59,
    "start_time": "2022-11-11T10:53:55.468Z"
   },
   {
    "duration": 2,
    "start_time": "2022-11-11T10:53:55.529Z"
   },
   {
    "duration": 314,
    "start_time": "2022-11-11T10:53:55.533Z"
   },
   {
    "duration": 0,
    "start_time": "2022-11-11T10:53:55.849Z"
   },
   {
    "duration": 0,
    "start_time": "2022-11-11T10:53:55.850Z"
   },
   {
    "duration": 0,
    "start_time": "2022-11-11T10:53:55.851Z"
   },
   {
    "duration": 0,
    "start_time": "2022-11-11T10:53:55.851Z"
   },
   {
    "duration": 403,
    "start_time": "2022-11-11T10:54:13.174Z"
   },
   {
    "duration": 424,
    "start_time": "2022-11-11T10:54:23.006Z"
   },
   {
    "duration": 8,
    "start_time": "2022-11-11T10:54:36.075Z"
   },
   {
    "duration": 26,
    "start_time": "2022-11-11T10:55:37.148Z"
   },
   {
    "duration": 411,
    "start_time": "2022-11-11T10:56:23.068Z"
   },
   {
    "duration": 7,
    "start_time": "2022-11-11T10:56:28.546Z"
   },
   {
    "duration": 9,
    "start_time": "2022-11-11T10:57:46.608Z"
   },
   {
    "duration": 386,
    "start_time": "2022-11-11T10:57:51.329Z"
   },
   {
    "duration": 18,
    "start_time": "2022-11-11T10:59:29.007Z"
   },
   {
    "duration": 22,
    "start_time": "2022-11-11T10:59:46.807Z"
   },
   {
    "duration": 26,
    "start_time": "2022-11-11T10:59:59.528Z"
   },
   {
    "duration": 27,
    "start_time": "2022-11-11T11:00:30.076Z"
   },
   {
    "duration": 3,
    "start_time": "2022-11-11T11:01:40.159Z"
   },
   {
    "duration": 433,
    "start_time": "2022-11-11T11:02:08.174Z"
   },
   {
    "duration": 10,
    "start_time": "2022-11-11T11:02:26.953Z"
   },
   {
    "duration": 19,
    "start_time": "2022-11-11T11:02:41.880Z"
   },
   {
    "duration": 416,
    "start_time": "2022-11-11T11:04:17.371Z"
   },
   {
    "duration": 18,
    "start_time": "2022-11-11T11:04:39.074Z"
   },
   {
    "duration": 1299,
    "start_time": "2022-11-11T11:04:50.295Z"
   },
   {
    "duration": 2,
    "start_time": "2022-11-11T11:04:51.596Z"
   },
   {
    "duration": 822,
    "start_time": "2022-11-11T11:04:51.602Z"
   },
   {
    "duration": 120,
    "start_time": "2022-11-11T11:04:52.425Z"
   },
   {
    "duration": 849,
    "start_time": "2022-11-11T11:04:52.547Z"
   },
   {
    "duration": 745,
    "start_time": "2022-11-11T11:04:53.398Z"
   },
   {
    "duration": 428,
    "start_time": "2022-11-11T11:04:54.144Z"
   },
   {
    "duration": 563,
    "start_time": "2022-11-11T11:04:54.574Z"
   },
   {
    "duration": 127,
    "start_time": "2022-11-11T11:04:55.140Z"
   },
   {
    "duration": 42,
    "start_time": "2022-11-11T11:04:55.268Z"
   },
   {
    "duration": 28,
    "start_time": "2022-11-11T11:04:55.311Z"
   },
   {
    "duration": 33,
    "start_time": "2022-11-11T11:04:55.340Z"
   },
   {
    "duration": 21,
    "start_time": "2022-11-11T11:04:55.375Z"
   },
   {
    "duration": 127,
    "start_time": "2022-11-11T11:04:55.398Z"
   },
   {
    "duration": 477,
    "start_time": "2022-11-11T11:04:55.527Z"
   },
   {
    "duration": 64,
    "start_time": "2022-11-11T11:04:56.006Z"
   },
   {
    "duration": 166,
    "start_time": "2022-11-11T11:04:56.072Z"
   },
   {
    "duration": 30,
    "start_time": "2022-11-11T11:04:56.240Z"
   },
   {
    "duration": 28,
    "start_time": "2022-11-11T11:04:56.272Z"
   },
   {
    "duration": 30,
    "start_time": "2022-11-11T11:04:56.302Z"
   },
   {
    "duration": 6,
    "start_time": "2022-11-11T11:04:56.334Z"
   },
   {
    "duration": 2023,
    "start_time": "2022-11-11T11:04:56.342Z"
   },
   {
    "duration": 85,
    "start_time": "2022-11-11T11:04:58.367Z"
   },
   {
    "duration": 6,
    "start_time": "2022-11-11T11:04:58.454Z"
   },
   {
    "duration": 29,
    "start_time": "2022-11-11T11:04:58.462Z"
   },
   {
    "duration": 3,
    "start_time": "2022-11-11T11:04:58.493Z"
   },
   {
    "duration": 31,
    "start_time": "2022-11-11T11:04:58.499Z"
   },
   {
    "duration": 832,
    "start_time": "2022-11-11T11:04:58.532Z"
   },
   {
    "duration": 2,
    "start_time": "2022-11-11T11:04:59.366Z"
   },
   {
    "duration": 409,
    "start_time": "2022-11-11T11:04:59.370Z"
   },
   {
    "duration": 11,
    "start_time": "2022-11-11T11:04:59.780Z"
   },
   {
    "duration": 66,
    "start_time": "2022-11-11T11:04:59.792Z"
   },
   {
    "duration": 4,
    "start_time": "2022-11-11T11:04:59.859Z"
   },
   {
    "duration": 302,
    "start_time": "2022-11-11T11:04:59.865Z"
   },
   {
    "duration": 34,
    "start_time": "2022-11-11T11:05:00.168Z"
   },
   {
    "duration": 3,
    "start_time": "2022-11-11T11:05:00.204Z"
   },
   {
    "duration": 166,
    "start_time": "2022-11-11T11:05:00.208Z"
   },
   {
    "duration": 129,
    "start_time": "2022-11-11T11:05:00.376Z"
   },
   {
    "duration": 540126,
    "start_time": "2022-11-11T11:05:00.507Z"
   },
   {
    "duration": 83013,
    "start_time": "2022-11-11T11:14:00.634Z"
   },
   {
    "duration": 1013,
    "start_time": "2022-11-11T11:15:23.729Z"
   },
   {
    "duration": 1020570,
    "start_time": "2022-11-11T11:15:24.744Z"
   },
   {
    "duration": 20356,
    "start_time": "2022-11-11T11:32:25.315Z"
   },
   {
    "duration": 92,
    "start_time": "2022-11-11T11:32:45.672Z"
   },
   {
    "duration": 26965,
    "start_time": "2022-11-11T11:32:45.766Z"
   },
   {
    "duration": 598,
    "start_time": "2022-11-11T11:33:12.732Z"
   },
   {
    "duration": 22,
    "start_time": "2022-11-11T11:33:13.331Z"
   },
   {
    "duration": 2,
    "start_time": "2022-11-11T11:33:13.355Z"
   },
   {
    "duration": 26078,
    "start_time": "2022-11-11T11:33:13.359Z"
   },
   {
    "duration": 108099,
    "start_time": "2022-11-11T11:33:39.439Z"
   },
   {
    "duration": 300,
    "start_time": "2022-11-11T11:35:27.540Z"
   },
   {
    "duration": 10,
    "start_time": "2022-11-11T11:35:27.931Z"
   },
   {
    "duration": 105,
    "start_time": "2022-11-11T11:35:27.943Z"
   },
   {
    "duration": 12,
    "start_time": "2022-11-11T11:36:55.083Z"
   }
  ],
  "kernelspec": {
   "display_name": "Python 3 (ipykernel)",
   "language": "python",
   "name": "python3"
  },
  "language_info": {
   "codemirror_mode": {
    "name": "ipython",
    "version": 3
   },
   "file_extension": ".py",
   "mimetype": "text/x-python",
   "name": "python",
   "nbconvert_exporter": "python",
   "pygments_lexer": "ipython3",
   "version": "3.9.12"
  },
  "toc": {
   "base_numbering": 1,
   "nav_menu": {},
   "number_sections": true,
   "sideBar": true,
   "skip_h1_title": true,
   "title_cell": "Table of Contents",
   "title_sidebar": "Contents",
   "toc_cell": false,
   "toc_position": {
    "height": "calc(100% - 180px)",
    "left": "10px",
    "top": "150px",
    "width": "330.188px"
   },
   "toc_section_display": true,
   "toc_window_display": true
  }
 },
 "nbformat": 4,
 "nbformat_minor": 2
}
